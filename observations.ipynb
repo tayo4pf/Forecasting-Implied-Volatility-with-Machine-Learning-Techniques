{
 "cells": [
  {
   "cell_type": "markdown",
   "metadata": {},
   "source": [
    "Interrogating Returns Distribution Data for Stock Data\n",
    "---"
   ]
  },
  {
   "cell_type": "code",
   "execution_count": 1,
   "metadata": {},
   "outputs": [
    {
     "name": "stdout",
     "output_type": "stream",
     "text": [
      "[*********************100%%**********************]  2 of 2 completed\n"
     ]
    },
    {
     "data": {
      "text/html": [
       "<div>\n",
       "<style scoped>\n",
       "    .dataframe tbody tr th:only-of-type {\n",
       "        vertical-align: middle;\n",
       "    }\n",
       "\n",
       "    .dataframe tbody tr th {\n",
       "        vertical-align: top;\n",
       "    }\n",
       "\n",
       "    .dataframe thead tr th {\n",
       "        text-align: left;\n",
       "    }\n",
       "\n",
       "    .dataframe thead tr:last-of-type th {\n",
       "        text-align: right;\n",
       "    }\n",
       "</style>\n",
       "<table border=\"1\" class=\"dataframe\">\n",
       "  <thead>\n",
       "    <tr>\n",
       "      <th></th>\n",
       "      <th colspan=\"2\" halign=\"left\">Adj Close</th>\n",
       "      <th colspan=\"2\" halign=\"left\">Close</th>\n",
       "      <th colspan=\"2\" halign=\"left\">High</th>\n",
       "      <th colspan=\"2\" halign=\"left\">Low</th>\n",
       "      <th colspan=\"2\" halign=\"left\">Open</th>\n",
       "      <th colspan=\"2\" halign=\"left\">Volume</th>\n",
       "    </tr>\n",
       "    <tr>\n",
       "      <th></th>\n",
       "      <th>AAPL</th>\n",
       "      <th>MSFT</th>\n",
       "      <th>AAPL</th>\n",
       "      <th>MSFT</th>\n",
       "      <th>AAPL</th>\n",
       "      <th>MSFT</th>\n",
       "      <th>AAPL</th>\n",
       "      <th>MSFT</th>\n",
       "      <th>AAPL</th>\n",
       "      <th>MSFT</th>\n",
       "      <th>AAPL</th>\n",
       "      <th>MSFT</th>\n",
       "    </tr>\n",
       "    <tr>\n",
       "      <th>Date</th>\n",
       "      <th></th>\n",
       "      <th></th>\n",
       "      <th></th>\n",
       "      <th></th>\n",
       "      <th></th>\n",
       "      <th></th>\n",
       "      <th></th>\n",
       "      <th></th>\n",
       "      <th></th>\n",
       "      <th></th>\n",
       "      <th></th>\n",
       "      <th></th>\n",
       "    </tr>\n",
       "  </thead>\n",
       "  <tbody>\n",
       "    <tr>\n",
       "      <th>2022-01-03</th>\n",
       "      <td>179.953888</td>\n",
       "      <td>328.727722</td>\n",
       "      <td>182.009995</td>\n",
       "      <td>334.750000</td>\n",
       "      <td>182.880005</td>\n",
       "      <td>338.000000</td>\n",
       "      <td>177.710007</td>\n",
       "      <td>329.779999</td>\n",
       "      <td>177.830002</td>\n",
       "      <td>335.350006</td>\n",
       "      <td>104487900</td>\n",
       "      <td>28865100</td>\n",
       "    </tr>\n",
       "    <tr>\n",
       "      <th>2022-01-04</th>\n",
       "      <td>177.669998</td>\n",
       "      <td>323.090942</td>\n",
       "      <td>179.699997</td>\n",
       "      <td>329.010010</td>\n",
       "      <td>182.940002</td>\n",
       "      <td>335.200012</td>\n",
       "      <td>179.119995</td>\n",
       "      <td>326.119995</td>\n",
       "      <td>182.630005</td>\n",
       "      <td>334.829987</td>\n",
       "      <td>99310400</td>\n",
       "      <td>32674300</td>\n",
       "    </tr>\n",
       "    <tr>\n",
       "      <th>2022-01-05</th>\n",
       "      <td>172.943985</td>\n",
       "      <td>310.688171</td>\n",
       "      <td>174.919998</td>\n",
       "      <td>316.380005</td>\n",
       "      <td>180.169998</td>\n",
       "      <td>326.070007</td>\n",
       "      <td>174.639999</td>\n",
       "      <td>315.980011</td>\n",
       "      <td>179.610001</td>\n",
       "      <td>325.859985</td>\n",
       "      <td>94537600</td>\n",
       "      <td>40054300</td>\n",
       "    </tr>\n",
       "    <tr>\n",
       "      <th>2022-01-06</th>\n",
       "      <td>170.056961</td>\n",
       "      <td>308.233154</td>\n",
       "      <td>172.000000</td>\n",
       "      <td>313.880005</td>\n",
       "      <td>175.300003</td>\n",
       "      <td>318.700012</td>\n",
       "      <td>171.639999</td>\n",
       "      <td>311.489990</td>\n",
       "      <td>172.699997</td>\n",
       "      <td>313.149994</td>\n",
       "      <td>96904000</td>\n",
       "      <td>39646100</td>\n",
       "    </tr>\n",
       "    <tr>\n",
       "      <th>2022-01-07</th>\n",
       "      <td>170.225067</td>\n",
       "      <td>308.390259</td>\n",
       "      <td>172.169998</td>\n",
       "      <td>314.040009</td>\n",
       "      <td>174.139999</td>\n",
       "      <td>316.500000</td>\n",
       "      <td>171.029999</td>\n",
       "      <td>310.089996</td>\n",
       "      <td>172.889999</td>\n",
       "      <td>314.149994</td>\n",
       "      <td>86709100</td>\n",
       "      <td>32720000</td>\n",
       "    </tr>\n",
       "  </tbody>\n",
       "</table>\n",
       "</div>"
      ],
      "text/plain": [
       "             Adj Close                   Close                    High  \\\n",
       "                  AAPL        MSFT        AAPL        MSFT        AAPL   \n",
       "Date                                                                     \n",
       "2022-01-03  179.953888  328.727722  182.009995  334.750000  182.880005   \n",
       "2022-01-04  177.669998  323.090942  179.699997  329.010010  182.940002   \n",
       "2022-01-05  172.943985  310.688171  174.919998  316.380005  180.169998   \n",
       "2022-01-06  170.056961  308.233154  172.000000  313.880005  175.300003   \n",
       "2022-01-07  170.225067  308.390259  172.169998  314.040009  174.139999   \n",
       "\n",
       "                               Low                    Open              \\\n",
       "                  MSFT        AAPL        MSFT        AAPL        MSFT   \n",
       "Date                                                                     \n",
       "2022-01-03  338.000000  177.710007  329.779999  177.830002  335.350006   \n",
       "2022-01-04  335.200012  179.119995  326.119995  182.630005  334.829987   \n",
       "2022-01-05  326.070007  174.639999  315.980011  179.610001  325.859985   \n",
       "2022-01-06  318.700012  171.639999  311.489990  172.699997  313.149994   \n",
       "2022-01-07  316.500000  171.029999  310.089996  172.889999  314.149994   \n",
       "\n",
       "               Volume            \n",
       "                 AAPL      MSFT  \n",
       "Date                             \n",
       "2022-01-03  104487900  28865100  \n",
       "2022-01-04   99310400  32674300  \n",
       "2022-01-05   94537600  40054300  \n",
       "2022-01-06   96904000  39646100  \n",
       "2022-01-07   86709100  32720000  "
      ]
     },
     "metadata": {},
     "output_type": "display_data"
    }
   ],
   "source": [
    "from pandas_datareader import data as pdr\n",
    "import yfinance as yf\n",
    "\n",
    "yf.pdr_override()\n",
    "\n",
    "data = pdr.get_data_yahoo(\"msft aapl\", start=\"2022-01-01\", end=\"2022-12-31\")\n",
    "display(data.head())"
   ]
  },
  {
   "cell_type": "code",
   "execution_count": 2,
   "metadata": {},
   "outputs": [
    {
     "name": "stdout",
     "output_type": "stream",
     "text": [
      "  Symbol     Security             GICS Sector               GICS Sub-Industry  \\\n",
      "0    MMM           3M             Industrials        Industrial Conglomerates   \n",
      "1    AOS  A. O. Smith             Industrials               Building Products   \n",
      "2    ABT       Abbott             Health Care           Health Care Equipment   \n",
      "3   ABBV       AbbVie             Health Care                   Biotechnology   \n",
      "4    ACN    Accenture  Information Technology  IT Consulting & Other Services   \n",
      "\n",
      "     Headquarters Location  Date added      CIK      Founded  \n",
      "0    Saint Paul, Minnesota  1957-03-04    66740         1902  \n",
      "1     Milwaukee, Wisconsin  2017-07-26    91142         1916  \n",
      "2  North Chicago, Illinois  1957-03-04     1800         1888  \n",
      "3  North Chicago, Illinois  2012-12-31  1551152  2013 (1888)  \n",
      "4          Dublin, Ireland  2011-07-06  1467373         1989  \n"
     ]
    }
   ],
   "source": [
    "import pandas as pd\n",
    "\n",
    "tickers = pd.read_html(\n",
    "    'https://en.wikipedia.org/wiki/List_of_S%26P_500_companies')[0]\n",
    "print(tickers.head())"
   ]
  },
  {
   "cell_type": "code",
   "execution_count": 3,
   "metadata": {},
   "outputs": [
    {
     "name": "stdout",
     "output_type": "stream",
     "text": [
      "[*********************100%%**********************]  503 of 503 completed"
     ]
    },
    {
     "name": "stderr",
     "output_type": "stream",
     "text": [
      "\n",
      "18 Failed downloads:\n",
      "['CARR', 'INVH', 'FOXA', 'VICI', 'KVUE', 'CTVA', 'CEG', 'CDAY', 'MRNA', 'ABNB', 'VLTO', 'DOW', 'FOX', 'IR', 'OTIS', 'GEHC']: Exception(\"%ticker%: Data doesn't exist for startDate = 1451624400, endDate = 1483160400\")\n",
      "['BRK.B']: Exception('%ticker%: No timezone found, symbol may be delisted')\n",
      "['BF.B']: Exception('%ticker%: No price data found, symbol may be delisted (1d 2016-01-01 -> 2016-12-31)')\n"
     ]
    },
    {
     "name": "stdout",
     "output_type": "stream",
     "text": [
      "\n"
     ]
    },
    {
     "data": {
      "text/html": [
       "<div>\n",
       "<style scoped>\n",
       "    .dataframe tbody tr th:only-of-type {\n",
       "        vertical-align: middle;\n",
       "    }\n",
       "\n",
       "    .dataframe tbody tr th {\n",
       "        vertical-align: top;\n",
       "    }\n",
       "\n",
       "    .dataframe thead tr th {\n",
       "        text-align: left;\n",
       "    }\n",
       "\n",
       "    .dataframe thead tr:last-of-type th {\n",
       "        text-align: right;\n",
       "    }\n",
       "</style>\n",
       "<table border=\"1\" class=\"dataframe\">\n",
       "  <thead>\n",
       "    <tr>\n",
       "      <th></th>\n",
       "      <th colspan=\"10\" halign=\"left\">Adj Close</th>\n",
       "      <th>...</th>\n",
       "      <th colspan=\"10\" halign=\"left\">Volume</th>\n",
       "    </tr>\n",
       "    <tr>\n",
       "      <th></th>\n",
       "      <th>A</th>\n",
       "      <th>AAL</th>\n",
       "      <th>AAPL</th>\n",
       "      <th>ABBV</th>\n",
       "      <th>ABNB</th>\n",
       "      <th>ABT</th>\n",
       "      <th>ACGL</th>\n",
       "      <th>ACN</th>\n",
       "      <th>ADBE</th>\n",
       "      <th>ADI</th>\n",
       "      <th>...</th>\n",
       "      <th>WYNN</th>\n",
       "      <th>XEL</th>\n",
       "      <th>XOM</th>\n",
       "      <th>XRAY</th>\n",
       "      <th>XYL</th>\n",
       "      <th>YUM</th>\n",
       "      <th>ZBH</th>\n",
       "      <th>ZBRA</th>\n",
       "      <th>ZION</th>\n",
       "      <th>ZTS</th>\n",
       "    </tr>\n",
       "    <tr>\n",
       "      <th>Date</th>\n",
       "      <th></th>\n",
       "      <th></th>\n",
       "      <th></th>\n",
       "      <th></th>\n",
       "      <th></th>\n",
       "      <th></th>\n",
       "      <th></th>\n",
       "      <th></th>\n",
       "      <th></th>\n",
       "      <th></th>\n",
       "      <th></th>\n",
       "      <th></th>\n",
       "      <th></th>\n",
       "      <th></th>\n",
       "      <th></th>\n",
       "      <th></th>\n",
       "      <th></th>\n",
       "      <th></th>\n",
       "      <th></th>\n",
       "      <th></th>\n",
       "      <th></th>\n",
       "    </tr>\n",
       "  </thead>\n",
       "  <tbody>\n",
       "    <tr>\n",
       "      <th>2016-01-04 00:00:00</th>\n",
       "      <td>38.198948</td>\n",
       "      <td>39.095455</td>\n",
       "      <td>23.977478</td>\n",
       "      <td>40.778076</td>\n",
       "      <td>NaN</td>\n",
       "      <td>36.956322</td>\n",
       "      <td>22.950001</td>\n",
       "      <td>89.603127</td>\n",
       "      <td>91.970001</td>\n",
       "      <td>46.181301</td>\n",
       "      <td>...</td>\n",
       "      <td>4249800</td>\n",
       "      <td>2819300</td>\n",
       "      <td>20400100</td>\n",
       "      <td>1387100</td>\n",
       "      <td>1353400</td>\n",
       "      <td>4821623</td>\n",
       "      <td>2104084</td>\n",
       "      <td>656200</td>\n",
       "      <td>3523300</td>\n",
       "      <td>2871700</td>\n",
       "    </tr>\n",
       "    <tr>\n",
       "      <th>2016-01-05 00:00:00</th>\n",
       "      <td>38.067505</td>\n",
       "      <td>38.722759</td>\n",
       "      <td>23.376614</td>\n",
       "      <td>40.608192</td>\n",
       "      <td>NaN</td>\n",
       "      <td>36.947701</td>\n",
       "      <td>23.033333</td>\n",
       "      <td>90.069481</td>\n",
       "      <td>92.339996</td>\n",
       "      <td>45.841988</td>\n",
       "      <td>...</td>\n",
       "      <td>4286100</td>\n",
       "      <td>2141200</td>\n",
       "      <td>11993500</td>\n",
       "      <td>1611200</td>\n",
       "      <td>1075400</td>\n",
       "      <td>5273420</td>\n",
       "      <td>2294737</td>\n",
       "      <td>611300</td>\n",
       "      <td>2653600</td>\n",
       "      <td>3116700</td>\n",
       "    </tr>\n",
       "    <tr>\n",
       "      <th>2016-01-06 00:00:00</th>\n",
       "      <td>38.236485</td>\n",
       "      <td>39.401264</td>\n",
       "      <td>22.919146</td>\n",
       "      <td>40.615280</td>\n",
       "      <td>NaN</td>\n",
       "      <td>36.637791</td>\n",
       "      <td>23.070000</td>\n",
       "      <td>89.893501</td>\n",
       "      <td>91.019997</td>\n",
       "      <td>43.890907</td>\n",
       "      <td>...</td>\n",
       "      <td>3316100</td>\n",
       "      <td>5191900</td>\n",
       "      <td>18826900</td>\n",
       "      <td>1179700</td>\n",
       "      <td>1866000</td>\n",
       "      <td>5049330</td>\n",
       "      <td>2751233</td>\n",
       "      <td>881900</td>\n",
       "      <td>4164200</td>\n",
       "      <td>4670500</td>\n",
       "    </tr>\n",
       "    <tr>\n",
       "      <th>2016-01-07 00:00:00</th>\n",
       "      <td>36.612396</td>\n",
       "      <td>38.655872</td>\n",
       "      <td>21.951851</td>\n",
       "      <td>40.494934</td>\n",
       "      <td>NaN</td>\n",
       "      <td>35.759724</td>\n",
       "      <td>23.046667</td>\n",
       "      <td>87.253700</td>\n",
       "      <td>89.110001</td>\n",
       "      <td>42.771160</td>\n",
       "      <td>...</td>\n",
       "      <td>5525600</td>\n",
       "      <td>5212200</td>\n",
       "      <td>21263800</td>\n",
       "      <td>1140400</td>\n",
       "      <td>1555400</td>\n",
       "      <td>11005453</td>\n",
       "      <td>1829589</td>\n",
       "      <td>1210600</td>\n",
       "      <td>4234000</td>\n",
       "      <td>4324400</td>\n",
       "    </tr>\n",
       "    <tr>\n",
       "      <th>2016-01-08 00:00:00</th>\n",
       "      <td>36.227505</td>\n",
       "      <td>38.579411</td>\n",
       "      <td>22.067926</td>\n",
       "      <td>39.390728</td>\n",
       "      <td>NaN</td>\n",
       "      <td>35.010780</td>\n",
       "      <td>22.806667</td>\n",
       "      <td>86.408981</td>\n",
       "      <td>87.849998</td>\n",
       "      <td>42.397896</td>\n",
       "      <td>...</td>\n",
       "      <td>5740000</td>\n",
       "      <td>3005400</td>\n",
       "      <td>19033600</td>\n",
       "      <td>1233700</td>\n",
       "      <td>1471500</td>\n",
       "      <td>5996184</td>\n",
       "      <td>1670969</td>\n",
       "      <td>1034700</td>\n",
       "      <td>3401600</td>\n",
       "      <td>4946100</td>\n",
       "    </tr>\n",
       "  </tbody>\n",
       "</table>\n",
       "<p>5 rows × 3018 columns</p>\n",
       "</div>"
      ],
      "text/plain": [
       "                     Adj Close                                        \\\n",
       "                             A        AAL       AAPL       ABBV ABNB   \n",
       "Date                                                                   \n",
       "2016-01-04 00:00:00  38.198948  39.095455  23.977478  40.778076  NaN   \n",
       "2016-01-05 00:00:00  38.067505  38.722759  23.376614  40.608192  NaN   \n",
       "2016-01-06 00:00:00  38.236485  39.401264  22.919146  40.615280  NaN   \n",
       "2016-01-07 00:00:00  36.612396  38.655872  21.951851  40.494934  NaN   \n",
       "2016-01-08 00:00:00  36.227505  38.579411  22.067926  39.390728  NaN   \n",
       "\n",
       "                                                                            \\\n",
       "                           ABT       ACGL        ACN       ADBE        ADI   \n",
       "Date                                                                         \n",
       "2016-01-04 00:00:00  36.956322  22.950001  89.603127  91.970001  46.181301   \n",
       "2016-01-05 00:00:00  36.947701  23.033333  90.069481  92.339996  45.841988   \n",
       "2016-01-06 00:00:00  36.637791  23.070000  89.893501  91.019997  43.890907   \n",
       "2016-01-07 00:00:00  35.759724  23.046667  87.253700  89.110001  42.771160   \n",
       "2016-01-08 00:00:00  35.010780  22.806667  86.408981  87.849998  42.397896   \n",
       "\n",
       "                     ...   Volume                                       \\\n",
       "                     ...     WYNN      XEL       XOM     XRAY      XYL   \n",
       "Date                 ...                                                 \n",
       "2016-01-04 00:00:00  ...  4249800  2819300  20400100  1387100  1353400   \n",
       "2016-01-05 00:00:00  ...  4286100  2141200  11993500  1611200  1075400   \n",
       "2016-01-06 00:00:00  ...  3316100  5191900  18826900  1179700  1866000   \n",
       "2016-01-07 00:00:00  ...  5525600  5212200  21263800  1140400  1555400   \n",
       "2016-01-08 00:00:00  ...  5740000  3005400  19033600  1233700  1471500   \n",
       "\n",
       "                                                                   \n",
       "                          YUM      ZBH     ZBRA     ZION      ZTS  \n",
       "Date                                                               \n",
       "2016-01-04 00:00:00   4821623  2104084   656200  3523300  2871700  \n",
       "2016-01-05 00:00:00   5273420  2294737   611300  2653600  3116700  \n",
       "2016-01-06 00:00:00   5049330  2751233   881900  4164200  4670500  \n",
       "2016-01-07 00:00:00  11005453  1829589  1210600  4234000  4324400  \n",
       "2016-01-08 00:00:00   5996184  1670969  1034700  3401600  4946100  \n",
       "\n",
       "[5 rows x 3018 columns]"
      ]
     },
     "execution_count": 3,
     "metadata": {},
     "output_type": "execute_result"
    }
   ],
   "source": [
    "data = pdr.get_data_yahoo(tickers.Symbol.to_list(), start=\"2016-01-01\", end=\"2016-12-31\")\n",
    "data.head()"
   ]
  },
  {
   "cell_type": "markdown",
   "metadata": {},
   "source": [
    "Finding log returns for stock data"
   ]
  },
  {
   "cell_type": "code",
   "execution_count": 4,
   "metadata": {},
   "outputs": [
    {
     "name": "stderr",
     "output_type": "stream",
     "text": [
      "/var/folders/c0/_1r630sx6bx7dllfq1l9hgrh0000gn/T/ipykernel_53234/804343652.py:3: FutureWarning: The default fill_method='pad' in DataFrame.pct_change is deprecated and will be removed in a future version. Either fill in any non-leading NA values prior to calling pct_change or specify 'fill_method=None' to not fill NA values.\n",
      "  returns = np.log1p(data[\"Adj Close\"].pct_change())\n",
      "/var/folders/c0/_1r630sx6bx7dllfq1l9hgrh0000gn/T/ipykernel_53234/804343652.py:5: PerformanceWarning: DataFrame is highly fragmented.  This is usually the result of calling `frame.insert` many times, which has poor performance.  Consider joining all columns at once using pd.concat(axis=1) instead. To get a de-fragmented frame, use `newframe = frame.copy()`\n",
      "  data[(\"Daily Log Returns\",name)] = returns[name]\n"
     ]
    },
    {
     "data": {
      "text/html": [
       "<div>\n",
       "<style scoped>\n",
       "    .dataframe tbody tr th:only-of-type {\n",
       "        vertical-align: middle;\n",
       "    }\n",
       "\n",
       "    .dataframe tbody tr th {\n",
       "        vertical-align: top;\n",
       "    }\n",
       "\n",
       "    .dataframe thead th {\n",
       "        text-align: right;\n",
       "    }\n",
       "</style>\n",
       "<table border=\"1\" class=\"dataframe\">\n",
       "  <thead>\n",
       "    <tr style=\"text-align: right;\">\n",
       "      <th></th>\n",
       "      <th>A</th>\n",
       "      <th>AAL</th>\n",
       "      <th>AAPL</th>\n",
       "      <th>ABBV</th>\n",
       "      <th>ABNB</th>\n",
       "      <th>ABT</th>\n",
       "      <th>ACGL</th>\n",
       "      <th>ACN</th>\n",
       "      <th>ADBE</th>\n",
       "      <th>ADI</th>\n",
       "      <th>...</th>\n",
       "      <th>WYNN</th>\n",
       "      <th>XEL</th>\n",
       "      <th>XOM</th>\n",
       "      <th>XRAY</th>\n",
       "      <th>XYL</th>\n",
       "      <th>YUM</th>\n",
       "      <th>ZBH</th>\n",
       "      <th>ZBRA</th>\n",
       "      <th>ZION</th>\n",
       "      <th>ZTS</th>\n",
       "    </tr>\n",
       "    <tr>\n",
       "      <th>Date</th>\n",
       "      <th></th>\n",
       "      <th></th>\n",
       "      <th></th>\n",
       "      <th></th>\n",
       "      <th></th>\n",
       "      <th></th>\n",
       "      <th></th>\n",
       "      <th></th>\n",
       "      <th></th>\n",
       "      <th></th>\n",
       "      <th></th>\n",
       "      <th></th>\n",
       "      <th></th>\n",
       "      <th></th>\n",
       "      <th></th>\n",
       "      <th></th>\n",
       "      <th></th>\n",
       "      <th></th>\n",
       "      <th></th>\n",
       "      <th></th>\n",
       "      <th></th>\n",
       "    </tr>\n",
       "  </thead>\n",
       "  <tbody>\n",
       "    <tr>\n",
       "      <th>2016-01-04 00:00:00</th>\n",
       "      <td>NaN</td>\n",
       "      <td>NaN</td>\n",
       "      <td>NaN</td>\n",
       "      <td>NaN</td>\n",
       "      <td>NaN</td>\n",
       "      <td>NaN</td>\n",
       "      <td>NaN</td>\n",
       "      <td>NaN</td>\n",
       "      <td>NaN</td>\n",
       "      <td>NaN</td>\n",
       "      <td>...</td>\n",
       "      <td>NaN</td>\n",
       "      <td>NaN</td>\n",
       "      <td>NaN</td>\n",
       "      <td>NaN</td>\n",
       "      <td>NaN</td>\n",
       "      <td>NaN</td>\n",
       "      <td>NaN</td>\n",
       "      <td>NaN</td>\n",
       "      <td>NaN</td>\n",
       "      <td>NaN</td>\n",
       "    </tr>\n",
       "    <tr>\n",
       "      <th>2016-01-05 00:00:00</th>\n",
       "      <td>-0.003447</td>\n",
       "      <td>-0.009579</td>\n",
       "      <td>-0.025379</td>\n",
       "      <td>-0.004175</td>\n",
       "      <td>NaN</td>\n",
       "      <td>-0.000233</td>\n",
       "      <td>0.003624</td>\n",
       "      <td>0.005191</td>\n",
       "      <td>0.004015</td>\n",
       "      <td>-0.007375</td>\n",
       "      <td>...</td>\n",
       "      <td>0.018727</td>\n",
       "      <td>0.010033</td>\n",
       "      <td>0.008485</td>\n",
       "      <td>0.020182</td>\n",
       "      <td>-0.000278</td>\n",
       "      <td>-0.002496</td>\n",
       "      <td>0.020610</td>\n",
       "      <td>-0.025437</td>\n",
       "      <td>-0.010917</td>\n",
       "      <td>0.015533</td>\n",
       "    </tr>\n",
       "    <tr>\n",
       "      <th>2016-01-06 00:00:00</th>\n",
       "      <td>0.004429</td>\n",
       "      <td>0.017370</td>\n",
       "      <td>-0.019763</td>\n",
       "      <td>0.000175</td>\n",
       "      <td>NaN</td>\n",
       "      <td>-0.008423</td>\n",
       "      <td>0.001591</td>\n",
       "      <td>-0.001956</td>\n",
       "      <td>-0.014398</td>\n",
       "      <td>-0.043493</td>\n",
       "      <td>...</td>\n",
       "      <td>-0.053196</td>\n",
       "      <td>0.010483</td>\n",
       "      <td>-0.008355</td>\n",
       "      <td>-0.014591</td>\n",
       "      <td>-0.012554</td>\n",
       "      <td>-0.007106</td>\n",
       "      <td>0.004320</td>\n",
       "      <td>-0.040777</td>\n",
       "      <td>-0.029578</td>\n",
       "      <td>0.000209</td>\n",
       "    </tr>\n",
       "    <tr>\n",
       "      <th>2016-01-07 00:00:00</th>\n",
       "      <td>-0.043403</td>\n",
       "      <td>-0.019099</td>\n",
       "      <td>-0.043121</td>\n",
       "      <td>-0.002967</td>\n",
       "      <td>NaN</td>\n",
       "      <td>-0.024258</td>\n",
       "      <td>-0.001012</td>\n",
       "      <td>-0.029806</td>\n",
       "      <td>-0.021208</td>\n",
       "      <td>-0.025843</td>\n",
       "      <td>...</td>\n",
       "      <td>-0.098793</td>\n",
       "      <td>0.003834</td>\n",
       "      <td>-0.016135</td>\n",
       "      <td>-0.008824</td>\n",
       "      <td>-0.026167</td>\n",
       "      <td>-0.034712</td>\n",
       "      <td>-0.023261</td>\n",
       "      <td>-0.046375</td>\n",
       "      <td>-0.030480</td>\n",
       "      <td>-0.030876</td>\n",
       "    </tr>\n",
       "    <tr>\n",
       "      <th>2016-01-08 00:00:00</th>\n",
       "      <td>-0.010568</td>\n",
       "      <td>-0.001980</td>\n",
       "      <td>0.005274</td>\n",
       "      <td>-0.027646</td>\n",
       "      <td>NaN</td>\n",
       "      <td>-0.021166</td>\n",
       "      <td>-0.010468</td>\n",
       "      <td>-0.009728</td>\n",
       "      <td>-0.014241</td>\n",
       "      <td>-0.008765</td>\n",
       "      <td>...</td>\n",
       "      <td>-0.041556</td>\n",
       "      <td>-0.010995</td>\n",
       "      <td>-0.020409</td>\n",
       "      <td>-0.029053</td>\n",
       "      <td>-0.009556</td>\n",
       "      <td>-0.013701</td>\n",
       "      <td>-0.004226</td>\n",
       "      <td>-0.002697</td>\n",
       "      <td>-0.011318</td>\n",
       "      <td>-0.014712</td>\n",
       "    </tr>\n",
       "  </tbody>\n",
       "</table>\n",
       "<p>5 rows × 503 columns</p>\n",
       "</div>"
      ],
      "text/plain": [
       "                            A       AAL      AAPL      ABBV  ABNB       ABT  \\\n",
       "Date                                                                          \n",
       "2016-01-04 00:00:00       NaN       NaN       NaN       NaN   NaN       NaN   \n",
       "2016-01-05 00:00:00 -0.003447 -0.009579 -0.025379 -0.004175   NaN -0.000233   \n",
       "2016-01-06 00:00:00  0.004429  0.017370 -0.019763  0.000175   NaN -0.008423   \n",
       "2016-01-07 00:00:00 -0.043403 -0.019099 -0.043121 -0.002967   NaN -0.024258   \n",
       "2016-01-08 00:00:00 -0.010568 -0.001980  0.005274 -0.027646   NaN -0.021166   \n",
       "\n",
       "                         ACGL       ACN      ADBE       ADI  ...      WYNN  \\\n",
       "Date                                                         ...             \n",
       "2016-01-04 00:00:00       NaN       NaN       NaN       NaN  ...       NaN   \n",
       "2016-01-05 00:00:00  0.003624  0.005191  0.004015 -0.007375  ...  0.018727   \n",
       "2016-01-06 00:00:00  0.001591 -0.001956 -0.014398 -0.043493  ... -0.053196   \n",
       "2016-01-07 00:00:00 -0.001012 -0.029806 -0.021208 -0.025843  ... -0.098793   \n",
       "2016-01-08 00:00:00 -0.010468 -0.009728 -0.014241 -0.008765  ... -0.041556   \n",
       "\n",
       "                          XEL       XOM      XRAY       XYL       YUM  \\\n",
       "Date                                                                    \n",
       "2016-01-04 00:00:00       NaN       NaN       NaN       NaN       NaN   \n",
       "2016-01-05 00:00:00  0.010033  0.008485  0.020182 -0.000278 -0.002496   \n",
       "2016-01-06 00:00:00  0.010483 -0.008355 -0.014591 -0.012554 -0.007106   \n",
       "2016-01-07 00:00:00  0.003834 -0.016135 -0.008824 -0.026167 -0.034712   \n",
       "2016-01-08 00:00:00 -0.010995 -0.020409 -0.029053 -0.009556 -0.013701   \n",
       "\n",
       "                          ZBH      ZBRA      ZION       ZTS  \n",
       "Date                                                         \n",
       "2016-01-04 00:00:00       NaN       NaN       NaN       NaN  \n",
       "2016-01-05 00:00:00  0.020610 -0.025437 -0.010917  0.015533  \n",
       "2016-01-06 00:00:00  0.004320 -0.040777 -0.029578  0.000209  \n",
       "2016-01-07 00:00:00 -0.023261 -0.046375 -0.030480 -0.030876  \n",
       "2016-01-08 00:00:00 -0.004226 -0.002697 -0.011318 -0.014712  \n",
       "\n",
       "[5 rows x 503 columns]"
      ]
     },
     "execution_count": 4,
     "metadata": {},
     "output_type": "execute_result"
    }
   ],
   "source": [
    "import numpy as np\n",
    "\n",
    "returns = np.log1p(data[\"Adj Close\"].pct_change())\n",
    "for name in returns.columns:\n",
    "    data[(\"Daily Log Returns\",name)] = returns[name]\n",
    "returns.head()"
   ]
  },
  {
   "cell_type": "code",
   "execution_count": 6,
   "metadata": {},
   "outputs": [
    {
     "data": {
      "text/html": [
       "<div>\n",
       "<style scoped>\n",
       "    .dataframe tbody tr th:only-of-type {\n",
       "        vertical-align: middle;\n",
       "    }\n",
       "\n",
       "    .dataframe tbody tr th {\n",
       "        vertical-align: top;\n",
       "    }\n",
       "\n",
       "    .dataframe thead th {\n",
       "        text-align: right;\n",
       "    }\n",
       "</style>\n",
       "<table border=\"1\" class=\"dataframe\">\n",
       "  <thead>\n",
       "    <tr style=\"text-align: right;\">\n",
       "      <th></th>\n",
       "      <th>A</th>\n",
       "      <th>AAL</th>\n",
       "      <th>AAPL</th>\n",
       "      <th>ABBV</th>\n",
       "      <th>ABT</th>\n",
       "      <th>ACGL</th>\n",
       "      <th>ACN</th>\n",
       "      <th>ADBE</th>\n",
       "      <th>ADI</th>\n",
       "      <th>ADM</th>\n",
       "      <th>...</th>\n",
       "      <th>WYNN</th>\n",
       "      <th>XEL</th>\n",
       "      <th>XOM</th>\n",
       "      <th>XRAY</th>\n",
       "      <th>XYL</th>\n",
       "      <th>YUM</th>\n",
       "      <th>ZBH</th>\n",
       "      <th>ZBRA</th>\n",
       "      <th>ZION</th>\n",
       "      <th>ZTS</th>\n",
       "    </tr>\n",
       "    <tr>\n",
       "      <th>Date</th>\n",
       "      <th></th>\n",
       "      <th></th>\n",
       "      <th></th>\n",
       "      <th></th>\n",
       "      <th></th>\n",
       "      <th></th>\n",
       "      <th></th>\n",
       "      <th></th>\n",
       "      <th></th>\n",
       "      <th></th>\n",
       "      <th></th>\n",
       "      <th></th>\n",
       "      <th></th>\n",
       "      <th></th>\n",
       "      <th></th>\n",
       "      <th></th>\n",
       "      <th></th>\n",
       "      <th></th>\n",
       "      <th></th>\n",
       "      <th></th>\n",
       "      <th></th>\n",
       "    </tr>\n",
       "  </thead>\n",
       "  <tbody>\n",
       "    <tr>\n",
       "      <th>2016-12-23 00:00:00</th>\n",
       "      <td>0.004991</td>\n",
       "      <td>-0.004322</td>\n",
       "      <td>0.001976</td>\n",
       "      <td>0.010968</td>\n",
       "      <td>0.003389</td>\n",
       "      <td>0.001835</td>\n",
       "      <td>-0.002635</td>\n",
       "      <td>0.002861</td>\n",
       "      <td>0.005295</td>\n",
       "      <td>-0.000664</td>\n",
       "      <td>...</td>\n",
       "      <td>0.001019</td>\n",
       "      <td>0.000000</td>\n",
       "      <td>-0.001762</td>\n",
       "      <td>0.001859</td>\n",
       "      <td>-0.002350</td>\n",
       "      <td>-0.003754</td>\n",
       "      <td>0.007357</td>\n",
       "      <td>0.002897</td>\n",
       "      <td>0.002740</td>\n",
       "      <td>0.009716</td>\n",
       "    </tr>\n",
       "    <tr>\n",
       "      <th>2016-12-27 00:00:00</th>\n",
       "      <td>0.006688</td>\n",
       "      <td>0.002678</td>\n",
       "      <td>0.006331</td>\n",
       "      <td>0.002563</td>\n",
       "      <td>0.004674</td>\n",
       "      <td>-0.006324</td>\n",
       "      <td>0.000596</td>\n",
       "      <td>-0.000381</td>\n",
       "      <td>0.006346</td>\n",
       "      <td>0.011014</td>\n",
       "      <td>...</td>\n",
       "      <td>-0.001133</td>\n",
       "      <td>0.001474</td>\n",
       "      <td>0.000441</td>\n",
       "      <td>-0.002874</td>\n",
       "      <td>-0.002945</td>\n",
       "      <td>0.003442</td>\n",
       "      <td>0.007982</td>\n",
       "      <td>0.007264</td>\n",
       "      <td>0.001595</td>\n",
       "      <td>-0.001116</td>\n",
       "    </tr>\n",
       "    <tr>\n",
       "      <th>2016-12-28 00:00:00</th>\n",
       "      <td>-0.017132</td>\n",
       "      <td>-0.019527</td>\n",
       "      <td>-0.004273</td>\n",
       "      <td>-0.003687</td>\n",
       "      <td>-0.009893</td>\n",
       "      <td>-0.008107</td>\n",
       "      <td>-0.008029</td>\n",
       "      <td>-0.011593</td>\n",
       "      <td>-0.010144</td>\n",
       "      <td>-0.006814</td>\n",
       "      <td>...</td>\n",
       "      <td>-0.013233</td>\n",
       "      <td>-0.010862</td>\n",
       "      <td>-0.004971</td>\n",
       "      <td>-0.014376</td>\n",
       "      <td>-0.018254</td>\n",
       "      <td>-0.004853</td>\n",
       "      <td>0.001554</td>\n",
       "      <td>-0.016681</td>\n",
       "      <td>-0.014907</td>\n",
       "      <td>-0.005226</td>\n",
       "    </tr>\n",
       "    <tr>\n",
       "      <th>2016-12-29 00:00:00</th>\n",
       "      <td>0.001140</td>\n",
       "      <td>-0.008849</td>\n",
       "      <td>-0.000257</td>\n",
       "      <td>0.007360</td>\n",
       "      <td>0.002352</td>\n",
       "      <td>0.001046</td>\n",
       "      <td>0.003425</td>\n",
       "      <td>-0.000868</td>\n",
       "      <td>0.000272</td>\n",
       "      <td>0.000441</td>\n",
       "      <td>...</td>\n",
       "      <td>0.001033</td>\n",
       "      <td>0.016004</td>\n",
       "      <td>0.000553</td>\n",
       "      <td>0.001718</td>\n",
       "      <td>-0.003410</td>\n",
       "      <td>-0.001413</td>\n",
       "      <td>0.004260</td>\n",
       "      <td>0.003847</td>\n",
       "      <td>-0.011386</td>\n",
       "      <td>0.003363</td>\n",
       "    </tr>\n",
       "    <tr>\n",
       "      <th>2016-12-30 00:00:00</th>\n",
       "      <td>-0.001754</td>\n",
       "      <td>-0.011923</td>\n",
       "      <td>-0.007826</td>\n",
       "      <td>-0.001755</td>\n",
       "      <td>0.002607</td>\n",
       "      <td>0.002320</td>\n",
       "      <td>0.001025</td>\n",
       "      <td>-0.007066</td>\n",
       "      <td>-0.013133</td>\n",
       "      <td>0.006373</td>\n",
       "      <td>...</td>\n",
       "      <td>-0.007600</td>\n",
       "      <td>-0.005879</td>\n",
       "      <td>-0.000996</td>\n",
       "      <td>-0.008967</td>\n",
       "      <td>-0.005036</td>\n",
       "      <td>-0.004726</td>\n",
       "      <td>-0.002903</td>\n",
       "      <td>-0.002097</td>\n",
       "      <td>0.005826</td>\n",
       "      <td>-0.001680</td>\n",
       "    </tr>\n",
       "  </tbody>\n",
       "</table>\n",
       "<p>5 rows × 483 columns</p>\n",
       "</div>"
      ],
      "text/plain": [
       "                            A       AAL      AAPL      ABBV       ABT  \\\n",
       "Date                                                                    \n",
       "2016-12-23 00:00:00  0.004991 -0.004322  0.001976  0.010968  0.003389   \n",
       "2016-12-27 00:00:00  0.006688  0.002678  0.006331  0.002563  0.004674   \n",
       "2016-12-28 00:00:00 -0.017132 -0.019527 -0.004273 -0.003687 -0.009893   \n",
       "2016-12-29 00:00:00  0.001140 -0.008849 -0.000257  0.007360  0.002352   \n",
       "2016-12-30 00:00:00 -0.001754 -0.011923 -0.007826 -0.001755  0.002607   \n",
       "\n",
       "                         ACGL       ACN      ADBE       ADI       ADM  ...  \\\n",
       "Date                                                                   ...   \n",
       "2016-12-23 00:00:00  0.001835 -0.002635  0.002861  0.005295 -0.000664  ...   \n",
       "2016-12-27 00:00:00 -0.006324  0.000596 -0.000381  0.006346  0.011014  ...   \n",
       "2016-12-28 00:00:00 -0.008107 -0.008029 -0.011593 -0.010144 -0.006814  ...   \n",
       "2016-12-29 00:00:00  0.001046  0.003425 -0.000868  0.000272  0.000441  ...   \n",
       "2016-12-30 00:00:00  0.002320  0.001025 -0.007066 -0.013133  0.006373  ...   \n",
       "\n",
       "                         WYNN       XEL       XOM      XRAY       XYL  \\\n",
       "Date                                                                    \n",
       "2016-12-23 00:00:00  0.001019  0.000000 -0.001762  0.001859 -0.002350   \n",
       "2016-12-27 00:00:00 -0.001133  0.001474  0.000441 -0.002874 -0.002945   \n",
       "2016-12-28 00:00:00 -0.013233 -0.010862 -0.004971 -0.014376 -0.018254   \n",
       "2016-12-29 00:00:00  0.001033  0.016004  0.000553  0.001718 -0.003410   \n",
       "2016-12-30 00:00:00 -0.007600 -0.005879 -0.000996 -0.008967 -0.005036   \n",
       "\n",
       "                          YUM       ZBH      ZBRA      ZION       ZTS  \n",
       "Date                                                                   \n",
       "2016-12-23 00:00:00 -0.003754  0.007357  0.002897  0.002740  0.009716  \n",
       "2016-12-27 00:00:00  0.003442  0.007982  0.007264  0.001595 -0.001116  \n",
       "2016-12-28 00:00:00 -0.004853  0.001554 -0.016681 -0.014907 -0.005226  \n",
       "2016-12-29 00:00:00 -0.001413  0.004260  0.003847 -0.011386  0.003363  \n",
       "2016-12-30 00:00:00 -0.004726 -0.002903 -0.002097  0.005826 -0.001680  \n",
       "\n",
       "[5 rows x 483 columns]"
      ]
     },
     "execution_count": 6,
     "metadata": {},
     "output_type": "execute_result"
    }
   ],
   "source": [
    "#Drop symbols with less than 200 datapoints of returns\n",
    "returns = returns.dropna(axis=1, thresh=len(returns)-200)\n",
    "returns.tail()"
   ]
  },
  {
   "cell_type": "code",
   "execution_count": 7,
   "metadata": {},
   "outputs": [
    {
     "data": {
      "text/html": [
       "<div>\n",
       "<style scoped>\n",
       "    .dataframe tbody tr th:only-of-type {\n",
       "        vertical-align: middle;\n",
       "    }\n",
       "\n",
       "    .dataframe tbody tr th {\n",
       "        vertical-align: top;\n",
       "    }\n",
       "\n",
       "    .dataframe thead tr th {\n",
       "        text-align: left;\n",
       "    }\n",
       "\n",
       "    .dataframe thead tr:last-of-type th {\n",
       "        text-align: right;\n",
       "    }\n",
       "</style>\n",
       "<table border=\"1\" class=\"dataframe\">\n",
       "  <thead>\n",
       "    <tr>\n",
       "      <th></th>\n",
       "      <th colspan=\"10\" halign=\"left\">Adj Close</th>\n",
       "      <th>...</th>\n",
       "      <th colspan=\"10\" halign=\"left\">Daily Log Returns</th>\n",
       "    </tr>\n",
       "    <tr>\n",
       "      <th></th>\n",
       "      <th>A</th>\n",
       "      <th>AAL</th>\n",
       "      <th>AAPL</th>\n",
       "      <th>ABBV</th>\n",
       "      <th>ABNB</th>\n",
       "      <th>ABT</th>\n",
       "      <th>ACGL</th>\n",
       "      <th>ACN</th>\n",
       "      <th>ADBE</th>\n",
       "      <th>ADI</th>\n",
       "      <th>...</th>\n",
       "      <th>WYNN</th>\n",
       "      <th>XEL</th>\n",
       "      <th>XOM</th>\n",
       "      <th>XRAY</th>\n",
       "      <th>XYL</th>\n",
       "      <th>YUM</th>\n",
       "      <th>ZBH</th>\n",
       "      <th>ZBRA</th>\n",
       "      <th>ZION</th>\n",
       "      <th>ZTS</th>\n",
       "    </tr>\n",
       "    <tr>\n",
       "      <th>Date</th>\n",
       "      <th></th>\n",
       "      <th></th>\n",
       "      <th></th>\n",
       "      <th></th>\n",
       "      <th></th>\n",
       "      <th></th>\n",
       "      <th></th>\n",
       "      <th></th>\n",
       "      <th></th>\n",
       "      <th></th>\n",
       "      <th></th>\n",
       "      <th></th>\n",
       "      <th></th>\n",
       "      <th></th>\n",
       "      <th></th>\n",
       "      <th></th>\n",
       "      <th></th>\n",
       "      <th></th>\n",
       "      <th></th>\n",
       "      <th></th>\n",
       "      <th></th>\n",
       "    </tr>\n",
       "  </thead>\n",
       "  <tbody>\n",
       "    <tr>\n",
       "      <th>2016-01-04 00:00:00</th>\n",
       "      <td>38.198948</td>\n",
       "      <td>39.095455</td>\n",
       "      <td>23.977478</td>\n",
       "      <td>40.778076</td>\n",
       "      <td>NaN</td>\n",
       "      <td>36.956322</td>\n",
       "      <td>22.950001</td>\n",
       "      <td>89.603127</td>\n",
       "      <td>91.970001</td>\n",
       "      <td>46.181301</td>\n",
       "      <td>...</td>\n",
       "      <td>NaN</td>\n",
       "      <td>NaN</td>\n",
       "      <td>NaN</td>\n",
       "      <td>NaN</td>\n",
       "      <td>NaN</td>\n",
       "      <td>NaN</td>\n",
       "      <td>NaN</td>\n",
       "      <td>NaN</td>\n",
       "      <td>NaN</td>\n",
       "      <td>NaN</td>\n",
       "    </tr>\n",
       "    <tr>\n",
       "      <th>2016-01-05 00:00:00</th>\n",
       "      <td>38.067505</td>\n",
       "      <td>38.722759</td>\n",
       "      <td>23.376614</td>\n",
       "      <td>40.608192</td>\n",
       "      <td>NaN</td>\n",
       "      <td>36.947701</td>\n",
       "      <td>23.033333</td>\n",
       "      <td>90.069481</td>\n",
       "      <td>92.339996</td>\n",
       "      <td>45.841988</td>\n",
       "      <td>...</td>\n",
       "      <td>0.018727</td>\n",
       "      <td>0.010033</td>\n",
       "      <td>0.008485</td>\n",
       "      <td>0.020182</td>\n",
       "      <td>-0.000278</td>\n",
       "      <td>-0.002496</td>\n",
       "      <td>0.020610</td>\n",
       "      <td>-0.025437</td>\n",
       "      <td>-0.010917</td>\n",
       "      <td>0.015533</td>\n",
       "    </tr>\n",
       "    <tr>\n",
       "      <th>2016-01-06 00:00:00</th>\n",
       "      <td>38.236485</td>\n",
       "      <td>39.401264</td>\n",
       "      <td>22.919146</td>\n",
       "      <td>40.615280</td>\n",
       "      <td>NaN</td>\n",
       "      <td>36.637791</td>\n",
       "      <td>23.070000</td>\n",
       "      <td>89.893501</td>\n",
       "      <td>91.019997</td>\n",
       "      <td>43.890907</td>\n",
       "      <td>...</td>\n",
       "      <td>-0.053196</td>\n",
       "      <td>0.010483</td>\n",
       "      <td>-0.008355</td>\n",
       "      <td>-0.014591</td>\n",
       "      <td>-0.012554</td>\n",
       "      <td>-0.007106</td>\n",
       "      <td>0.004320</td>\n",
       "      <td>-0.040777</td>\n",
       "      <td>-0.029578</td>\n",
       "      <td>0.000209</td>\n",
       "    </tr>\n",
       "    <tr>\n",
       "      <th>2016-01-07 00:00:00</th>\n",
       "      <td>36.612396</td>\n",
       "      <td>38.655872</td>\n",
       "      <td>21.951851</td>\n",
       "      <td>40.494934</td>\n",
       "      <td>NaN</td>\n",
       "      <td>35.759724</td>\n",
       "      <td>23.046667</td>\n",
       "      <td>87.253700</td>\n",
       "      <td>89.110001</td>\n",
       "      <td>42.771160</td>\n",
       "      <td>...</td>\n",
       "      <td>-0.098793</td>\n",
       "      <td>0.003834</td>\n",
       "      <td>-0.016135</td>\n",
       "      <td>-0.008824</td>\n",
       "      <td>-0.026167</td>\n",
       "      <td>-0.034712</td>\n",
       "      <td>-0.023261</td>\n",
       "      <td>-0.046375</td>\n",
       "      <td>-0.030480</td>\n",
       "      <td>-0.030876</td>\n",
       "    </tr>\n",
       "    <tr>\n",
       "      <th>2016-01-08 00:00:00</th>\n",
       "      <td>36.227505</td>\n",
       "      <td>38.579411</td>\n",
       "      <td>22.067926</td>\n",
       "      <td>39.390728</td>\n",
       "      <td>NaN</td>\n",
       "      <td>35.010780</td>\n",
       "      <td>22.806667</td>\n",
       "      <td>86.408981</td>\n",
       "      <td>87.849998</td>\n",
       "      <td>42.397896</td>\n",
       "      <td>...</td>\n",
       "      <td>-0.041556</td>\n",
       "      <td>-0.010995</td>\n",
       "      <td>-0.020409</td>\n",
       "      <td>-0.029053</td>\n",
       "      <td>-0.009556</td>\n",
       "      <td>-0.013701</td>\n",
       "      <td>-0.004226</td>\n",
       "      <td>-0.002697</td>\n",
       "      <td>-0.011318</td>\n",
       "      <td>-0.014712</td>\n",
       "    </tr>\n",
       "  </tbody>\n",
       "</table>\n",
       "<p>5 rows × 3521 columns</p>\n",
       "</div>"
      ],
      "text/plain": [
       "                     Adj Close                                        \\\n",
       "                             A        AAL       AAPL       ABBV ABNB   \n",
       "Date                                                                   \n",
       "2016-01-04 00:00:00  38.198948  39.095455  23.977478  40.778076  NaN   \n",
       "2016-01-05 00:00:00  38.067505  38.722759  23.376614  40.608192  NaN   \n",
       "2016-01-06 00:00:00  38.236485  39.401264  22.919146  40.615280  NaN   \n",
       "2016-01-07 00:00:00  36.612396  38.655872  21.951851  40.494934  NaN   \n",
       "2016-01-08 00:00:00  36.227505  38.579411  22.067926  39.390728  NaN   \n",
       "\n",
       "                                                                            \\\n",
       "                           ABT       ACGL        ACN       ADBE        ADI   \n",
       "Date                                                                         \n",
       "2016-01-04 00:00:00  36.956322  22.950001  89.603127  91.970001  46.181301   \n",
       "2016-01-05 00:00:00  36.947701  23.033333  90.069481  92.339996  45.841988   \n",
       "2016-01-06 00:00:00  36.637791  23.070000  89.893501  91.019997  43.890907   \n",
       "2016-01-07 00:00:00  35.759724  23.046667  87.253700  89.110001  42.771160   \n",
       "2016-01-08 00:00:00  35.010780  22.806667  86.408981  87.849998  42.397896   \n",
       "\n",
       "                     ... Daily Log Returns                                \\\n",
       "                     ...              WYNN       XEL       XOM      XRAY   \n",
       "Date                 ...                                                   \n",
       "2016-01-04 00:00:00  ...               NaN       NaN       NaN       NaN   \n",
       "2016-01-05 00:00:00  ...          0.018727  0.010033  0.008485  0.020182   \n",
       "2016-01-06 00:00:00  ...         -0.053196  0.010483 -0.008355 -0.014591   \n",
       "2016-01-07 00:00:00  ...         -0.098793  0.003834 -0.016135 -0.008824   \n",
       "2016-01-08 00:00:00  ...         -0.041556 -0.010995 -0.020409 -0.029053   \n",
       "\n",
       "                                                                       \\\n",
       "                          XYL       YUM       ZBH      ZBRA      ZION   \n",
       "Date                                                                    \n",
       "2016-01-04 00:00:00       NaN       NaN       NaN       NaN       NaN   \n",
       "2016-01-05 00:00:00 -0.000278 -0.002496  0.020610 -0.025437 -0.010917   \n",
       "2016-01-06 00:00:00 -0.012554 -0.007106  0.004320 -0.040777 -0.029578   \n",
       "2016-01-07 00:00:00 -0.026167 -0.034712 -0.023261 -0.046375 -0.030480   \n",
       "2016-01-08 00:00:00 -0.009556 -0.013701 -0.004226 -0.002697 -0.011318   \n",
       "\n",
       "                               \n",
       "                          ZTS  \n",
       "Date                           \n",
       "2016-01-04 00:00:00       NaN  \n",
       "2016-01-05 00:00:00  0.015533  \n",
       "2016-01-06 00:00:00  0.000209  \n",
       "2016-01-07 00:00:00 -0.030876  \n",
       "2016-01-08 00:00:00 -0.014712  \n",
       "\n",
       "[5 rows x 3521 columns]"
      ]
     },
     "execution_count": 7,
     "metadata": {},
     "output_type": "execute_result"
    }
   ],
   "source": [
    "data.head()"
   ]
  },
  {
   "cell_type": "markdown",
   "metadata": {},
   "source": [
    "Creating dataframe with distribution data"
   ]
  },
  {
   "cell_type": "code",
   "execution_count": 8,
   "metadata": {},
   "outputs": [
    {
     "data": {
      "text/html": [
       "<div>\n",
       "<style scoped>\n",
       "    .dataframe tbody tr th:only-of-type {\n",
       "        vertical-align: middle;\n",
       "    }\n",
       "\n",
       "    .dataframe tbody tr th {\n",
       "        vertical-align: top;\n",
       "    }\n",
       "\n",
       "    .dataframe thead th {\n",
       "        text-align: right;\n",
       "    }\n",
       "</style>\n",
       "<table border=\"1\" class=\"dataframe\">\n",
       "  <thead>\n",
       "    <tr style=\"text-align: right;\">\n",
       "      <th></th>\n",
       "      <th>Observations</th>\n",
       "      <th>Mean Return</th>\n",
       "      <th>Standard Deviation</th>\n",
       "      <th>Skewness</th>\n",
       "      <th>Kurtosis</th>\n",
       "      <th>K-Squared P-Value</th>\n",
       "    </tr>\n",
       "  </thead>\n",
       "  <tbody>\n",
       "    <tr>\n",
       "      <th>A</th>\n",
       "      <td>252</td>\n",
       "      <td>0.000494</td>\n",
       "      <td>0.014772</td>\n",
       "      <td>-0.822091</td>\n",
       "      <td>1.961756</td>\n",
       "      <td>4.789478e-09</td>\n",
       "    </tr>\n",
       "    <tr>\n",
       "      <th>AAL</th>\n",
       "      <td>252</td>\n",
       "      <td>0.000571</td>\n",
       "      <td>0.023052</td>\n",
       "      <td>-0.379115</td>\n",
       "      <td>3.623910</td>\n",
       "      <td>6.493222e-08</td>\n",
       "    </tr>\n",
       "    <tr>\n",
       "      <th>AAPL</th>\n",
       "      <td>252</td>\n",
       "      <td>0.000465</td>\n",
       "      <td>0.014723</td>\n",
       "      <td>-0.320077</td>\n",
       "      <td>4.301049</td>\n",
       "      <td>1.748651e-08</td>\n",
       "    </tr>\n",
       "    <tr>\n",
       "      <th>ABBV</th>\n",
       "      <td>252</td>\n",
       "      <td>0.000483</td>\n",
       "      <td>0.017080</td>\n",
       "      <td>0.016762</td>\n",
       "      <td>3.090482</td>\n",
       "      <td>7.970633e-06</td>\n",
       "    </tr>\n",
       "    <tr>\n",
       "      <th>ABT</th>\n",
       "      <td>252</td>\n",
       "      <td>-0.000344</td>\n",
       "      <td>0.015094</td>\n",
       "      <td>-1.907165</td>\n",
       "      <td>9.541310</td>\n",
       "      <td>2.818503e-29</td>\n",
       "    </tr>\n",
       "  </tbody>\n",
       "</table>\n",
       "</div>"
      ],
      "text/plain": [
       "      Observations  Mean Return  Standard Deviation  Skewness  Kurtosis  \\\n",
       "A              252     0.000494            0.014772 -0.822091  1.961756   \n",
       "AAL            252     0.000571            0.023052 -0.379115  3.623910   \n",
       "AAPL           252     0.000465            0.014723 -0.320077  4.301049   \n",
       "ABBV           252     0.000483            0.017080  0.016762  3.090482   \n",
       "ABT            252    -0.000344            0.015094 -1.907165  9.541310   \n",
       "\n",
       "      K-Squared P-Value  \n",
       "A          4.789478e-09  \n",
       "AAL        6.493222e-08  \n",
       "AAPL       1.748651e-08  \n",
       "ABBV       7.970633e-06  \n",
       "ABT        2.818503e-29  "
      ]
     },
     "execution_count": 8,
     "metadata": {},
     "output_type": "execute_result"
    }
   ],
   "source": [
    "#Using scipy.stats skew and kurtosis, dropping any nan values from measurement\n",
    "import scipy.stats as stats\n",
    "\n",
    "symbols = returns.columns\n",
    "sample_stats = pd.DataFrame({\"Observations\": (len(returns[symbol]) for symbol in symbols),\n",
    "                      \"Mean Return\": list(np.mean(returns, axis=0)),\n",
    "                      \"Standard Deviation\": list(np.std(returns, axis=0)),\n",
    "                      \"Skewness\": list(stats.skew(returns, axis=0, nan_policy='omit')),\n",
    "                      \"Kurtosis\": list(stats.kurtosis(returns, axis=0, nan_policy='omit')),\n",
    "                      \"K-Squared P-Value\": list(stats.normaltest(returns, axis=0, nan_policy='omit').pvalue)},\n",
    "                      index = symbols)\n",
    "sample_stats.head()"
   ]
  },
  {
   "cell_type": "code",
   "execution_count": 9,
   "metadata": {},
   "outputs": [
    {
     "name": "stdout",
     "output_type": "stream",
     "text": [
      "Of 483 S&P 500 stocks with a measurable K-Squared Statistic, \n",
      "477 have sufficiently low P-Value to reject the null hypothesis\n",
      "that their returns are normally distributed\n"
     ]
    }
   ],
   "source": [
    "measured = sum(sample_stats[\"K-Squared P-Value\"] != np.nan)\n",
    "non_normal = len(sample_stats[sample_stats[\"K-Squared P-Value\"] < 0.05])\n",
    "print(f\"Of {measured} S&P 500 stocks with a measurable K-Squared Statistic, \\\n",
    "\\n{non_normal} have sufficiently low P-Value to reject the null hypothesis\\\n",
    "\\nthat their returns are normally distributed\")"
   ]
  },
  {
   "cell_type": "markdown",
   "metadata": {},
   "source": [
    "*Function to find returns distribution for stock data, and test hypothesis of normally distributed returns with constant variance*"
   ]
  },
  {
   "cell_type": "code",
   "execution_count": 10,
   "metadata": {},
   "outputs": [],
   "source": [
    "def returns_distribution(tickers: list[str], start: str, end:str, filename=None, header=None):\n",
    "    \"\"\"\n",
    "    Finds returns distribution for stock data, and tests hypothesis of normally distributed returns\n",
    "    with constant variance\n",
    "    :param tickers: The ticker symbol for data to be downloaded\n",
    "    :param start: The start date for downloaded stock data\n",
    "    :param end: The end date for downloaded stock data\n",
    "    :param filename: The name of the file for the data to be uploaded to (optional)\n",
    "    :param header: The header configuration for the file (optional)\n",
    "    :return: Dataframe with the number of observations, mean return, standard deviation of returns,\n",
    "    skewness of returns, kurtosis of returns, and k-squared test p-value of the returns\n",
    "    \"\"\"\n",
    "    data = yf.download(tickers, start=start, end=end)\n",
    "    returns = np.log1p(data[\"Close\"].pct_change())\n",
    "    returns = returns.dropna(axis=1, thresh=len(returns)-200)\n",
    "    \n",
    "    symbols = returns.columns\n",
    "    sample_stats = pd.DataFrame({\"Observations\": (len(returns[symbol]) for symbol in symbols),\n",
    "                      \"Mean Return\": list(np.mean(returns, axis=0)),\n",
    "                      \"Standard Deviation\": list(np.std(returns, axis=0)),\n",
    "                      \"Skewness\": list(stats.skew(returns, axis=0, nan_policy='omit')),\n",
    "                      \"Kurtosis\": list(stats.kurtosis(returns, axis=0, nan_policy='omit')),\n",
    "                      \"K-Squared P-Value\": list(stats.normaltest(returns, axis=0, nan_policy='omit').pvalue)},\n",
    "                      index = symbols)\n",
    "    \n",
    "    if filename is not None:\n",
    "        sample_stats.to_csv(filename, header=header)\n",
    "    \n",
    "    return sample_stats"
   ]
  },
  {
   "cell_type": "code",
   "execution_count": 11,
   "metadata": {},
   "outputs": [
    {
     "name": "stdout",
     "output_type": "stream",
     "text": [
      "[*********************100%%**********************]  503 of 503 completed"
     ]
    },
    {
     "name": "stderr",
     "output_type": "stream",
     "text": [
      "\n",
      "4 Failed downloads:\n",
      "['KVUE', 'VLTO']: Exception(\"%ticker%: Data doesn't exist for startDate = 1641013200, endDate = 1672462800\")\n",
      "['BRK.B']: Exception('%ticker%: No timezone found, symbol may be delisted')\n",
      "['BF.B']: Exception('%ticker%: No price data found, symbol may be delisted (1d 2022-01-01 -> 2022-12-31)')\n"
     ]
    },
    {
     "name": "stdout",
     "output_type": "stream",
     "text": [
      "\n"
     ]
    },
    {
     "name": "stderr",
     "output_type": "stream",
     "text": [
      "/var/folders/c0/_1r630sx6bx7dllfq1l9hgrh0000gn/T/ipykernel_53234/3084458691.py:14: FutureWarning: The default fill_method='pad' in DataFrame.pct_change is deprecated and will be removed in a future version. Either fill in any non-leading NA values prior to calling pct_change or specify 'fill_method=None' to not fill NA values.\n",
      "  returns = np.log1p(data[\"Close\"].pct_change())\n"
     ]
    },
    {
     "data": {
      "text/html": [
       "<div>\n",
       "<style scoped>\n",
       "    .dataframe tbody tr th:only-of-type {\n",
       "        vertical-align: middle;\n",
       "    }\n",
       "\n",
       "    .dataframe tbody tr th {\n",
       "        vertical-align: top;\n",
       "    }\n",
       "\n",
       "    .dataframe thead th {\n",
       "        text-align: right;\n",
       "    }\n",
       "</style>\n",
       "<table border=\"1\" class=\"dataframe\">\n",
       "  <thead>\n",
       "    <tr style=\"text-align: right;\">\n",
       "      <th></th>\n",
       "      <th>Observations</th>\n",
       "      <th>Mean Return</th>\n",
       "      <th>Standard Deviation</th>\n",
       "      <th>Skewness</th>\n",
       "      <th>Kurtosis</th>\n",
       "      <th>K-Squared P-Value</th>\n",
       "    </tr>\n",
       "  </thead>\n",
       "  <tbody>\n",
       "    <tr>\n",
       "      <th>A</th>\n",
       "      <td>251</td>\n",
       "      <td>-0.000179</td>\n",
       "      <td>0.022148</td>\n",
       "      <td>0.308525</td>\n",
       "      <td>0.488630</td>\n",
       "      <td>3.953602e-02</td>\n",
       "    </tr>\n",
       "    <tr>\n",
       "      <th>AAL</th>\n",
       "      <td>251</td>\n",
       "      <td>-0.001552</td>\n",
       "      <td>0.035410</td>\n",
       "      <td>-0.030688</td>\n",
       "      <td>0.572806</td>\n",
       "      <td>2.124210e-01</td>\n",
       "    </tr>\n",
       "    <tr>\n",
       "      <th>AAPL</th>\n",
       "      <td>251</td>\n",
       "      <td>-0.001348</td>\n",
       "      <td>0.022387</td>\n",
       "      <td>0.231176</td>\n",
       "      <td>0.865158</td>\n",
       "      <td>2.134347e-02</td>\n",
       "    </tr>\n",
       "    <tr>\n",
       "      <th>ABBV</th>\n",
       "      <td>251</td>\n",
       "      <td>0.000707</td>\n",
       "      <td>0.014295</td>\n",
       "      <td>-0.882248</td>\n",
       "      <td>2.856754</td>\n",
       "      <td>3.825678e-11</td>\n",
       "    </tr>\n",
       "    <tr>\n",
       "      <th>ABNB</th>\n",
       "      <td>251</td>\n",
       "      <td>-0.002812</td>\n",
       "      <td>0.038346</td>\n",
       "      <td>-0.326138</td>\n",
       "      <td>0.434121</td>\n",
       "      <td>3.813268e-02</td>\n",
       "    </tr>\n",
       "  </tbody>\n",
       "</table>\n",
       "</div>"
      ],
      "text/plain": [
       "      Observations  Mean Return  Standard Deviation  Skewness  Kurtosis  \\\n",
       "A              251    -0.000179            0.022148  0.308525  0.488630   \n",
       "AAL            251    -0.001552            0.035410 -0.030688  0.572806   \n",
       "AAPL           251    -0.001348            0.022387  0.231176  0.865158   \n",
       "ABBV           251     0.000707            0.014295 -0.882248  2.856754   \n",
       "ABNB           251    -0.002812            0.038346 -0.326138  0.434121   \n",
       "\n",
       "      K-Squared P-Value  \n",
       "A          3.953602e-02  \n",
       "AAL        2.124210e-01  \n",
       "AAPL       2.134347e-02  \n",
       "ABBV       3.825678e-11  \n",
       "ABNB       3.813268e-02  "
      ]
     },
     "execution_count": 11,
     "metadata": {},
     "output_type": "execute_result"
    }
   ],
   "source": [
    "import pandas as pd\n",
    "\n",
    "tickers = pd.read_html(\n",
    "    'https://en.wikipedia.org/wiki/List_of_S%26P_500_companies')[0]\n",
    "\n",
    "symbols = tickers.Symbol.to_list()\n",
    "ss = returns_distribution(symbols, \"2022-01-01\", \"2022-12-31\", filename=\"rd-2022.csv\")\n",
    "ss.head()"
   ]
  },
  {
   "cell_type": "code",
   "execution_count": 12,
   "metadata": {},
   "outputs": [
    {
     "name": "stdout",
     "output_type": "stream",
     "text": [
      "[*********************100%%**********************]  503 of 503 completed"
     ]
    },
    {
     "name": "stderr",
     "output_type": "stream",
     "text": [
      "\n",
      "133 Failed downloads:\n",
      "['FSLR', 'KHC', 'GPN', 'CARR', 'CZR', 'NWSA', 'HPE', 'LYV', 'INVH', 'CTLT', 'GOOG', 'PAYC', 'FLT', 'FTNT', 'ENPH', 'MA', 'TDG', 'FOXA', 'AIZ', 'LKQ', 'CMG', 'ALLE', 'CBRE', 'TRGP', 'TMUS', 'EXR', 'PYPL', 'VICI', 'PANW', 'CTVA', 'BR', 'KVUE', 'LVS', 'DAL', 'ABBV', 'ZBH', 'XYL', 'CEG', 'AWK', 'BG', 'CDAY', 'GM', 'WYNN', 'NDAQ', 'MRNA', 'CFG', 'KDP', 'CRM', 'ZTS', 'WBD', 'SEDG', 'PRU', 'MDLZ', 'CF', 'AAL', 'ABNB', 'CME', 'APTV', 'CBOE', 'CDW', 'ULTA', 'ELV', 'IQV', 'NCLH', 'HWM', 'KEYS', 'HCA', 'AXON', 'EPAM', 'MOH', 'VLTO', 'VRSK', 'DOW', 'TEL', 'AMCR', 'ACN', 'LW', 'DXCM', 'MSCI', 'CE', 'ICE', 'FOX', 'MKTX', 'CNC', 'UAL', 'PODD', 'FTV', 'WTW', 'GOOGL', 'LDOS', 'NXPI', 'TSLA', 'BX', 'PSX', 'PM', 'HLT', 'AVGO', 'FANG', 'QRVO', 'EXPE', 'NWS', 'NRG', 'ETSY', 'PFG', 'GNRC', 'DPZ', 'MPC', 'SYF', 'ANET', 'NOW', 'FIS', 'DLR', 'PARA', 'CHTR', 'DG', 'IR', 'WRK', 'HII', 'STX', 'OTIS', 'NFLX', 'ALGN', 'LYB', 'V', 'AMP', 'META', 'DFS', 'LULU', 'GEHC', 'MPWR', 'KMI']: Exception(\"%ticker%: Data doesn't exist for startDate = 946702800, endDate = 978238800\")\n",
      "['BRK.B']: Exception('%ticker%: No timezone found, symbol may be delisted')\n",
      "['BF.B']: Exception('%ticker%: No price data found, symbol may be delisted (1d 2000-01-01 -> 2000-12-31)')\n"
     ]
    },
    {
     "name": "stdout",
     "output_type": "stream",
     "text": [
      "\n",
      "[                       0%%                      ]  2 of 503 completed"
     ]
    },
    {
     "name": "stderr",
     "output_type": "stream",
     "text": [
      "/var/folders/c0/_1r630sx6bx7dllfq1l9hgrh0000gn/T/ipykernel_53234/3084458691.py:14: FutureWarning: The default fill_method='pad' in DataFrame.pct_change is deprecated and will be removed in a future version. Either fill in any non-leading NA values prior to calling pct_change or specify 'fill_method=None' to not fill NA values.\n",
      "  returns = np.log1p(data[\"Close\"].pct_change())\n"
     ]
    },
    {
     "name": "stdout",
     "output_type": "stream",
     "text": [
      "[*********************100%%**********************]  503 of 503 completed"
     ]
    },
    {
     "name": "stderr",
     "output_type": "stream",
     "text": [
      "\n",
      "120 Failed downloads:\n",
      "['FSLR', 'CARR', 'KHC', 'NWSA', 'CZR', 'HPE', 'LYV', 'CTLT', 'PAYC', 'GOOG', 'ENPH', 'INVH', 'FTNT', 'FLT', 'TDG', 'FOXA', 'MA', 'AIZ', 'LKQ', 'CMG', 'ALLE', 'TRGP', 'TMUS', 'CBRE', 'VICI', 'EXR', 'PYPL', 'PANW', 'CTVA', 'KVUE', 'BR', 'LVS', 'DAL', 'ABBV', 'XYL', 'WYNN', 'AWK', 'CDAY', 'CEG', 'GM', 'MRNA', 'NDAQ', 'CFG', 'KDP', 'ZTS', 'WBD', 'CRM', 'SEDG', 'CF', 'AAL', 'CME', 'ABNB', 'APTV', 'CBOE', 'ULTA', 'CDW', 'IQV', 'NCLH', 'HWM', 'KEYS', 'HCA', 'MOH', 'EPAM', 'VLTO', 'TEL', 'VRSK', 'DOW', 'AMCR', 'LW', 'DXCM', 'ICE', 'CE', 'MKTX', 'MSCI', 'FOX', 'UAL', 'PODD', 'FTV', 'LDOS', 'GOOGL', 'NXPI', 'TSLA', 'PSX', 'FANG', 'PM', 'BX', 'HLT', 'AVGO', 'EXPE', 'QRVO', 'NWS', 'NRG', 'ETSY', 'GNRC', 'DPZ', 'MPC', 'SYF', 'ANET', 'PARA', 'NOW', 'DLR', 'CHTR', 'DG', 'IR', 'WRK', 'STX', 'OTIS', 'HII', 'LYB', 'NFLX', 'META', 'V', 'AMP', 'LULU', 'DFS', 'KMI', 'GEHC', 'MPWR']: Exception(\"%ticker%: Data doesn't exist for startDate = 978325200, endDate = 1009774800\")\n",
      "['BRK.B']: Exception('%ticker%: No timezone found, symbol may be delisted')\n",
      "['BF.B']: Exception('%ticker%: No price data found, symbol may be delisted (1d 2001-01-01 -> 2001-12-31)')\n"
     ]
    },
    {
     "name": "stdout",
     "output_type": "stream",
     "text": [
      "\n"
     ]
    },
    {
     "name": "stderr",
     "output_type": "stream",
     "text": [
      "/var/folders/c0/_1r630sx6bx7dllfq1l9hgrh0000gn/T/ipykernel_53234/3084458691.py:14: FutureWarning: The default fill_method='pad' in DataFrame.pct_change is deprecated and will be removed in a future version. Either fill in any non-leading NA values prior to calling pct_change or specify 'fill_method=None' to not fill NA values.\n",
      "  returns = np.log1p(data[\"Close\"].pct_change())\n"
     ]
    },
    {
     "name": "stdout",
     "output_type": "stream",
     "text": [
      "[*********************100%%**********************]  503 of 503 completed"
     ]
    },
    {
     "name": "stderr",
     "output_type": "stream",
     "text": [
      "\n",
      "115 Failed downloads:\n",
      "['FSLR', 'KHC', 'HPE', 'CARR', 'NWSA', 'CZR', 'LYV', 'GOOG', 'PAYC', 'CTLT', 'INVH', 'ENPH', 'FLT', 'FTNT', 'TDG', 'FOXA', 'MA', 'AIZ', 'LKQ', 'CMG', 'ALLE', 'CBRE', 'TRGP', 'TMUS', 'CTVA', 'PYPL', 'PANW', 'EXR', 'VICI', 'BR', 'KVUE', 'LVS', 'DAL', 'ABBV', 'XYL', 'AWK', 'CEG', 'CDAY', 'GM', 'MRNA', 'CFG', 'KDP', 'WBD', 'ZTS', 'CRM', 'SEDG', 'CF', 'AAL', 'ABNB', 'APTV', 'CBOE', 'CDW', 'ULTA', 'IQV', 'NCLH', 'HWM', 'KEYS', 'HCA', 'MOH', 'TEL', 'EPAM', 'VLTO', 'VRSK', 'DOW', 'AMCR', 'LW', 'DXCM', 'ICE', 'MSCI', 'CE', 'MKTX', 'FOX', 'UAL', 'PODD', 'FTV', 'GOOGL', 'LDOS', 'TSLA', 'NXPI', 'BX', 'PSX', 'PM', 'FANG', 'AVGO', 'HLT', 'EXPE', 'QRVO', 'NWS', 'NRG', 'ETSY', 'GNRC', 'DPZ', 'MPC', 'ANET', 'SYF', 'PARA', 'DLR', 'NOW', 'CHTR', 'DG', 'IR', 'WRK', 'HII', 'OTIS', 'LYB', 'V', 'META', 'AMP', 'DFS', 'LULU', 'GEHC', 'KMI', 'MPWR']: Exception(\"%ticker%: Data doesn't exist for startDate = 1009861200, endDate = 1041310800\")\n",
      "['BRK.B']: Exception('%ticker%: No timezone found, symbol may be delisted')\n",
      "['BF.B']: Exception('%ticker%: No price data found, symbol may be delisted (1d 2002-01-01 -> 2002-12-31)')\n"
     ]
    },
    {
     "name": "stdout",
     "output_type": "stream",
     "text": [
      "\n",
      "[                       0%%                      ]  2 of 503 completed"
     ]
    },
    {
     "name": "stderr",
     "output_type": "stream",
     "text": [
      "/var/folders/c0/_1r630sx6bx7dllfq1l9hgrh0000gn/T/ipykernel_53234/3084458691.py:14: FutureWarning: The default fill_method='pad' in DataFrame.pct_change is deprecated and will be removed in a future version. Either fill in any non-leading NA values prior to calling pct_change or specify 'fill_method=None' to not fill NA values.\n",
      "  returns = np.log1p(data[\"Close\"].pct_change())\n"
     ]
    },
    {
     "name": "stdout",
     "output_type": "stream",
     "text": [
      "[*********************100%%**********************]  503 of 503 completed"
     ]
    },
    {
     "name": "stderr",
     "output_type": "stream",
     "text": [
      "\n",
      "112 Failed downloads:\n",
      "['FSLR', 'KHC', 'CARR', 'CZR', 'NWSA', 'HPE', 'LYV', 'CTLT', 'GOOG', 'PAYC', 'ENPH', 'INVH', 'FLT', 'FTNT', 'FOXA', 'MA', 'TDG', 'AIZ', 'CMG', 'TRGP', 'CBRE', 'TMUS', 'ALLE', 'EXR', 'VICI', 'CTVA', 'PANW', 'PYPL', 'BR', 'LVS', 'KVUE', 'DAL', 'ABBV', 'AWK', 'CEG', 'XYL', 'CDAY', 'GM', 'MRNA', 'CFG', 'KDP', 'ZTS', 'WBD', 'CRM', 'SEDG', 'CF', 'AAL', 'ABNB', 'APTV', 'CBOE', 'CDW', 'ULTA', 'IQV', 'NCLH', 'HWM', 'KEYS', 'HCA', 'TEL', 'EPAM', 'VLTO', 'VRSK', 'AMCR', 'DOW', 'LW', 'DXCM', 'ICE', 'MSCI', 'CE', 'MKTX', 'FOX', 'UAL', 'PODD', 'FTV', 'GOOGL', 'LDOS', 'NXPI', 'TSLA', 'PSX', 'BX', 'FANG', 'PM', 'HLT', 'EXPE', 'AVGO', 'QRVO', 'NWS', 'ETSY', 'GNRC', 'DPZ', 'MPC', 'ANET', 'SYF', 'NOW', 'PARA', 'DLR', 'CHTR', 'DG', 'IR', 'WRK', 'HII', 'OTIS', 'LYB', 'V', 'META', 'AMP', 'DFS', 'LULU', 'GEHC', 'KMI', 'MPWR']: Exception(\"%ticker%: Data doesn't exist for startDate = 1041397200, endDate = 1072846800\")\n",
      "['BRK.B']: Exception('%ticker%: No timezone found, symbol may be delisted')\n",
      "['BF.B']: Exception('%ticker%: No price data found, symbol may be delisted (1d 2003-01-01 -> 2003-12-31)')\n"
     ]
    },
    {
     "name": "stdout",
     "output_type": "stream",
     "text": [
      "\n"
     ]
    },
    {
     "name": "stderr",
     "output_type": "stream",
     "text": [
      "/var/folders/c0/_1r630sx6bx7dllfq1l9hgrh0000gn/T/ipykernel_53234/3084458691.py:14: FutureWarning: The default fill_method='pad' in DataFrame.pct_change is deprecated and will be removed in a future version. Either fill in any non-leading NA values prior to calling pct_change or specify 'fill_method=None' to not fill NA values.\n",
      "  returns = np.log1p(data[\"Close\"].pct_change())\n"
     ]
    },
    {
     "name": "stdout",
     "output_type": "stream",
     "text": [
      "[*********************100%%**********************]  503 of 503 completed"
     ]
    },
    {
     "name": "stderr",
     "output_type": "stream",
     "text": [
      "\n",
      "101 Failed downloads:\n",
      "['FSLR', 'KHC', 'CARR', 'CZR', 'NWSA', 'HPE', 'LYV', 'CTLT', 'ENPH', 'INVH', 'PAYC', 'FTNT', 'FLT', 'TDG', 'FOXA', 'MA', 'CMG', 'ALLE', 'TRGP', 'TMUS', 'PYPL', 'VICI', 'CTVA', 'PANW', 'KVUE', 'BR', 'DAL', 'ABBV', 'XYL', 'AWK', 'CEG', 'GM', 'CDAY', 'MRNA', 'KDP', 'CFG', 'ZTS', 'WBD', 'SEDG', 'CF', 'AAL', 'ABNB', 'APTV', 'CBOE', 'CDW', 'ULTA', 'IQV', 'NCLH', 'HWM', 'KEYS', 'HCA', 'EPAM', 'VLTO', 'TEL', 'VRSK', 'AMCR', 'DOW', 'LW', 'DXCM', 'ICE', 'MSCI', 'CE', 'FOX', 'UAL', 'PODD', 'FTV', 'LDOS', 'NXPI', 'TSLA', 'BX', 'PSX', 'FANG', 'AVGO', 'HLT', 'PM', 'EXPE', 'QRVO', 'NWS', 'ETSY', 'GNRC', 'MPC', 'ANET', 'NOW', 'SYF', 'PARA', 'CHTR', 'IR', 'DG', 'WRK', 'OTIS', 'HII', 'LYB', 'META', 'V', 'AMP', 'DFS', 'LULU', 'GEHC', 'KMI']: Exception(\"%ticker%: Data doesn't exist for startDate = 1072933200, endDate = 1104469200\")\n",
      "['BRK.B']: Exception('%ticker%: No timezone found, symbol may be delisted')\n",
      "['BF.B']: Exception('%ticker%: No price data found, symbol may be delisted (1d 2004-01-01 -> 2004-12-31)')\n"
     ]
    },
    {
     "name": "stdout",
     "output_type": "stream",
     "text": [
      "\n",
      "[                       0%%                      ]  2 of 503 completed"
     ]
    },
    {
     "name": "stderr",
     "output_type": "stream",
     "text": [
      "/var/folders/c0/_1r630sx6bx7dllfq1l9hgrh0000gn/T/ipykernel_53234/3084458691.py:14: FutureWarning: The default fill_method='pad' in DataFrame.pct_change is deprecated and will be removed in a future version. Either fill in any non-leading NA values prior to calling pct_change or specify 'fill_method=None' to not fill NA values.\n",
      "  returns = np.log1p(data[\"Close\"].pct_change())\n"
     ]
    },
    {
     "name": "stdout",
     "output_type": "stream",
     "text": [
      "[*********************100%%**********************]  503 of 503 completed"
     ]
    },
    {
     "name": "stderr",
     "output_type": "stream",
     "text": [
      "\n",
      "91 Failed downloads:\n",
      "['FSLR', 'CARR', 'KHC', 'HPE', 'CZR', 'NWSA', 'CTLT', 'ENPH', 'INVH', 'PAYC', 'FLT', 'FTNT', 'TDG', 'FOXA', 'MA', 'CMG', 'ALLE', 'TMUS', 'TRGP', 'PYPL', 'VICI', 'PANW', 'KVUE', 'BR', 'CTVA', 'ABBV', 'DAL', 'CEG', 'XYL', 'AWK', 'GM', 'CDAY', 'MRNA', 'KDP', 'ZTS', 'CFG', 'SEDG', 'ABNB', 'APTV', 'CBOE', 'CDW', 'ULTA', 'IQV', 'NCLH', 'HWM', 'KEYS', 'HCA', 'EPAM', 'TEL', 'VRSK', 'VLTO', 'AMCR', 'DOW', 'LW', 'MSCI', 'FOX', 'UAL', 'PODD', 'FTV', 'LDOS', 'NXPI', 'TSLA', 'PSX', 'BX', 'PM', 'FANG', 'AVGO', 'HLT', 'QRVO', 'NWS', 'ETSY', 'GNRC', 'ANET', 'MPC', 'NOW', 'SYF', 'CHTR', 'IR', 'DG', 'WRK', 'HII', 'OTIS', 'LYB', 'V', 'META', 'DFS', 'LULU', 'GEHC', 'KMI']: Exception(\"%ticker%: Data doesn't exist for startDate = 1104555600, endDate = 1136005200\")\n",
      "['BRK.B']: Exception('%ticker%: No timezone found, symbol may be delisted')\n",
      "['BF.B']: Exception('%ticker%: No price data found, symbol may be delisted (1d 2005-01-01 -> 2005-12-31)')\n"
     ]
    },
    {
     "name": "stdout",
     "output_type": "stream",
     "text": [
      "\n"
     ]
    },
    {
     "name": "stderr",
     "output_type": "stream",
     "text": [
      "/var/folders/c0/_1r630sx6bx7dllfq1l9hgrh0000gn/T/ipykernel_53234/3084458691.py:14: FutureWarning: The default fill_method='pad' in DataFrame.pct_change is deprecated and will be removed in a future version. Either fill in any non-leading NA values prior to calling pct_change or specify 'fill_method=None' to not fill NA values.\n",
      "  returns = np.log1p(data[\"Close\"].pct_change())\n"
     ]
    },
    {
     "name": "stdout",
     "output_type": "stream",
     "text": [
      "[*********************100%%**********************]  503 of 503 completed"
     ]
    },
    {
     "name": "stderr",
     "output_type": "stream",
     "text": [
      "\n",
      "85 Failed downloads:\n",
      "['KHC', 'NWSA', 'HPE', 'CZR', 'CARR', 'CTLT', 'ENPH', 'PAYC', 'INVH', 'FLT', 'FTNT', 'FOXA', 'ALLE', 'TMUS', 'TRGP', 'VICI', 'CTVA', 'PANW', 'PYPL', 'KVUE', 'BR', 'ABBV', 'DAL', 'XYL', 'CEG', 'GM', 'AWK', 'CDAY', 'KDP', 'MRNA', 'ZTS', 'CFG', 'SEDG', 'ABNB', 'APTV', 'CBOE', 'CDW', 'ULTA', 'IQV', 'NCLH', 'HWM', 'KEYS', 'HCA', 'VRSK', 'EPAM', 'TEL', 'AMCR', 'VLTO', 'DOW', 'LW', 'MSCI', 'FOX', 'FTV', 'PODD', 'NXPI', 'TSLA', 'PSX', 'FANG', 'PM', 'BX', 'HLT', 'AVGO', 'QRVO', 'NWS', 'ETSY', 'GNRC', 'MPC', 'SYF', 'ANET', 'NOW', 'CHTR', 'DG', 'IR', 'WRK', 'OTIS', 'HII', 'LYB', 'META', 'V', 'DFS', 'LULU', 'GEHC', 'KMI']: Exception(\"%ticker%: Data doesn't exist for startDate = 1136091600, endDate = 1167541200\")\n",
      "['BRK.B']: Exception('%ticker%: No timezone found, symbol may be delisted')\n",
      "['BF.B']: Exception('%ticker%: No price data found, symbol may be delisted (1d 2006-01-01 -> 2006-12-31)')\n"
     ]
    },
    {
     "name": "stdout",
     "output_type": "stream",
     "text": [
      "\n",
      "[                       0%%                      ]"
     ]
    },
    {
     "name": "stderr",
     "output_type": "stream",
     "text": [
      "/var/folders/c0/_1r630sx6bx7dllfq1l9hgrh0000gn/T/ipykernel_53234/3084458691.py:14: FutureWarning: The default fill_method='pad' in DataFrame.pct_change is deprecated and will be removed in a future version. Either fill in any non-leading NA values prior to calling pct_change or specify 'fill_method=None' to not fill NA values.\n",
      "  returns = np.log1p(data[\"Close\"].pct_change())\n"
     ]
    },
    {
     "name": "stdout",
     "output_type": "stream",
     "text": [
      "[*********************100%%**********************]  503 of 503 completed"
     ]
    },
    {
     "name": "stderr",
     "output_type": "stream",
     "text": [
      "\n",
      "75 Failed downloads:\n",
      "['KHC', 'CARR', 'CZR', 'NWSA', 'HPE', 'PAYC', 'CTLT', 'ENPH', 'INVH', 'FLT', 'FTNT', 'FOXA', 'ALLE', 'TRGP', 'PYPL', 'PANW', 'VICI', 'CTVA', 'KVUE', 'ABBV', 'XYL', 'CEG', 'CDAY', 'AWK', 'GM', 'MRNA', 'KDP', 'CFG', 'ZTS', 'SEDG', 'ABNB', 'APTV', 'CBOE', 'CDW', 'IQV', 'NCLH', 'HWM', 'KEYS', 'HCA', 'EPAM', 'VLTO', 'VRSK', 'AMCR', 'DOW', 'LW', 'FOX', 'FTV', 'NXPI', 'TSLA', 'PSX', 'FANG', 'PM', 'AVGO', 'QRVO', 'HLT', 'NWS', 'ETSY', 'GNRC', 'MPC', 'ANET', 'SYF', 'NOW', 'CHTR', 'IR', 'DG', 'WRK', 'HII', 'OTIS', 'LYB', 'V', 'META', 'GEHC', 'KMI']: Exception(\"%ticker%: Data doesn't exist for startDate = 1167627600, endDate = 1199077200\")\n",
      "['BRK.B']: Exception('%ticker%: No timezone found, symbol may be delisted')\n",
      "['BF.B']: Exception('%ticker%: No price data found, symbol may be delisted (1d 2007-01-01 -> 2007-12-31)')\n"
     ]
    },
    {
     "name": "stdout",
     "output_type": "stream",
     "text": [
      "\n"
     ]
    },
    {
     "name": "stderr",
     "output_type": "stream",
     "text": [
      "/var/folders/c0/_1r630sx6bx7dllfq1l9hgrh0000gn/T/ipykernel_53234/3084458691.py:14: FutureWarning: The default fill_method='pad' in DataFrame.pct_change is deprecated and will be removed in a future version. Either fill in any non-leading NA values prior to calling pct_change or specify 'fill_method=None' to not fill NA values.\n",
      "  returns = np.log1p(data[\"Close\"].pct_change())\n"
     ]
    },
    {
     "name": "stdout",
     "output_type": "stream",
     "text": [
      "[*********************100%%**********************]  503 of 503 completed"
     ]
    },
    {
     "name": "stderr",
     "output_type": "stream",
     "text": [
      "\n",
      "71 Failed downloads:\n",
      "['KHC', 'CZR', 'NWSA', 'HPE', 'CARR', 'CTLT', 'PAYC', 'ENPH', 'INVH', 'FLT', 'FTNT', 'FOXA', 'ALLE', 'TRGP', 'PANW', 'PYPL', 'VICI', 'CTVA', 'KVUE', 'ABBV', 'XYL', 'CEG', 'CDAY', 'GM', 'MRNA', 'CFG', 'ZTS', 'SEDG', 'ABNB', 'APTV', 'CBOE', 'CDW', 'IQV', 'NCLH', 'HWM', 'KEYS', 'HCA', 'EPAM', 'VLTO', 'VRSK', 'DOW', 'AMCR', 'LW', 'FOX', 'FTV', 'NXPI', 'TSLA', 'PSX', 'FANG', 'AVGO', 'HLT', 'QRVO', 'NWS', 'ETSY', 'GNRC', 'MPC', 'NOW', 'ANET', 'SYF', 'CHTR', 'DG', 'IR', 'WRK', 'HII', 'OTIS', 'LYB', 'META', 'GEHC', 'KMI']: Exception(\"%ticker%: Data doesn't exist for startDate = 1199163600, endDate = 1230699600\")\n",
      "['BRK.B']: Exception('%ticker%: No timezone found, symbol may be delisted')\n",
      "['BF.B']: Exception('%ticker%: No price data found, symbol may be delisted (1d 2008-01-01 -> 2008-12-31)')\n"
     ]
    },
    {
     "name": "stdout",
     "output_type": "stream",
     "text": [
      "\n",
      "[                       0%%                      ]"
     ]
    },
    {
     "name": "stderr",
     "output_type": "stream",
     "text": [
      "/var/folders/c0/_1r630sx6bx7dllfq1l9hgrh0000gn/T/ipykernel_53234/3084458691.py:14: FutureWarning: The default fill_method='pad' in DataFrame.pct_change is deprecated and will be removed in a future version. Either fill in any non-leading NA values prior to calling pct_change or specify 'fill_method=None' to not fill NA values.\n",
      "  returns = np.log1p(data[\"Close\"].pct_change())\n"
     ]
    },
    {
     "name": "stdout",
     "output_type": "stream",
     "text": [
      "[*********************100%%**********************]  503 of 503 completed"
     ]
    },
    {
     "name": "stderr",
     "output_type": "stream",
     "text": [
      "\n",
      "67 Failed downloads:\n",
      "['KHC', 'CARR', 'CZR', 'NWSA', 'HPE', 'CTLT', 'ENPH', 'FLT', 'INVH', 'PAYC', 'FOXA', 'ALLE', 'TRGP', 'PANW', 'PYPL', 'VICI', 'CTVA', 'KVUE', 'ABBV', 'CEG', 'XYL', 'CDAY', 'GM', 'MRNA', 'CFG', 'ZTS', 'SEDG', 'ABNB', 'APTV', 'CBOE', 'CDW', 'IQV', 'NCLH', 'HWM', 'KEYS', 'HCA', 'EPAM', 'VLTO', 'AMCR', 'DOW', 'LW', 'FOX', 'FTV', 'TSLA', 'NXPI', 'FANG', 'PSX', 'HLT', 'QRVO', 'NWS', 'ETSY', 'GNRC', 'MPC', 'SYF', 'NOW', 'ANET', 'CHTR', 'IR', 'WRK', 'OTIS', 'HII', 'LYB', 'META', 'GEHC', 'KMI']: Exception(\"%ticker%: Data doesn't exist for startDate = 1230786000, endDate = 1262235600\")\n",
      "['BRK.B']: Exception('%ticker%: No timezone found, symbol may be delisted')\n",
      "['BF.B']: Exception('%ticker%: No price data found, symbol may be delisted (1d 2009-01-01 -> 2009-12-31)')\n"
     ]
    },
    {
     "name": "stdout",
     "output_type": "stream",
     "text": [
      "\n",
      "[                       0%%                      ]"
     ]
    },
    {
     "name": "stderr",
     "output_type": "stream",
     "text": [
      "/var/folders/c0/_1r630sx6bx7dllfq1l9hgrh0000gn/T/ipykernel_53234/3084458691.py:14: FutureWarning: The default fill_method='pad' in DataFrame.pct_change is deprecated and will be removed in a future version. Either fill in any non-leading NA values prior to calling pct_change or specify 'fill_method=None' to not fill NA values.\n",
      "  returns = np.log1p(data[\"Close\"].pct_change())\n"
     ]
    },
    {
     "name": "stdout",
     "output_type": "stream",
     "text": [
      "[*********************100%%**********************]  503 of 503 completed"
     ]
    },
    {
     "name": "stderr",
     "output_type": "stream",
     "text": [
      "\n",
      "58 Failed downloads:\n",
      "['KHC', 'CARR', 'NWSA', 'HPE', 'CZR', 'CTLT', 'PAYC', 'INVH', 'ENPH', 'FOXA', 'ALLE', 'PYPL', 'PANW', 'CTVA', 'VICI', 'KVUE', 'ABBV', 'XYL', 'CDAY', 'CEG', 'MRNA', 'CFG', 'ZTS', 'SEDG', 'ABNB', 'APTV', 'CDW', 'IQV', 'NCLH', 'HWM', 'KEYS', 'HCA', 'EPAM', 'VLTO', 'AMCR', 'DOW', 'LW', 'FOX', 'FTV', 'PSX', 'FANG', 'HLT', 'NWS', 'QRVO', 'ETSY', 'MPC', 'ANET', 'SYF', 'NOW', 'IR', 'WRK', 'HII', 'OTIS', 'META', 'GEHC', 'KMI']: Exception(\"%ticker%: Data doesn't exist for startDate = 1262322000, endDate = 1293771600\")\n",
      "['BRK.B']: Exception('%ticker%: No timezone found, symbol may be delisted')\n",
      "['BF.B']: Exception('%ticker%: No price data found, symbol may be delisted (1d 2010-01-01 -> 2010-12-31)')\n"
     ]
    },
    {
     "name": "stdout",
     "output_type": "stream",
     "text": [
      "\n",
      "[                       0%%                      ]"
     ]
    },
    {
     "name": "stderr",
     "output_type": "stream",
     "text": [
      "/var/folders/c0/_1r630sx6bx7dllfq1l9hgrh0000gn/T/ipykernel_53234/3084458691.py:14: FutureWarning: The default fill_method='pad' in DataFrame.pct_change is deprecated and will be removed in a future version. Either fill in any non-leading NA values prior to calling pct_change or specify 'fill_method=None' to not fill NA values.\n",
      "  returns = np.log1p(data[\"Close\"].pct_change())\n"
     ]
    },
    {
     "name": "stdout",
     "output_type": "stream",
     "text": [
      "[*********************100%%**********************]  503 of 503 completed"
     ]
    },
    {
     "name": "stderr",
     "output_type": "stream",
     "text": [
      "\n",
      "52 Failed downloads:\n",
      "['KHC', 'CARR', 'HPE', 'NWSA', 'CZR', 'CTLT', 'PAYC', 'INVH', 'ENPH', 'FOXA', 'ALLE', 'PYPL', 'PANW', 'VICI', 'CTVA', 'KVUE', 'ABBV', 'CEG', 'CDAY', 'MRNA', 'CFG', 'ZTS', 'SEDG', 'ABNB', 'CDW', 'IQV', 'NCLH', 'HWM', 'KEYS', 'EPAM', 'VLTO', 'DOW', 'AMCR', 'LW', 'FOX', 'FTV', 'PSX', 'FANG', 'HLT', 'QRVO', 'NWS', 'ETSY', 'NOW', 'ANET', 'SYF', 'IR', 'WRK', 'OTIS', 'META', 'GEHC']: Exception(\"%ticker%: Data doesn't exist for startDate = 1293858000, endDate = 1325307600\")\n",
      "['BRK.B']: Exception('%ticker%: No timezone found, symbol may be delisted')\n",
      "['BF.B']: Exception('%ticker%: No price data found, symbol may be delisted (1d 2011-01-01 -> 2011-12-31)')\n"
     ]
    },
    {
     "name": "stdout",
     "output_type": "stream",
     "text": [
      "\n"
     ]
    },
    {
     "name": "stderr",
     "output_type": "stream",
     "text": [
      "/var/folders/c0/_1r630sx6bx7dllfq1l9hgrh0000gn/T/ipykernel_53234/3084458691.py:14: FutureWarning: The default fill_method='pad' in DataFrame.pct_change is deprecated and will be removed in a future version. Either fill in any non-leading NA values prior to calling pct_change or specify 'fill_method=None' to not fill NA values.\n",
      "  returns = np.log1p(data[\"Close\"].pct_change())\n"
     ]
    },
    {
     "name": "stdout",
     "output_type": "stream",
     "text": [
      "[*********************100%%**********************]  503 of 503 completed"
     ]
    },
    {
     "name": "stderr",
     "output_type": "stream",
     "text": [
      "\n",
      "44 Failed downloads:\n",
      "['CARR', 'KHC', 'NWSA', 'CZR', 'HPE', 'CTLT', 'INVH', 'PAYC', 'FOXA', 'ALLE', 'PYPL', 'VICI', 'KVUE', 'CTVA', 'ABBV', 'CEG', 'CDAY', 'MRNA', 'CFG', 'ZTS', 'SEDG', 'ABNB', 'CDW', 'IQV', 'NCLH', 'HWM', 'KEYS', 'VLTO', 'DOW', 'LW', 'FOX', 'FTV', 'HLT', 'QRVO', 'NWS', 'ETSY', 'ANET', 'SYF', 'IR', 'WRK', 'OTIS', 'GEHC']: Exception(\"%ticker%: Data doesn't exist for startDate = 1325394000, endDate = 1356930000\")\n",
      "['BRK.B']: Exception('%ticker%: No timezone found, symbol may be delisted')\n",
      "['BF.B']: Exception('%ticker%: No price data found, symbol may be delisted (1d 2012-01-01 -> 2012-12-31)')\n"
     ]
    },
    {
     "name": "stdout",
     "output_type": "stream",
     "text": [
      "\n"
     ]
    },
    {
     "name": "stderr",
     "output_type": "stream",
     "text": [
      "/var/folders/c0/_1r630sx6bx7dllfq1l9hgrh0000gn/T/ipykernel_53234/3084458691.py:14: FutureWarning: The default fill_method='pad' in DataFrame.pct_change is deprecated and will be removed in a future version. Either fill in any non-leading NA values prior to calling pct_change or specify 'fill_method=None' to not fill NA values.\n",
      "  returns = np.log1p(data[\"Close\"].pct_change())\n"
     ]
    },
    {
     "name": "stdout",
     "output_type": "stream",
     "text": [
      "[*********************100%%**********************]  503 of 503 completed"
     ]
    },
    {
     "name": "stderr",
     "output_type": "stream",
     "text": [
      "\n",
      "35 Failed downloads:\n",
      "['KHC', 'CARR', 'CZR', 'HPE', 'CTLT', 'PAYC', 'INVH', 'FOXA', 'PYPL', 'CTVA', 'VICI', 'KVUE', 'CEG', 'CDAY', 'MRNA', 'CFG', 'SEDG', 'ABNB', 'HWM', 'KEYS', 'VLTO', 'DOW', 'LW', 'FOX', 'FTV', 'QRVO', 'ETSY', 'ANET', 'SYF', 'IR', 'WRK', 'OTIS', 'GEHC']: Exception(\"%ticker%: Data doesn't exist for startDate = 1357016400, endDate = 1388466000\")\n",
      "['BRK.B']: Exception('%ticker%: No timezone found, symbol may be delisted')\n",
      "['BF.B']: Exception('%ticker%: No price data found, symbol may be delisted (1d 2013-01-01 -> 2013-12-31)')\n"
     ]
    },
    {
     "name": "stdout",
     "output_type": "stream",
     "text": [
      "\n"
     ]
    },
    {
     "name": "stderr",
     "output_type": "stream",
     "text": [
      "/var/folders/c0/_1r630sx6bx7dllfq1l9hgrh0000gn/T/ipykernel_53234/3084458691.py:14: FutureWarning: The default fill_method='pad' in DataFrame.pct_change is deprecated and will be removed in a future version. Either fill in any non-leading NA values prior to calling pct_change or specify 'fill_method=None' to not fill NA values.\n",
      "  returns = np.log1p(data[\"Close\"].pct_change())\n"
     ]
    },
    {
     "name": "stdout",
     "output_type": "stream",
     "text": [
      "[*********************100%%**********************]  503 of 503 completed"
     ]
    },
    {
     "name": "stderr",
     "output_type": "stream",
     "text": [
      "\n",
      "28 Failed downloads:\n",
      "['KHC', 'CARR', 'HPE', 'INVH', 'FOXA', 'PYPL', 'VICI', 'CTVA', 'KVUE', 'CEG', 'CDAY', 'MRNA', 'SEDG', 'ABNB', 'HWM', 'VLTO', 'DOW', 'LW', 'FOX', 'FTV', 'QRVO', 'ETSY', 'IR', 'WRK', 'OTIS', 'GEHC']: Exception(\"%ticker%: Data doesn't exist for startDate = 1388552400, endDate = 1420002000\")\n",
      "['BRK.B']: Exception('%ticker%: No timezone found, symbol may be delisted')\n",
      "['BF.B']: Exception('%ticker%: No price data found, symbol may be delisted (1d 2014-01-01 -> 2014-12-31)')\n"
     ]
    },
    {
     "name": "stdout",
     "output_type": "stream",
     "text": [
      "\n",
      "[                       0%%                      ]  2 of 503 completed"
     ]
    },
    {
     "name": "stderr",
     "output_type": "stream",
     "text": [
      "/var/folders/c0/_1r630sx6bx7dllfq1l9hgrh0000gn/T/ipykernel_53234/3084458691.py:14: FutureWarning: The default fill_method='pad' in DataFrame.pct_change is deprecated and will be removed in a future version. Either fill in any non-leading NA values prior to calling pct_change or specify 'fill_method=None' to not fill NA values.\n",
      "  returns = np.log1p(data[\"Close\"].pct_change())\n"
     ]
    },
    {
     "name": "stdout",
     "output_type": "stream",
     "text": [
      "[*********************100%%**********************]  503 of 503 completed"
     ]
    },
    {
     "name": "stderr",
     "output_type": "stream",
     "text": [
      "\n",
      "21 Failed downloads:\n",
      "['CARR', 'INVH', 'FOXA', 'VICI', 'CTVA', 'KVUE', 'CEG', 'CDAY', 'MRNA', 'ABNB', 'HWM', 'VLTO', 'DOW', 'LW', 'FOX', 'FTV', 'IR', 'OTIS', 'GEHC']: Exception(\"%ticker%: Data doesn't exist for startDate = 1420088400, endDate = 1451538000\")\n",
      "['BRK.B']: Exception('%ticker%: No timezone found, symbol may be delisted')\n",
      "['BF.B']: Exception('%ticker%: No price data found, symbol may be delisted (1d 2015-01-01 -> 2015-12-31)')\n"
     ]
    },
    {
     "name": "stdout",
     "output_type": "stream",
     "text": [
      "\n"
     ]
    },
    {
     "name": "stderr",
     "output_type": "stream",
     "text": [
      "/var/folders/c0/_1r630sx6bx7dllfq1l9hgrh0000gn/T/ipykernel_53234/3084458691.py:14: FutureWarning: The default fill_method='pad' in DataFrame.pct_change is deprecated and will be removed in a future version. Either fill in any non-leading NA values prior to calling pct_change or specify 'fill_method=None' to not fill NA values.\n",
      "  returns = np.log1p(data[\"Close\"].pct_change())\n"
     ]
    },
    {
     "name": "stdout",
     "output_type": "stream",
     "text": [
      "[*********************100%%**********************]  503 of 503 completed"
     ]
    },
    {
     "name": "stderr",
     "output_type": "stream",
     "text": [
      "\n",
      "18 Failed downloads:\n",
      "['CARR', 'INVH', 'FOXA', 'VICI', 'KVUE', 'CTVA', 'CEG', 'CDAY', 'MRNA', 'ABNB', 'VLTO', 'DOW', 'FOX', 'IR', 'OTIS', 'GEHC']: Exception(\"%ticker%: Data doesn't exist for startDate = 1451624400, endDate = 1483160400\")\n",
      "['BRK.B']: Exception('%ticker%: No timezone found, symbol may be delisted')\n",
      "['BF.B']: Exception('%ticker%: No price data found, symbol may be delisted (1d 2016-01-01 -> 2016-12-31)')\n"
     ]
    },
    {
     "name": "stdout",
     "output_type": "stream",
     "text": [
      "\n"
     ]
    },
    {
     "name": "stderr",
     "output_type": "stream",
     "text": [
      "/var/folders/c0/_1r630sx6bx7dllfq1l9hgrh0000gn/T/ipykernel_53234/3084458691.py:14: FutureWarning: The default fill_method='pad' in DataFrame.pct_change is deprecated and will be removed in a future version. Either fill in any non-leading NA values prior to calling pct_change or specify 'fill_method=None' to not fill NA values.\n",
      "  returns = np.log1p(data[\"Close\"].pct_change())\n"
     ]
    },
    {
     "name": "stdout",
     "output_type": "stream",
     "text": [
      "[*********************100%%**********************]  503 of 503 completed"
     ]
    },
    {
     "name": "stderr",
     "output_type": "stream",
     "text": [
      "\n",
      "16 Failed downloads:\n",
      "['CARR', 'FOXA', 'VICI', 'CTVA', 'KVUE', 'CEG', 'CDAY', 'MRNA', 'ABNB', 'VLTO', 'DOW', 'FOX', 'OTIS', 'GEHC']: Exception(\"%ticker%: Data doesn't exist for startDate = 1483246800, endDate = 1514696400\")\n",
      "['BRK.B']: Exception('%ticker%: No timezone found, symbol may be delisted')\n",
      "['BF.B']: Exception('%ticker%: No price data found, symbol may be delisted (1d 2017-01-01 -> 2017-12-31)')\n"
     ]
    },
    {
     "name": "stdout",
     "output_type": "stream",
     "text": [
      "\n"
     ]
    },
    {
     "name": "stderr",
     "output_type": "stream",
     "text": [
      "/var/folders/c0/_1r630sx6bx7dllfq1l9hgrh0000gn/T/ipykernel_53234/3084458691.py:14: FutureWarning: The default fill_method='pad' in DataFrame.pct_change is deprecated and will be removed in a future version. Either fill in any non-leading NA values prior to calling pct_change or specify 'fill_method=None' to not fill NA values.\n",
      "  returns = np.log1p(data[\"Close\"].pct_change())\n"
     ]
    },
    {
     "name": "stdout",
     "output_type": "stream",
     "text": [
      "[*********************100%%**********************]  503 of 503 completed"
     ]
    },
    {
     "name": "stderr",
     "output_type": "stream",
     "text": [
      "\n",
      "13 Failed downloads:\n",
      "['CARR', 'FOXA', 'CTVA', 'KVUE', 'CEG', 'ABNB', 'VLTO', 'DOW', 'FOX', 'OTIS', 'GEHC']: Exception(\"%ticker%: Data doesn't exist for startDate = 1514782800, endDate = 1546232400\")\n",
      "['BRK.B']: Exception('%ticker%: No timezone found, symbol may be delisted')\n"
     ]
    },
    {
     "name": "stdout",
     "output_type": "stream",
     "text": [
      "\n"
     ]
    },
    {
     "name": "stderr",
     "output_type": "stream",
     "text": [
      "['BF.B']: Exception('%ticker%: No price data found, symbol may be delisted (1d 2018-01-01 -> 2018-12-31)')\n"
     ]
    },
    {
     "name": "stdout",
     "output_type": "stream",
     "text": [
      "[                       0%%                      ]"
     ]
    },
    {
     "name": "stderr",
     "output_type": "stream",
     "text": [
      "/var/folders/c0/_1r630sx6bx7dllfq1l9hgrh0000gn/T/ipykernel_53234/3084458691.py:14: FutureWarning: The default fill_method='pad' in DataFrame.pct_change is deprecated and will be removed in a future version. Either fill in any non-leading NA values prior to calling pct_change or specify 'fill_method=None' to not fill NA values.\n",
      "  returns = np.log1p(data[\"Close\"].pct_change())\n"
     ]
    },
    {
     "name": "stdout",
     "output_type": "stream",
     "text": [
      "[*********************100%%**********************]  503 of 503 completed"
     ]
    },
    {
     "name": "stderr",
     "output_type": "stream",
     "text": [
      "\n",
      "9 Failed downloads:\n",
      "['CARR', 'KVUE', 'CEG', 'ABNB', 'VLTO', 'OTIS', 'GEHC']: Exception(\"%ticker%: Data doesn't exist for startDate = 1546318800, endDate = 1577768400\")\n",
      "['BRK.B']: Exception('%ticker%: No timezone found, symbol may be delisted')\n",
      "['BF.B']: Exception('%ticker%: No price data found, symbol may be delisted (1d 2019-01-01 -> 2019-12-31)')\n"
     ]
    },
    {
     "name": "stdout",
     "output_type": "stream",
     "text": [
      "\n"
     ]
    },
    {
     "name": "stderr",
     "output_type": "stream",
     "text": [
      "/var/folders/c0/_1r630sx6bx7dllfq1l9hgrh0000gn/T/ipykernel_53234/3084458691.py:14: FutureWarning: The default fill_method='pad' in DataFrame.pct_change is deprecated and will be removed in a future version. Either fill in any non-leading NA values prior to calling pct_change or specify 'fill_method=None' to not fill NA values.\n",
      "  returns = np.log1p(data[\"Close\"].pct_change())\n"
     ]
    },
    {
     "name": "stdout",
     "output_type": "stream",
     "text": [
      "[*********************100%%**********************]  503 of 503 completed"
     ]
    },
    {
     "name": "stderr",
     "output_type": "stream",
     "text": [
      "\n",
      "6 Failed downloads:\n",
      "['KVUE', 'CEG', 'VLTO', 'GEHC']: Exception(\"%ticker%: Data doesn't exist for startDate = 1577854800, endDate = 1609390800\")\n",
      "['BRK.B']: Exception('%ticker%: No timezone found, symbol may be delisted')\n"
     ]
    },
    {
     "name": "stdout",
     "output_type": "stream",
     "text": [
      "\n"
     ]
    },
    {
     "name": "stderr",
     "output_type": "stream",
     "text": [
      "['BF.B']: Exception('%ticker%: No price data found, symbol may be delisted (1d 2020-01-01 -> 2020-12-31)')\n"
     ]
    },
    {
     "name": "stdout",
     "output_type": "stream",
     "text": [
      "[                       0%%                      ]  2 of 503 completed"
     ]
    },
    {
     "name": "stderr",
     "output_type": "stream",
     "text": [
      "/var/folders/c0/_1r630sx6bx7dllfq1l9hgrh0000gn/T/ipykernel_53234/3084458691.py:14: FutureWarning: The default fill_method='pad' in DataFrame.pct_change is deprecated and will be removed in a future version. Either fill in any non-leading NA values prior to calling pct_change or specify 'fill_method=None' to not fill NA values.\n",
      "  returns = np.log1p(data[\"Close\"].pct_change())\n"
     ]
    },
    {
     "name": "stdout",
     "output_type": "stream",
     "text": [
      "[*********************100%%**********************]  503 of 503 completed"
     ]
    },
    {
     "name": "stderr",
     "output_type": "stream",
     "text": [
      "\n",
      "6 Failed downloads:\n",
      "['KVUE', 'CEG', 'VLTO', 'GEHC']: Exception(\"%ticker%: Data doesn't exist for startDate = 1609477200, endDate = 1640926800\")\n",
      "['BRK.B']: Exception('%ticker%: No timezone found, symbol may be delisted')\n",
      "['BF.B']: Exception('%ticker%: No price data found, symbol may be delisted (1d 2021-01-01 -> 2021-12-31)')\n"
     ]
    },
    {
     "name": "stdout",
     "output_type": "stream",
     "text": [
      "\n"
     ]
    },
    {
     "name": "stderr",
     "output_type": "stream",
     "text": [
      "/var/folders/c0/_1r630sx6bx7dllfq1l9hgrh0000gn/T/ipykernel_53234/3084458691.py:14: FutureWarning: The default fill_method='pad' in DataFrame.pct_change is deprecated and will be removed in a future version. Either fill in any non-leading NA values prior to calling pct_change or specify 'fill_method=None' to not fill NA values.\n",
      "  returns = np.log1p(data[\"Close\"].pct_change())\n"
     ]
    },
    {
     "name": "stdout",
     "output_type": "stream",
     "text": [
      "[*********************100%%**********************]  503 of 503 completed"
     ]
    },
    {
     "name": "stderr",
     "output_type": "stream",
     "text": [
      "\n",
      "4 Failed downloads:\n",
      "['KVUE', 'VLTO']: Exception(\"%ticker%: Data doesn't exist for startDate = 1641013200, endDate = 1672462800\")\n",
      "['BRK.B']: Exception('%ticker%: No timezone found, symbol may be delisted')\n",
      "['BF.B']: Exception('%ticker%: No price data found, symbol may be delisted (1d 2022-01-01 -> 2022-12-31)')\n"
     ]
    },
    {
     "name": "stdout",
     "output_type": "stream",
     "text": [
      "\n"
     ]
    },
    {
     "name": "stderr",
     "output_type": "stream",
     "text": [
      "/var/folders/c0/_1r630sx6bx7dllfq1l9hgrh0000gn/T/ipykernel_53234/3084458691.py:14: FutureWarning: The default fill_method='pad' in DataFrame.pct_change is deprecated and will be removed in a future version. Either fill in any non-leading NA values prior to calling pct_change or specify 'fill_method=None' to not fill NA values.\n",
      "  returns = np.log1p(data[\"Close\"].pct_change())\n"
     ]
    }
   ],
   "source": [
    "measured = non_normal = 0\n",
    "for year in range(2000, 2023):\n",
    "    start = f\"{year}-01-01\"\n",
    "    end = f\"{year}-12-31\"\n",
    "    rd = returns_distribution(symbols, start, end, filename=f\"returns_distribution_data/rd-{year}.csv\")\n",
    "    non_normal += sum(sample_stats[\"K-Squared P-Value\"] < 0.05)\n",
    "    measured += len(sample_stats)"
   ]
  },
  {
   "cell_type": "code",
   "execution_count": 13,
   "metadata": {},
   "outputs": [
    {
     "name": "stdout",
     "output_type": "stream",
     "text": [
      "From 2000 to 2022, of 11109 measured year long stock returns behaviour, \n",
      "10971 showed behaviour sufficient to reject the null-hypothesis that they\n",
      "are normally distributed with constant variance, based on the K-Squared Test\n"
     ]
    }
   ],
   "source": [
    "print(f\"From 2000 to 2022, of {measured} measured year long stock returns behaviour, \\\n",
    "\\n{non_normal} showed behaviour sufficient to reject the null-hypothesis that they\\\n",
    "\\nare normally distributed with constant variance, based on the K-Squared Test\")"
   ]
  },
  {
   "cell_type": "code",
   "execution_count": 14,
   "metadata": {},
   "outputs": [
    {
     "data": {
      "text/plain": [
       "Date\n",
       "2016-01-04         NaN\n",
       "2016-01-05   -0.025379\n",
       "2016-01-06   -0.019763\n",
       "2016-01-07   -0.043121\n",
       "2016-01-08    0.005274\n",
       "                ...   \n",
       "2016-12-23    0.001976\n",
       "2016-12-27    0.006331\n",
       "2016-12-28   -0.004273\n",
       "2016-12-29   -0.000257\n",
       "2016-12-30   -0.007826\n",
       "Name: AAPL, Length: 252, dtype: float64"
      ]
     },
     "execution_count": 14,
     "metadata": {},
     "output_type": "execute_result"
    }
   ],
   "source": [
    "returns[\"AAPL\"]"
   ]
  },
  {
   "cell_type": "code",
   "execution_count": 15,
   "metadata": {},
   "outputs": [
    {
     "name": "stdout",
     "output_type": "stream",
     "text": [
      "[ 1.          0.07476076 -0.0111054  -0.08317879 -0.05215588  0.01400959\n",
      "  0.05787196  0.12701511  0.03059031  0.08775885 -0.0465251   0.01297636\n",
      " -0.05761752 -0.03579687  0.01146093 -0.04107294 -0.0205257  -0.01897049\n",
      " -0.02608329 -0.02787475  0.00880794 -0.0743006  -0.05691267 -0.05132423\n",
      "  0.01881741]\n",
      "[ 1.          0.11804963  0.1553612   0.09634534  0.11981463  0.06844406\n",
      " -0.01571357  0.12150808 -0.00923563 -0.00802013  0.07915942  0.07715719\n",
      " -0.07752164  0.14649487 -0.02886468  0.04135896 -0.01863158 -0.03975544\n",
      "  0.04589823 -0.02981041  0.0562499   0.05215087 -0.02393289  0.01873019\n",
      " -0.09499949]\n"
     ]
    }
   ],
   "source": [
    "from statsmodels.tsa.stattools import acf, pacf\n",
    "print(acf(returns[\"AAPL\"], missing=\"conservative\"))\n",
    "print(acf(abs(returns[\"AAPL\"]), missing=\"conservative\"))"
   ]
  },
  {
   "cell_type": "code",
   "execution_count": 16,
   "metadata": {},
   "outputs": [
    {
     "data": {
      "text/plain": [
       "-0.011256042054929487"
      ]
     },
     "execution_count": 16,
     "metadata": {},
     "output_type": "execute_result"
    }
   ],
   "source": [
    "returns[\"AAPL\"].autocorr(lag=2)"
   ]
  },
  {
   "cell_type": "code",
   "execution_count": 17,
   "metadata": {},
   "outputs": [
    {
     "data": {
      "text/plain": [
       "(array([1.        , 0.11804963, 0.1553612 , 0.09634534, 0.11981463,\n",
       "        0.06844406]),\n",
       " array([ 3.53983869,  9.69557565, 12.07243785, 15.76320776, 16.97249833]),\n",
       " array([0.05991129, 0.00784571, 0.00713909, 0.00335393, 0.00455225]))"
      ]
     },
     "execution_count": 17,
     "metadata": {},
     "output_type": "execute_result"
    }
   ],
   "source": [
    "acf(abs(returns[\"AAPL\"]).dropna(), nlags=5, qstat=True)"
   ]
  },
  {
   "cell_type": "code",
   "execution_count": 18,
   "metadata": {},
   "outputs": [],
   "source": [
    "#Autocorrelation stats for stocks: autocorrelation, ljung-box q-statistic, p-value\n",
    "def ac_format(ac):\n",
    "    \"\"\"\n",
    "    Filters acf function to remove autocorrelation value for 0 lag to make array same dimension\n",
    "    \"\"\"\n",
    "    lags = ac[0][1:6]\n",
    "    rest = ac[1:3]\n",
    "    return [lags] + list(rest)\n",
    "\n",
    "full_r_ac = np.array(list(ac_format(acf(returns[symbol].dropna(), nlags=5, qstat=True)) for symbol in returns.columns))\n",
    "full_sqr_r_ac = np.array(list(ac_format(acf(returns[symbol].dropna()**2, nlags=5, qstat=True)) for symbol in returns.columns))\n",
    "full_abs_r_ac = np.array(list(ac_format(acf(abs(returns[symbol].dropna()), nlags=5, qstat=True)) for symbol in returns.columns))\n",
    "r_pac = np.array(list(pacf(returns[symbol].dropna(), nlags=5)[1:6] for symbol in returns.columns)).T\n",
    "sqr_r_pac = np.array(list(pacf(returns[symbol].dropna()**2, nlags=5)[1:6] for symbol in returns.columns)).T\n",
    "abs_r_pac = np.array(list(pacf(abs(returns[symbol].dropna()), nlags=5)[1:6] for symbol in returns.columns)).T"
   ]
  },
  {
   "cell_type": "code",
   "execution_count": 19,
   "metadata": {},
   "outputs": [],
   "source": [
    "#Slicing to get autocorrelations, q-statistic, and p-values exclusively\n",
    "r_ac = full_r_ac[:,0].T\n",
    "r_ldq = full_r_ac[:,1].T\n",
    "r_pval = full_r_ac[:,2].T\n",
    "sqr_r_ac = full_sqr_r_ac[:,0].T\n",
    "sqr_r_ldq = full_sqr_r_ac[:,1].T\n",
    "sqr_r_pval = full_sqr_r_ac[:,2].T\n",
    "abs_r_ac = full_abs_r_ac[:,0].T\n",
    "abs_r_ldq = full_abs_r_ac[:,1].T\n",
    "abs_r_pval = full_abs_r_ac[:,2].T"
   ]
  },
  {
   "cell_type": "code",
   "execution_count": 20,
   "metadata": {},
   "outputs": [
    {
     "data": {
      "text/html": [
       "<div>\n",
       "<style scoped>\n",
       "    .dataframe tbody tr th:only-of-type {\n",
       "        vertical-align: middle;\n",
       "    }\n",
       "\n",
       "    .dataframe tbody tr th {\n",
       "        vertical-align: top;\n",
       "    }\n",
       "\n",
       "    .dataframe thead tr th {\n",
       "        text-align: left;\n",
       "    }\n",
       "</style>\n",
       "<table border=\"1\" class=\"dataframe\">\n",
       "  <thead>\n",
       "    <tr>\n",
       "      <th></th>\n",
       "      <th colspan=\"5\" halign=\"left\">Returns Autocorrelation P Value</th>\n",
       "      <th colspan=\"5\" halign=\"left\">Squared Returns Autocorrelation P Value</th>\n",
       "      <th colspan=\"5\" halign=\"left\">Absolute Returns Autocorrelation P Value</th>\n",
       "    </tr>\n",
       "    <tr>\n",
       "      <th></th>\n",
       "      <th>Lag 1</th>\n",
       "      <th>Lag 2</th>\n",
       "      <th>Lag 3</th>\n",
       "      <th>Lag 4</th>\n",
       "      <th>Lag 5</th>\n",
       "      <th>Lag 1</th>\n",
       "      <th>Lag 2</th>\n",
       "      <th>Lag 3</th>\n",
       "      <th>Lag 4</th>\n",
       "      <th>Lag 5</th>\n",
       "      <th>Lag 1</th>\n",
       "      <th>Lag 2</th>\n",
       "      <th>Lag 3</th>\n",
       "      <th>Lag 4</th>\n",
       "      <th>Lag 5</th>\n",
       "    </tr>\n",
       "  </thead>\n",
       "  <tbody>\n",
       "    <tr>\n",
       "      <th>A</th>\n",
       "      <td>0.130921</td>\n",
       "      <td>0.268312</td>\n",
       "      <td>0.367428</td>\n",
       "      <td>0.530027</td>\n",
       "      <td>0.385199</td>\n",
       "      <td>0.050568</td>\n",
       "      <td>1.255181e-01</td>\n",
       "      <td>1.702617e-01</td>\n",
       "      <td>2.784908e-01</td>\n",
       "      <td>2.353496e-01</td>\n",
       "      <td>0.047793</td>\n",
       "      <td>1.402036e-01</td>\n",
       "      <td>2.385681e-01</td>\n",
       "      <td>2.641830e-01</td>\n",
       "      <td>8.410957e-02</td>\n",
       "    </tr>\n",
       "    <tr>\n",
       "      <th>AAL</th>\n",
       "      <td>0.357322</td>\n",
       "      <td>0.650913</td>\n",
       "      <td>0.720307</td>\n",
       "      <td>0.669926</td>\n",
       "      <td>0.581132</td>\n",
       "      <td>0.010124</td>\n",
       "      <td>5.751074e-03</td>\n",
       "      <td>1.273537e-02</td>\n",
       "      <td>2.384037e-02</td>\n",
       "      <td>4.631031e-02</td>\n",
       "      <td>0.051396</td>\n",
       "      <td>2.180922e-02</td>\n",
       "      <td>2.957690e-02</td>\n",
       "      <td>5.376955e-02</td>\n",
       "      <td>7.861911e-02</td>\n",
       "    </tr>\n",
       "    <tr>\n",
       "      <th>AAPL</th>\n",
       "      <td>0.233450</td>\n",
       "      <td>0.484041</td>\n",
       "      <td>0.358536</td>\n",
       "      <td>0.416645</td>\n",
       "      <td>0.553338</td>\n",
       "      <td>0.544744</td>\n",
       "      <td>3.409333e-01</td>\n",
       "      <td>9.611677e-02</td>\n",
       "      <td>1.554877e-01</td>\n",
       "      <td>2.137252e-01</td>\n",
       "      <td>0.059911</td>\n",
       "      <td>7.845714e-03</td>\n",
       "      <td>7.139094e-03</td>\n",
       "      <td>3.353933e-03</td>\n",
       "      <td>4.552251e-03</td>\n",
       "    </tr>\n",
       "    <tr>\n",
       "      <th>ABBV</th>\n",
       "      <td>0.164150</td>\n",
       "      <td>0.165971</td>\n",
       "      <td>0.064061</td>\n",
       "      <td>0.108301</td>\n",
       "      <td>0.081173</td>\n",
       "      <td>0.000177</td>\n",
       "      <td>5.164326e-11</td>\n",
       "      <td>8.995405e-11</td>\n",
       "      <td>2.861434e-10</td>\n",
       "      <td>1.086147e-09</td>\n",
       "      <td>0.004960</td>\n",
       "      <td>6.047782e-11</td>\n",
       "      <td>4.925164e-11</td>\n",
       "      <td>3.712702e-11</td>\n",
       "      <td>7.740550e-11</td>\n",
       "    </tr>\n",
       "    <tr>\n",
       "      <th>ABT</th>\n",
       "      <td>0.333690</td>\n",
       "      <td>0.522005</td>\n",
       "      <td>0.464737</td>\n",
       "      <td>0.626952</td>\n",
       "      <td>0.758816</td>\n",
       "      <td>0.110808</td>\n",
       "      <td>2.721920e-01</td>\n",
       "      <td>4.408785e-01</td>\n",
       "      <td>5.868604e-01</td>\n",
       "      <td>7.057702e-01</td>\n",
       "      <td>0.001523</td>\n",
       "      <td>6.259967e-03</td>\n",
       "      <td>1.685231e-02</td>\n",
       "      <td>3.586956e-02</td>\n",
       "      <td>6.647382e-02</td>\n",
       "    </tr>\n",
       "  </tbody>\n",
       "</table>\n",
       "</div>"
      ],
      "text/plain": [
       "     Returns Autocorrelation P Value                                          \\\n",
       "                               Lag 1     Lag 2     Lag 3     Lag 4     Lag 5   \n",
       "A                           0.130921  0.268312  0.367428  0.530027  0.385199   \n",
       "AAL                         0.357322  0.650913  0.720307  0.669926  0.581132   \n",
       "AAPL                        0.233450  0.484041  0.358536  0.416645  0.553338   \n",
       "ABBV                        0.164150  0.165971  0.064061  0.108301  0.081173   \n",
       "ABT                         0.333690  0.522005  0.464737  0.626952  0.758816   \n",
       "\n",
       "     Squared Returns Autocorrelation P Value                              \\\n",
       "                                       Lag 1         Lag 2         Lag 3   \n",
       "A                                   0.050568  1.255181e-01  1.702617e-01   \n",
       "AAL                                 0.010124  5.751074e-03  1.273537e-02   \n",
       "AAPL                                0.544744  3.409333e-01  9.611677e-02   \n",
       "ABBV                                0.000177  5.164326e-11  8.995405e-11   \n",
       "ABT                                 0.110808  2.721920e-01  4.408785e-01   \n",
       "\n",
       "                                 Absolute Returns Autocorrelation P Value  \\\n",
       "             Lag 4         Lag 5                                    Lag 1   \n",
       "A     2.784908e-01  2.353496e-01                                 0.047793   \n",
       "AAL   2.384037e-02  4.631031e-02                                 0.051396   \n",
       "AAPL  1.554877e-01  2.137252e-01                                 0.059911   \n",
       "ABBV  2.861434e-10  1.086147e-09                                 0.004960   \n",
       "ABT   5.868604e-01  7.057702e-01                                 0.001523   \n",
       "\n",
       "                                                              \n",
       "             Lag 2         Lag 3         Lag 4         Lag 5  \n",
       "A     1.402036e-01  2.385681e-01  2.641830e-01  8.410957e-02  \n",
       "AAL   2.180922e-02  2.957690e-02  5.376955e-02  7.861911e-02  \n",
       "AAPL  7.845714e-03  7.139094e-03  3.353933e-03  4.552251e-03  \n",
       "ABBV  6.047782e-11  4.925164e-11  3.712702e-11  7.740550e-11  \n",
       "ABT   6.259967e-03  1.685231e-02  3.586956e-02  6.647382e-02  "
      ]
     },
     "execution_count": 20,
     "metadata": {},
     "output_type": "execute_result"
    }
   ],
   "source": [
    "#P-Value data-frame for different time lags\n",
    "p = pd.DataFrame(\n",
    "    {\n",
    "    **{(\"Returns Autocorrelation P Value\", f\"Lag {l+1}\"): r_pval[l] for l in range(5)},\n",
    "    **{(\"Squared Returns Autocorrelation P Value\", f\"Lag {l+1}\"): sqr_r_pval[l] for l in range(5)},\n",
    "    **{(\"Absolute Returns Autocorrelation P Value\", f\"Lag {l+1}\"): abs_r_pval[l] for l in range(5)}\n",
    "    }, index = returns.columns\n",
    ")\n",
    "p.head()"
   ]
  },
  {
   "cell_type": "code",
   "execution_count": 21,
   "metadata": {},
   "outputs": [
    {
     "data": {
      "text/html": [
       "<div>\n",
       "<style scoped>\n",
       "    .dataframe tbody tr th:only-of-type {\n",
       "        vertical-align: middle;\n",
       "    }\n",
       "\n",
       "    .dataframe tbody tr th {\n",
       "        vertical-align: top;\n",
       "    }\n",
       "\n",
       "    .dataframe thead tr th {\n",
       "        text-align: left;\n",
       "    }\n",
       "</style>\n",
       "<table border=\"1\" class=\"dataframe\">\n",
       "  <thead>\n",
       "    <tr>\n",
       "      <th></th>\n",
       "      <th colspan=\"5\" halign=\"left\">Returns Ljung-Box Q Statistic</th>\n",
       "      <th colspan=\"5\" halign=\"left\">Squared Returns Ljung-Box Q Statistic</th>\n",
       "      <th colspan=\"5\" halign=\"left\">Absolute Returns Ljung-Box Q Statistic</th>\n",
       "    </tr>\n",
       "    <tr>\n",
       "      <th></th>\n",
       "      <th>Lag 1</th>\n",
       "      <th>Lag 2</th>\n",
       "      <th>Lag 3</th>\n",
       "      <th>Lag 4</th>\n",
       "      <th>Lag 5</th>\n",
       "      <th>Lag 1</th>\n",
       "      <th>Lag 2</th>\n",
       "      <th>Lag 3</th>\n",
       "      <th>Lag 4</th>\n",
       "      <th>Lag 5</th>\n",
       "      <th>Lag 1</th>\n",
       "      <th>Lag 2</th>\n",
       "      <th>Lag 3</th>\n",
       "      <th>Lag 4</th>\n",
       "      <th>Lag 5</th>\n",
       "    </tr>\n",
       "  </thead>\n",
       "  <tbody>\n",
       "    <tr>\n",
       "      <th>A</th>\n",
       "      <td>2.281544</td>\n",
       "      <td>2.631208</td>\n",
       "      <td>3.161235</td>\n",
       "      <td>3.168539</td>\n",
       "      <td>5.258110</td>\n",
       "      <td>3.822511</td>\n",
       "      <td>4.150610</td>\n",
       "      <td>5.021057</td>\n",
       "      <td>5.086959</td>\n",
       "      <td>6.807568</td>\n",
       "      <td>3.917258</td>\n",
       "      <td>3.929319</td>\n",
       "      <td>4.220997</td>\n",
       "      <td>5.233332</td>\n",
       "      <td>9.702744</td>\n",
       "    </tr>\n",
       "    <tr>\n",
       "      <th>AAL</th>\n",
       "      <td>0.847284</td>\n",
       "      <td>0.858759</td>\n",
       "      <td>1.337249</td>\n",
       "      <td>2.359679</td>\n",
       "      <td>3.782524</td>\n",
       "      <td>6.612910</td>\n",
       "      <td>10.316737</td>\n",
       "      <td>10.820808</td>\n",
       "      <td>11.255242</td>\n",
       "      <td>11.268415</td>\n",
       "      <td>3.795328</td>\n",
       "      <td>7.650845</td>\n",
       "      <td>8.978590</td>\n",
       "      <td>9.311429</td>\n",
       "      <td>9.882999</td>\n",
       "    </tr>\n",
       "    <tr>\n",
       "      <th>AAPL</th>\n",
       "      <td>1.419716</td>\n",
       "      <td>1.451170</td>\n",
       "      <td>3.222778</td>\n",
       "      <td>3.922143</td>\n",
       "      <td>3.972808</td>\n",
       "      <td>0.366817</td>\n",
       "      <td>2.152137</td>\n",
       "      <td>6.341751</td>\n",
       "      <td>6.651563</td>\n",
       "      <td>7.094242</td>\n",
       "      <td>3.539839</td>\n",
       "      <td>9.695576</td>\n",
       "      <td>12.072438</td>\n",
       "      <td>15.763208</td>\n",
       "      <td>16.972498</td>\n",
       "    </tr>\n",
       "    <tr>\n",
       "      <th>ABBV</th>\n",
       "      <td>1.935571</td>\n",
       "      <td>3.591889</td>\n",
       "      <td>7.259830</td>\n",
       "      <td>7.578411</td>\n",
       "      <td>9.797740</td>\n",
       "      <td>14.055561</td>\n",
       "      <td>47.373323</td>\n",
       "      <td>49.758082</td>\n",
       "      <td>50.483769</td>\n",
       "      <td>50.516932</td>\n",
       "      <td>7.893987</td>\n",
       "      <td>47.057489</td>\n",
       "      <td>50.986263</td>\n",
       "      <td>54.723432</td>\n",
       "      <td>56.102631</td>\n",
       "    </tr>\n",
       "    <tr>\n",
       "      <th>ABT</th>\n",
       "      <td>0.934523</td>\n",
       "      <td>1.300158</td>\n",
       "      <td>2.558919</td>\n",
       "      <td>2.599271</td>\n",
       "      <td>2.616768</td>\n",
       "      <td>2.542660</td>\n",
       "      <td>2.602495</td>\n",
       "      <td>2.696170</td>\n",
       "      <td>2.828865</td>\n",
       "      <td>2.962482</td>\n",
       "      <td>10.050528</td>\n",
       "      <td>10.147161</td>\n",
       "      <td>10.211366</td>\n",
       "      <td>10.286429</td>\n",
       "      <td>10.327349</td>\n",
       "    </tr>\n",
       "  </tbody>\n",
       "</table>\n",
       "</div>"
      ],
      "text/plain": [
       "     Returns Ljung-Box Q Statistic                                          \\\n",
       "                             Lag 1     Lag 2     Lag 3     Lag 4     Lag 5   \n",
       "A                         2.281544  2.631208  3.161235  3.168539  5.258110   \n",
       "AAL                       0.847284  0.858759  1.337249  2.359679  3.782524   \n",
       "AAPL                      1.419716  1.451170  3.222778  3.922143  3.972808   \n",
       "ABBV                      1.935571  3.591889  7.259830  7.578411  9.797740   \n",
       "ABT                       0.934523  1.300158  2.558919  2.599271  2.616768   \n",
       "\n",
       "     Squared Returns Ljung-Box Q Statistic                                   \\\n",
       "                                     Lag 1      Lag 2      Lag 3      Lag 4   \n",
       "A                                 3.822511   4.150610   5.021057   5.086959   \n",
       "AAL                               6.612910  10.316737  10.820808  11.255242   \n",
       "AAPL                              0.366817   2.152137   6.341751   6.651563   \n",
       "ABBV                             14.055561  47.373323  49.758082  50.483769   \n",
       "ABT                               2.542660   2.602495   2.696170   2.828865   \n",
       "\n",
       "                Absolute Returns Ljung-Box Q Statistic                        \\\n",
       "          Lag 5                                  Lag 1      Lag 2      Lag 3   \n",
       "A      6.807568                               3.917258   3.929319   4.220997   \n",
       "AAL   11.268415                               3.795328   7.650845   8.978590   \n",
       "AAPL   7.094242                               3.539839   9.695576  12.072438   \n",
       "ABBV  50.516932                               7.893987  47.057489  50.986263   \n",
       "ABT    2.962482                              10.050528  10.147161  10.211366   \n",
       "\n",
       "                            \n",
       "          Lag 4      Lag 5  \n",
       "A      5.233332   9.702744  \n",
       "AAL    9.311429   9.882999  \n",
       "AAPL  15.763208  16.972498  \n",
       "ABBV  54.723432  56.102631  \n",
       "ABT   10.286429  10.327349  "
      ]
     },
     "execution_count": 21,
     "metadata": {},
     "output_type": "execute_result"
    }
   ],
   "source": [
    "#Ljung-Box Q-Statistic Dataframe for different time lags\n",
    "ldq = pd.DataFrame(\n",
    "    {\n",
    "    **{(\"Returns Ljung-Box Q Statistic\", f\"Lag {l+1}\"): r_ldq[l] for l in range(5)},\n",
    "    **{(\"Squared Returns Ljung-Box Q Statistic\", f\"Lag {l+1}\"): sqr_r_ldq[l] for l in range(5)},\n",
    "    **{(\"Absolute Returns Ljung-Box Q Statistic\", f\"Lag {l+1}\"): abs_r_ldq[l] for l in range(5)}\n",
    "    }, index = returns.columns\n",
    ")\n",
    "ldq.head()"
   ]
  },
  {
   "cell_type": "code",
   "execution_count": 22,
   "metadata": {},
   "outputs": [
    {
     "data": {
      "text/html": [
       "<div>\n",
       "<style scoped>\n",
       "    .dataframe tbody tr th:only-of-type {\n",
       "        vertical-align: middle;\n",
       "    }\n",
       "\n",
       "    .dataframe tbody tr th {\n",
       "        vertical-align: top;\n",
       "    }\n",
       "\n",
       "    .dataframe thead tr th {\n",
       "        text-align: left;\n",
       "    }\n",
       "</style>\n",
       "<table border=\"1\" class=\"dataframe\">\n",
       "  <thead>\n",
       "    <tr>\n",
       "      <th></th>\n",
       "      <th colspan=\"5\" halign=\"left\">Returns Autocorrelation</th>\n",
       "      <th colspan=\"5\" halign=\"left\">Square Returns Autocorrelation</th>\n",
       "      <th>...</th>\n",
       "      <th colspan=\"5\" halign=\"left\">Square Returns Partial Autocorrelation</th>\n",
       "      <th colspan=\"5\" halign=\"left\">Absolute Returns Partial Autocorrelation</th>\n",
       "    </tr>\n",
       "    <tr>\n",
       "      <th></th>\n",
       "      <th>Lag 1</th>\n",
       "      <th>Lag 2</th>\n",
       "      <th>Lag 3</th>\n",
       "      <th>Lag 4</th>\n",
       "      <th>Lag 5</th>\n",
       "      <th>Lag 1</th>\n",
       "      <th>Lag 2</th>\n",
       "      <th>Lag 3</th>\n",
       "      <th>Lag 4</th>\n",
       "      <th>Lag 5</th>\n",
       "      <th>...</th>\n",
       "      <th>Lag 1</th>\n",
       "      <th>Lag 2</th>\n",
       "      <th>Lag 3</th>\n",
       "      <th>Lag 4</th>\n",
       "      <th>Lag 5</th>\n",
       "      <th>Lag 1</th>\n",
       "      <th>Lag 2</th>\n",
       "      <th>Lag 3</th>\n",
       "      <th>Lag 4</th>\n",
       "      <th>Lag 5</th>\n",
       "    </tr>\n",
       "  </thead>\n",
       "  <tbody>\n",
       "    <tr>\n",
       "      <th>A</th>\n",
       "      <td>-0.094774</td>\n",
       "      <td>-0.037028</td>\n",
       "      <td>0.045496</td>\n",
       "      <td>-0.005330</td>\n",
       "      <td>-0.089970</td>\n",
       "      <td>0.122673</td>\n",
       "      <td>-0.035868</td>\n",
       "      <td>-0.058304</td>\n",
       "      <td>0.016010</td>\n",
       "      <td>0.081642</td>\n",
       "      <td>...</td>\n",
       "      <td>0.123163</td>\n",
       "      <td>-0.052116</td>\n",
       "      <td>-0.048776</td>\n",
       "      <td>0.028697</td>\n",
       "      <td>0.074725</td>\n",
       "      <td>0.124680</td>\n",
       "      <td>-0.008749</td>\n",
       "      <td>-0.034478</td>\n",
       "      <td>0.073618</td>\n",
       "      <td>0.119727</td>\n",
       "    </tr>\n",
       "    <tr>\n",
       "      <th>AAL</th>\n",
       "      <td>0.057755</td>\n",
       "      <td>0.006708</td>\n",
       "      <td>0.043228</td>\n",
       "      <td>-0.063062</td>\n",
       "      <td>-0.074242</td>\n",
       "      <td>0.161350</td>\n",
       "      <td>0.120511</td>\n",
       "      <td>0.044368</td>\n",
       "      <td>-0.041107</td>\n",
       "      <td>-0.007143</td>\n",
       "      <td>...</td>\n",
       "      <td>0.161995</td>\n",
       "      <td>0.097803</td>\n",
       "      <td>0.011724</td>\n",
       "      <td>-0.064145</td>\n",
       "      <td>0.002130</td>\n",
       "      <td>0.122724</td>\n",
       "      <td>0.110546</td>\n",
       "      <td>0.047059</td>\n",
       "      <td>-0.064877</td>\n",
       "      <td>0.046590</td>\n",
       "    </tr>\n",
       "    <tr>\n",
       "      <th>AAPL</th>\n",
       "      <td>0.074761</td>\n",
       "      <td>-0.011105</td>\n",
       "      <td>-0.083179</td>\n",
       "      <td>-0.052156</td>\n",
       "      <td>0.014010</td>\n",
       "      <td>0.038001</td>\n",
       "      <td>0.083668</td>\n",
       "      <td>0.127913</td>\n",
       "      <td>0.034714</td>\n",
       "      <td>0.041411</td>\n",
       "      <td>...</td>\n",
       "      <td>0.038153</td>\n",
       "      <td>0.083005</td>\n",
       "      <td>0.124380</td>\n",
       "      <td>0.021206</td>\n",
       "      <td>0.020754</td>\n",
       "      <td>0.118522</td>\n",
       "      <td>0.144593</td>\n",
       "      <td>0.066811</td>\n",
       "      <td>0.086687</td>\n",
       "      <td>0.028943</td>\n",
       "    </tr>\n",
       "    <tr>\n",
       "      <th>ABBV</th>\n",
       "      <td>-0.087293</td>\n",
       "      <td>-0.080589</td>\n",
       "      <td>0.119685</td>\n",
       "      <td>-0.035201</td>\n",
       "      <td>-0.092722</td>\n",
       "      <td>0.235232</td>\n",
       "      <td>0.361444</td>\n",
       "      <td>0.096505</td>\n",
       "      <td>0.053128</td>\n",
       "      <td>0.011334</td>\n",
       "      <td>...</td>\n",
       "      <td>0.236173</td>\n",
       "      <td>0.326797</td>\n",
       "      <td>-0.044388</td>\n",
       "      <td>-0.088049</td>\n",
       "      <td>-0.001999</td>\n",
       "      <td>0.176992</td>\n",
       "      <td>0.375454</td>\n",
       "      <td>0.018324</td>\n",
       "      <td>-0.049567</td>\n",
       "      <td>0.014627</td>\n",
       "    </tr>\n",
       "    <tr>\n",
       "      <th>ABT</th>\n",
       "      <td>-0.060655</td>\n",
       "      <td>-0.037864</td>\n",
       "      <td>0.070113</td>\n",
       "      <td>0.012528</td>\n",
       "      <td>0.008233</td>\n",
       "      <td>0.100050</td>\n",
       "      <td>-0.015317</td>\n",
       "      <td>-0.019127</td>\n",
       "      <td>-0.022718</td>\n",
       "      <td>-0.022751</td>\n",
       "      <td>...</td>\n",
       "      <td>0.100450</td>\n",
       "      <td>-0.025791</td>\n",
       "      <td>-0.015341</td>\n",
       "      <td>-0.020153</td>\n",
       "      <td>-0.019734</td>\n",
       "      <td>0.199711</td>\n",
       "      <td>-0.061978</td>\n",
       "      <td>0.034049</td>\n",
       "      <td>-0.030308</td>\n",
       "      <td>0.025748</td>\n",
       "    </tr>\n",
       "  </tbody>\n",
       "</table>\n",
       "<p>5 rows × 30 columns</p>\n",
       "</div>"
      ],
      "text/plain": [
       "     Returns Autocorrelation                                          \\\n",
       "                       Lag 1     Lag 2     Lag 3     Lag 4     Lag 5   \n",
       "A                  -0.094774 -0.037028  0.045496 -0.005330 -0.089970   \n",
       "AAL                 0.057755  0.006708  0.043228 -0.063062 -0.074242   \n",
       "AAPL                0.074761 -0.011105 -0.083179 -0.052156  0.014010   \n",
       "ABBV               -0.087293 -0.080589  0.119685 -0.035201 -0.092722   \n",
       "ABT                -0.060655 -0.037864  0.070113  0.012528  0.008233   \n",
       "\n",
       "     Square Returns Autocorrelation                                          \\\n",
       "                              Lag 1     Lag 2     Lag 3     Lag 4     Lag 5   \n",
       "A                          0.122673 -0.035868 -0.058304  0.016010  0.081642   \n",
       "AAL                        0.161350  0.120511  0.044368 -0.041107 -0.007143   \n",
       "AAPL                       0.038001  0.083668  0.127913  0.034714  0.041411   \n",
       "ABBV                       0.235232  0.361444  0.096505  0.053128  0.011334   \n",
       "ABT                        0.100050 -0.015317 -0.019127 -0.022718 -0.022751   \n",
       "\n",
       "      ... Square Returns Partial Autocorrelation                      \\\n",
       "      ...                                  Lag 1     Lag 2     Lag 3   \n",
       "A     ...                               0.123163 -0.052116 -0.048776   \n",
       "AAL   ...                               0.161995  0.097803  0.011724   \n",
       "AAPL  ...                               0.038153  0.083005  0.124380   \n",
       "ABBV  ...                               0.236173  0.326797 -0.044388   \n",
       "ABT   ...                               0.100450 -0.025791 -0.015341   \n",
       "\n",
       "                         Absolute Returns Partial Autocorrelation            \\\n",
       "         Lag 4     Lag 5                                    Lag 1     Lag 2   \n",
       "A     0.028697  0.074725                                 0.124680 -0.008749   \n",
       "AAL  -0.064145  0.002130                                 0.122724  0.110546   \n",
       "AAPL  0.021206  0.020754                                 0.118522  0.144593   \n",
       "ABBV -0.088049 -0.001999                                 0.176992  0.375454   \n",
       "ABT  -0.020153 -0.019734                                 0.199711 -0.061978   \n",
       "\n",
       "                                    \n",
       "         Lag 3     Lag 4     Lag 5  \n",
       "A    -0.034478  0.073618  0.119727  \n",
       "AAL   0.047059 -0.064877  0.046590  \n",
       "AAPL  0.066811  0.086687  0.028943  \n",
       "ABBV  0.018324 -0.049567  0.014627  \n",
       "ABT   0.034049 -0.030308  0.025748  \n",
       "\n",
       "[5 rows x 30 columns]"
      ]
     },
     "execution_count": 22,
     "metadata": {},
     "output_type": "execute_result"
    }
   ],
   "source": [
    "#Autocorrelation Dataframe for different time lags\n",
    "corr = pd.DataFrame(\n",
    "    {\n",
    "    **{(\"Returns Autocorrelation\", f\"Lag {l+1}\"): r_ac[l] for l in range(5)},\n",
    "    **{(\"Square Returns Autocorrelation\", f\"Lag {l+1}\"): sqr_r_ac[l] for l in range(5)},\n",
    "    **{(\"Absolute Returns Autocorrelation\", f\"Lag {l+1}\"): abs_r_ac[l] for l in range(5)},\n",
    "    **{(\"Returns Partial Autocorrelation\", f\"Lag {l+1}\"): r_pac[l] for l in range(5)},\n",
    "    **{(\"Square Returns Partial Autocorrelation\", f\"Lag {l+1}\"): sqr_r_pac[l] for l in range(5)},\n",
    "    **{(\"Absolute Returns Partial Autocorrelation\", f\"Lag {l+1}\"): abs_r_pac[l] for l in range(5)}\n",
    "    }, index = returns.columns)\n",
    "corr.head()"
   ]
  },
  {
   "cell_type": "code",
   "execution_count": 23,
   "metadata": {},
   "outputs": [
    {
     "data": {
      "text/plain": [
       "Returns Autocorrelation P Value           Lag 1     48\n",
       "                                          Lag 2     38\n",
       "                                          Lag 3     35\n",
       "                                          Lag 4     30\n",
       "                                          Lag 5     33\n",
       "Squared Returns Autocorrelation P Value   Lag 1    164\n",
       "                                          Lag 2    174\n",
       "                                          Lag 3    170\n",
       "                                          Lag 4    175\n",
       "                                          Lag 5    165\n",
       "Absolute Returns Autocorrelation P Value  Lag 1    271\n",
       "                                          Lag 2    295\n",
       "                                          Lag 3    293\n",
       "                                          Lag 4    292\n",
       "                                          Lag 5    285\n",
       "dtype: int64"
      ]
     },
     "execution_count": 23,
     "metadata": {},
     "output_type": "execute_result"
    }
   ],
   "source": [
    "#Number of significant p values in observations\n",
    "sig_p = np.sum(p < 0.05, axis=0)\n",
    "sig_p"
   ]
  },
  {
   "cell_type": "code",
   "execution_count": 24,
   "metadata": {},
   "outputs": [],
   "source": [
    "def returns_autocorrelation(tickers: list[str], start:str, end:str, filename=None, header=None):\n",
    "    \"\"\"\n",
    "    Returns three dataframes of autocorrelation, ljung-box q statistic, and p-value for returns\n",
    "    of stocks in the list of tickers\n",
    "    :param tickers: list of tickers\n",
    "    :param start: start date to download data from\n",
    "    :param end: end date to download data from\n",
    "    :param filename: name of file to upload data to (optional)\n",
    "    :param header: header configuration of the file (optional)\n",
    "    :return: Three dataframes, autocorrelation, ljung-box q statistic, and p-value\n",
    "    \"\"\"\n",
    "    data = yf.download(tickers, start=start, end=end)\n",
    "    returns = np.log1p(data[\"Adj Close\"].pct_change())\n",
    "    returns = returns.dropna(axis=1, thresh=len(returns)-200)\n",
    "\n",
    "    def ac_format(ac):\n",
    "        lags = ac[0][1:6]\n",
    "        rest = ac[1:3]\n",
    "        return [lags] + list(rest)\n",
    "\n",
    "    full_r_ac = np.array(list(ac_format(acf(returns[symbol].dropna(), nlags=5, qstat=True)) for symbol in returns.columns))\n",
    "    full_sqr_r_ac = np.array(list(ac_format(acf(returns[symbol].dropna()**2, nlags=5, qstat=True)) for symbol in returns.columns))\n",
    "    full_abs_r_ac = np.array(list(ac_format(acf(abs(returns[symbol].dropna()), nlags=5, qstat=True)) for symbol in returns.columns))\n",
    "    r_pac = np.array(list(pacf(returns[symbol].dropna(), nlags=5)[1:6] for symbol in returns.columns)).T\n",
    "    sqr_r_pac = np.array(list(pacf(returns[symbol].dropna()**2, nlags=5)[1:6] for symbol in returns.columns)).T\n",
    "    abs_r_pac = np.array(list(pacf(abs(returns[symbol].dropna()), nlags=5)[1:6] for symbol in returns.columns)).T\n",
    "    \n",
    "    r_ac = full_r_ac[:,0].T\n",
    "    r_ldq = full_r_ac[:,1].T\n",
    "    r_pval = full_r_ac[:,2].T\n",
    "    sqr_r_ac = full_sqr_r_ac[:,0].T\n",
    "    sqr_r_ldq = full_sqr_r_ac[:,1].T\n",
    "    sqr_r_pval = full_sqr_r_ac[:,2].T\n",
    "    abs_r_ac = full_abs_r_ac[:,0].T\n",
    "    abs_r_ldq = full_abs_r_ac[:,1].T\n",
    "    abs_r_pval = full_abs_r_ac[:,2].T\n",
    "\n",
    "    symbols = returns.columns\n",
    "    corr = pd.DataFrame(\n",
    "    {\n",
    "    **{(\"Returns Autocorrelation\", f\"Lag {l+1}\"): r_ac[l] for l in range(5)},\n",
    "    **{(\"Square Returns Autocorrelation\", f\"Lag {l+1}\"): sqr_r_ac[l] for l in range(5)},\n",
    "    **{(\"Absolute Returns Autocorrelation\", f\"Lag {l+1}\"): abs_r_ac[l] for l in range(5)},\n",
    "    **{(\"Returns Partial Autocorrelation\", f\"Lag {l+1}\"): r_pac[l] for l in range(5)},\n",
    "    **{(\"Square Returns Partial Autocorrelation\", f\"Lag {l+1}\"): sqr_r_pac[l] for l in range(5)},\n",
    "    **{(\"Absolute Returns Partial Autocorrelation\", f\"Lag {l+1}\"): abs_r_pac[l] for l in range(5)}\n",
    "    }, index = returns.columns)\n",
    "\n",
    "    ldq = pd.DataFrame(\n",
    "    {\n",
    "    **{(\"Returns Ljung-Box Q Statistic\", f\"Lag {l+1}\"): r_ldq[l] for l in range(5)},\n",
    "    **{(\"Squared Returns Ljung-Box Q Statistic\", f\"Lag {l+1}\"): sqr_r_ldq[l] for l in range(5)},\n",
    "    **{(\"Absolute Returns Ljung-Box Q Statistic\", f\"Lag {l+1}\"): abs_r_ldq[l] for l in range(5)}\n",
    "    }, index = returns.columns)\n",
    "\n",
    "    p = pd.DataFrame(\n",
    "    {\n",
    "    **{(\"Returns Autocorrelation P Value\", f\"Lag {l+1}\"): r_pval[l] for l in range(5)},\n",
    "    **{(\"Squared Returns Autocorrelation P Value\", f\"Lag {l+1}\"): sqr_r_pval[l] for l in range(5)},\n",
    "    **{(\"Absolute Returns Autocorrelation P Value\", f\"Lag {l+1}\"): abs_r_pval[l] for l in range(5)}\n",
    "    }, index = returns.columns)\n",
    "\n",
    "    if filename is not None:\n",
    "        corr.to_csv(\"corr-\"+filename, header=header)\n",
    "        p.to_csv(\"p-\"+filename, header=header)\n",
    "\n",
    "    return corr, ldq, p"
   ]
  },
  {
   "cell_type": "code",
   "execution_count": 25,
   "metadata": {},
   "outputs": [
    {
     "name": "stdout",
     "output_type": "stream",
     "text": [
      "[*********************100%%**********************]  503 of 503 completed"
     ]
    },
    {
     "name": "stderr",
     "output_type": "stream",
     "text": [
      "\n",
      "133 Failed downloads:\n",
      "['KHC', 'GPN', 'FSLR', 'CARR', 'CZR', 'HPE', 'NWSA', 'CTLT', 'LYV', 'PAYC', 'GOOG', 'INVH', 'FLT', 'ENPH', 'FTNT', 'TDG', 'FOXA', 'AIZ', 'MA', 'LKQ', 'CMG', 'ALLE', 'TRGP', 'CBRE', 'EXR', 'VICI', 'PYPL', 'TMUS', 'CTVA', 'PANW', 'BR', 'KVUE', 'LVS', 'DAL', 'ABBV', 'ZBH', 'XYL', 'CEG', 'BG', 'AWK', 'WYNN', 'CDAY', 'GM', 'NDAQ', 'KDP', 'MRNA', 'CFG', 'ZTS', 'WBD', 'CRM', 'SEDG', 'PRU', 'MDLZ', 'CF', 'AAL', 'ABNB', 'CME', 'APTV', 'CBOE', 'CDW', 'ULTA', 'ELV', 'IQV', 'NCLH', 'HWM', 'KEYS', 'HCA', 'AXON', 'MOH', 'VLTO', 'TEL', 'VRSK', 'EPAM', 'AMCR', 'DOW', 'LW', 'ACN', 'ICE', 'DXCM', 'MSCI', 'MKTX', 'FOX', 'CE', 'UAL', 'CNC', 'FTV', 'PODD', 'WTW', 'LDOS', 'GOOGL', 'NXPI', 'TSLA', 'PSX', 'BX', 'FANG', 'PM', 'AVGO', 'HLT', 'QRVO', 'EXPE', 'NWS', 'NRG', 'ETSY', 'PFG', 'GNRC', 'DPZ', 'MPC', 'ANET', 'SYF', 'NOW', 'FIS', 'DLR', 'PARA', 'CHTR', 'IR', 'DG', 'WRK', 'HII', 'STX', 'OTIS', 'LYB', 'ALGN', 'NFLX', 'META', 'AMP', 'V', 'DFS', 'LULU', 'GEHC', 'KMI', 'MPWR']: Exception(\"%ticker%: Data doesn't exist for startDate = 946702800, endDate = 978238800\")\n",
      "['BRK.B']: Exception('%ticker%: No timezone found, symbol may be delisted')\n",
      "['BF.B']: Exception('%ticker%: No price data found, symbol may be delisted (1d 2000-01-01 -> 2000-12-31)')\n"
     ]
    },
    {
     "name": "stdout",
     "output_type": "stream",
     "text": [
      "\n"
     ]
    },
    {
     "name": "stderr",
     "output_type": "stream",
     "text": [
      "/var/folders/c0/_1r630sx6bx7dllfq1l9hgrh0000gn/T/ipykernel_53234/1383132826.py:3: FutureWarning: The default fill_method='pad' in DataFrame.pct_change is deprecated and will be removed in a future version. Either fill in any non-leading NA values prior to calling pct_change or specify 'fill_method=None' to not fill NA values.\n",
      "  returns = np.log1p(data[\"Adj Close\"].pct_change())\n"
     ]
    },
    {
     "name": "stdout",
     "output_type": "stream",
     "text": [
      "[*********************100%%**********************]  502 of 503 completed"
     ]
    },
    {
     "name": "stderr",
     "output_type": "stream",
     "text": [
      "\n",
      "120 Failed downloads:\n",
      "['FSLR', 'KHC', 'CARR', 'NWSA', 'CZR', 'HPE', 'GOOG', 'CTLT', 'LYV', 'PAYC', 'INVH', 'ENPH', 'FLT', 'FTNT', 'TDG', 'FOXA', 'MA', 'AIZ', 'LKQ', 'CMG', 'ALLE', 'CBRE', 'TMUS', 'TRGP', 'EXR', 'PANW', 'VICI', 'PYPL', 'CTVA', 'BR', 'KVUE', 'LVS', 'DAL', 'ABBV', 'XYL', 'AWK', 'CEG', 'CDAY', 'WYNN', 'GM', 'MRNA', 'NDAQ', 'KDP', 'CFG', 'ZTS', 'WBD', 'CRM', 'SEDG', 'CF', 'AAL', 'ABNB', 'CME', 'APTV', 'CBOE', 'ULTA', 'CDW', 'IQV', 'NCLH', 'HWM', 'KEYS', 'HCA', 'TEL', 'VLTO', 'MOH', 'EPAM', 'VRSK', 'DOW', 'AMCR', 'LW', 'DXCM', 'ICE', 'MSCI', 'FOX', 'MKTX', 'CE', 'UAL', 'FTV', 'PODD', 'GOOGL', 'LDOS', 'NXPI', 'TSLA', 'PSX', 'BX', 'PM', 'FANG', 'HLT', 'AVGO', 'EXPE', 'QRVO', 'NWS', 'NRG', 'ETSY', 'GNRC', 'DPZ', 'MPC', 'ANET', 'SYF', 'NOW', 'PARA', 'DLR', 'CHTR', 'IR', 'DG', 'WRK', 'STX', 'HII', 'OTIS', 'NFLX', 'LYB', 'V', 'META', 'AMP', 'DFS', 'LULU', 'KMI', 'GEHC', 'MPWR']: Exception(\"%ticker%: Data doesn't exist for startDate = 978325200, endDate = 1009774800\")\n",
      "['BRK.B']: Exception('%ticker%: No timezone found, symbol may be delisted')\n",
      "['BF.B']: Exception('%ticker%: No price data found, symbol may be delisted (1d 2001-01-01 -> 2001-12-31)')\n"
     ]
    },
    {
     "name": "stdout",
     "output_type": "stream",
     "text": [
      "\n"
     ]
    },
    {
     "name": "stderr",
     "output_type": "stream",
     "text": [
      "/var/folders/c0/_1r630sx6bx7dllfq1l9hgrh0000gn/T/ipykernel_53234/1383132826.py:3: FutureWarning: The default fill_method='pad' in DataFrame.pct_change is deprecated and will be removed in a future version. Either fill in any non-leading NA values prior to calling pct_change or specify 'fill_method=None' to not fill NA values.\n",
      "  returns = np.log1p(data[\"Adj Close\"].pct_change())\n"
     ]
    },
    {
     "name": "stdout",
     "output_type": "stream",
     "text": [
      "[*********************100%%**********************]  503 of 503 completed"
     ]
    },
    {
     "name": "stderr",
     "output_type": "stream",
     "text": [
      "\n",
      "115 Failed downloads:\n",
      "['FSLR', 'KHC', 'CARR', 'CZR', 'HPE', 'NWSA', 'CTLT', 'GOOG', 'LYV', 'INVH', 'ENPH', 'PAYC', 'FLT', 'FTNT', 'TDG', 'FOXA', 'LKQ', 'AIZ', 'MA', 'CMG', 'ALLE', 'CBRE', 'TRGP', 'TMUS', 'EXR', 'VICI', 'PYPL', 'PANW', 'CTVA', 'BR', 'KVUE', 'LVS', 'DAL', 'ABBV', 'AWK', 'CEG', 'XYL', 'GM', 'CDAY', 'MRNA', 'KDP', 'CFG', 'CRM', 'ZTS', 'WBD', 'SEDG', 'CF', 'AAL', 'ABNB', 'APTV', 'CBOE', 'CDW', 'ULTA', 'IQV', 'NCLH', 'HWM', 'KEYS', 'HCA', 'VLTO', 'VRSK', 'EPAM', 'TEL', 'MOH', 'AMCR', 'DOW', 'LW', 'ICE', 'DXCM', 'MSCI', 'FOX', 'MKTX', 'CE', 'UAL', 'FTV', 'PODD', 'GOOGL', 'LDOS', 'TSLA', 'NXPI', 'BX', 'PSX', 'FANG', 'PM', 'AVGO', 'HLT', 'EXPE', 'QRVO', 'NWS', 'NRG', 'ETSY', 'GNRC', 'DPZ', 'MPC', 'ANET', 'SYF', 'NOW', 'DLR', 'PARA', 'CHTR', 'DG', 'IR', 'WRK', 'OTIS', 'HII', 'LYB', 'V', 'META', 'AMP', 'DFS', 'LULU', 'GEHC', 'KMI', 'MPWR']: Exception(\"%ticker%: Data doesn't exist for startDate = 1009861200, endDate = 1041310800\")\n",
      "['BRK.B']: Exception('%ticker%: No timezone found, symbol may be delisted')\n",
      "['BF.B']: Exception('%ticker%: No price data found, symbol may be delisted (1d 2002-01-01 -> 2002-12-31)')\n"
     ]
    },
    {
     "name": "stdout",
     "output_type": "stream",
     "text": [
      "\n"
     ]
    },
    {
     "name": "stderr",
     "output_type": "stream",
     "text": [
      "/var/folders/c0/_1r630sx6bx7dllfq1l9hgrh0000gn/T/ipykernel_53234/1383132826.py:3: FutureWarning: The default fill_method='pad' in DataFrame.pct_change is deprecated and will be removed in a future version. Either fill in any non-leading NA values prior to calling pct_change or specify 'fill_method=None' to not fill NA values.\n",
      "  returns = np.log1p(data[\"Adj Close\"].pct_change())\n"
     ]
    },
    {
     "name": "stdout",
     "output_type": "stream",
     "text": [
      "[*********************100%%**********************]  503 of 503 completed"
     ]
    },
    {
     "name": "stderr",
     "output_type": "stream",
     "text": [
      "\n",
      "112 Failed downloads:\n",
      "['FSLR', 'KHC', 'NWSA', 'CARR', 'CZR', 'HPE', 'CTLT', 'LYV', 'GOOG', 'PAYC', 'INVH', 'ENPH', 'FLT', 'FTNT', 'TDG', 'FOXA', 'MA', 'AIZ', 'CMG', 'ALLE', 'CBRE', 'TRGP', 'TMUS', 'EXR', 'VICI', 'CTVA', 'PANW', 'PYPL', 'BR', 'KVUE', 'ABBV', 'DAL', 'LVS', 'XYL', 'AWK', 'CEG', 'CDAY', 'GM', 'MRNA', 'CFG', 'ZTS', 'KDP', 'WBD', 'CRM', 'SEDG', 'CF', 'AAL', 'ABNB', 'APTV', 'CBOE', 'CDW', 'ULTA', 'IQV', 'NCLH', 'HWM', 'KEYS', 'HCA', 'EPAM', 'VLTO', 'TEL', 'VRSK', 'DOW', 'AMCR', 'LW', 'DXCM', 'MSCI', 'MKTX', 'ICE', 'CE', 'FOX', 'UAL', 'FTV', 'PODD', 'LDOS', 'GOOGL', 'NXPI', 'TSLA', 'PSX', 'BX', 'FANG', 'AVGO', 'HLT', 'PM', 'EXPE', 'QRVO', 'NWS', 'ETSY', 'GNRC', 'DPZ', 'MPC', 'ANET', 'SYF', 'NOW', 'DLR', 'PARA', 'CHTR', 'DG', 'IR', 'WRK', 'HII', 'OTIS', 'LYB', 'V', 'META', 'AMP', 'LULU', 'DFS', 'GEHC', 'KMI', 'MPWR']: Exception(\"%ticker%: Data doesn't exist for startDate = 1041397200, endDate = 1072846800\")\n",
      "['BRK.B']: Exception('%ticker%: No timezone found, symbol may be delisted')\n",
      "['BF.B']: Exception('%ticker%: No price data found, symbol may be delisted (1d 2003-01-01 -> 2003-12-31)')\n"
     ]
    },
    {
     "name": "stdout",
     "output_type": "stream",
     "text": [
      "\n"
     ]
    },
    {
     "name": "stderr",
     "output_type": "stream",
     "text": [
      "/var/folders/c0/_1r630sx6bx7dllfq1l9hgrh0000gn/T/ipykernel_53234/1383132826.py:3: FutureWarning: The default fill_method='pad' in DataFrame.pct_change is deprecated and will be removed in a future version. Either fill in any non-leading NA values prior to calling pct_change or specify 'fill_method=None' to not fill NA values.\n",
      "  returns = np.log1p(data[\"Adj Close\"].pct_change())\n"
     ]
    },
    {
     "name": "stdout",
     "output_type": "stream",
     "text": [
      "[*********************100%%**********************]  503 of 503 completed"
     ]
    },
    {
     "name": "stderr",
     "output_type": "stream",
     "text": [
      "\n",
      "101 Failed downloads:\n",
      "['FSLR', 'KHC', 'CARR', 'NWSA', 'CZR', 'HPE', 'LYV', 'PAYC', 'CTLT', 'ENPH', 'INVH', 'FLT', 'FTNT', 'TDG', 'MA', 'FOXA', 'CMG', 'ALLE', 'TRGP', 'TMUS', 'PYPL', 'VICI', 'BR', 'PANW', 'KVUE', 'CTVA', 'DAL', 'ABBV', 'XYL', 'CDAY', 'CEG', 'AWK', 'GM', 'MRNA', 'CFG', 'ZTS', 'KDP', 'WBD', 'SEDG', 'CF', 'AAL', 'APTV', 'CBOE', 'ABNB', 'CDW', 'ULTA', 'IQV', 'NCLH', 'HWM', 'KEYS', 'HCA', 'VLTO', 'VRSK', 'EPAM', 'TEL', 'AMCR', 'DOW', 'LW', 'DXCM', 'ICE', 'MSCI', 'FOX', 'CE', 'UAL', 'FTV', 'PODD', 'LDOS', 'TSLA', 'NXPI', 'PSX', 'BX', 'FANG', 'AVGO', 'PM', 'EXPE', 'QRVO', 'HLT', 'NWS', 'ETSY', 'GNRC', 'MPC', 'SYF', 'ANET', 'NOW', 'PARA', 'CHTR', 'DG', 'IR', 'WRK', 'HII', 'OTIS', 'LYB', 'V', 'META', 'AMP', 'DFS', 'LULU', 'GEHC', 'KMI']: Exception(\"%ticker%: Data doesn't exist for startDate = 1072933200, endDate = 1104469200\")\n",
      "['BRK.B']: Exception('%ticker%: No timezone found, symbol may be delisted')\n",
      "['BF.B']: Exception('%ticker%: No price data found, symbol may be delisted (1d 2004-01-01 -> 2004-12-31)')\n"
     ]
    },
    {
     "name": "stdout",
     "output_type": "stream",
     "text": [
      "\n"
     ]
    },
    {
     "name": "stderr",
     "output_type": "stream",
     "text": [
      "/var/folders/c0/_1r630sx6bx7dllfq1l9hgrh0000gn/T/ipykernel_53234/1383132826.py:3: FutureWarning: The default fill_method='pad' in DataFrame.pct_change is deprecated and will be removed in a future version. Either fill in any non-leading NA values prior to calling pct_change or specify 'fill_method=None' to not fill NA values.\n",
      "  returns = np.log1p(data[\"Adj Close\"].pct_change())\n"
     ]
    },
    {
     "name": "stdout",
     "output_type": "stream",
     "text": [
      "[*********************100%%**********************]  503 of 503 completed"
     ]
    },
    {
     "name": "stderr",
     "output_type": "stream",
     "text": [
      "\n",
      "91 Failed downloads:\n",
      "['KHC', 'CARR', 'FSLR', 'CZR', 'HPE', 'NWSA', 'CTLT', 'PAYC', 'ENPH', 'INVH', 'FLT', 'FTNT', 'TDG', 'FOXA', 'MA', 'CMG', 'ALLE', 'TRGP', 'TMUS', 'PYPL', 'VICI', 'PANW', 'CTVA', 'BR', 'KVUE', 'DAL', 'ABBV', 'CEG', 'XYL', 'AWK', 'CDAY', 'GM', 'MRNA', 'KDP', 'CFG', 'ZTS', 'SEDG', 'ABNB', 'APTV', 'CBOE', 'CDW', 'ULTA', 'IQV', 'NCLH', 'HWM', 'KEYS', 'HCA', 'EPAM', 'VLTO', 'TEL', 'VRSK', 'DOW', 'AMCR', 'LW', 'MSCI', 'UAL', 'FOX', 'PODD', 'FTV', 'LDOS', 'NXPI', 'TSLA', 'PSX', 'BX', 'FANG', 'HLT', 'PM', 'AVGO', 'QRVO', 'NWS', 'ETSY', 'GNRC', 'MPC', 'NOW', 'SYF', 'ANET', 'CHTR', 'DG', 'IR', 'WRK', 'HII', 'OTIS', 'LYB', 'V', 'META', 'DFS', 'LULU', 'GEHC', 'KMI']: Exception(\"%ticker%: Data doesn't exist for startDate = 1104555600, endDate = 1136005200\")\n",
      "['BRK.B']: Exception('%ticker%: No timezone found, symbol may be delisted')\n",
      "['BF.B']: Exception('%ticker%: No price data found, symbol may be delisted (1d 2005-01-01 -> 2005-12-31)')\n"
     ]
    },
    {
     "name": "stdout",
     "output_type": "stream",
     "text": [
      "\n"
     ]
    },
    {
     "name": "stderr",
     "output_type": "stream",
     "text": [
      "/var/folders/c0/_1r630sx6bx7dllfq1l9hgrh0000gn/T/ipykernel_53234/1383132826.py:3: FutureWarning: The default fill_method='pad' in DataFrame.pct_change is deprecated and will be removed in a future version. Either fill in any non-leading NA values prior to calling pct_change or specify 'fill_method=None' to not fill NA values.\n",
      "  returns = np.log1p(data[\"Adj Close\"].pct_change())\n"
     ]
    },
    {
     "name": "stdout",
     "output_type": "stream",
     "text": [
      "[*********************100%%**********************]  503 of 503 completed"
     ]
    },
    {
     "name": "stderr",
     "output_type": "stream",
     "text": [
      "\n",
      "85 Failed downloads:\n",
      "['CARR', 'KHC', 'NWSA', 'HPE', 'CZR', 'PAYC', 'CTLT', 'ENPH', 'INVH', 'FLT', 'FTNT', 'FOXA', 'ALLE', 'TRGP', 'TMUS', 'PYPL', 'VICI', 'PANW', 'BR', 'KVUE', 'CTVA', 'DAL', 'ABBV', 'XYL', 'CEG', 'AWK', 'CDAY', 'GM', 'MRNA', 'KDP', 'CFG', 'ZTS', 'SEDG', 'ABNB', 'APTV', 'CBOE', 'ULTA', 'CDW', 'IQV', 'NCLH', 'HWM', 'KEYS', 'HCA', 'TEL', 'EPAM', 'VLTO', 'VRSK', 'DOW', 'AMCR', 'LW', 'MSCI', 'FOX', 'PODD', 'FTV', 'TSLA', 'NXPI', 'PSX', 'BX', 'AVGO', 'PM', 'HLT', 'FANG', 'QRVO', 'NWS', 'ETSY', 'GNRC', 'MPC', 'ANET', 'SYF', 'NOW', 'CHTR', 'DG', 'IR', 'WRK', 'HII', 'OTIS', 'LYB', 'V', 'META', 'DFS', 'LULU', 'GEHC', 'KMI']: Exception(\"%ticker%: Data doesn't exist for startDate = 1136091600, endDate = 1167541200\")\n",
      "['BRK.B']: Exception('%ticker%: No timezone found, symbol may be delisted')\n",
      "['BF.B']: Exception('%ticker%: No price data found, symbol may be delisted (1d 2006-01-01 -> 2006-12-31)')\n"
     ]
    },
    {
     "name": "stdout",
     "output_type": "stream",
     "text": [
      "\n"
     ]
    },
    {
     "name": "stderr",
     "output_type": "stream",
     "text": [
      "/var/folders/c0/_1r630sx6bx7dllfq1l9hgrh0000gn/T/ipykernel_53234/1383132826.py:3: FutureWarning: The default fill_method='pad' in DataFrame.pct_change is deprecated and will be removed in a future version. Either fill in any non-leading NA values prior to calling pct_change or specify 'fill_method=None' to not fill NA values.\n",
      "  returns = np.log1p(data[\"Adj Close\"].pct_change())\n"
     ]
    },
    {
     "name": "stdout",
     "output_type": "stream",
     "text": [
      "[*********************100%%**********************]  503 of 503 completed"
     ]
    },
    {
     "name": "stderr",
     "output_type": "stream",
     "text": [
      "\n",
      "75 Failed downloads:\n",
      "['KHC', 'CARR', 'NWSA', 'HPE', 'CZR', 'CTLT', 'ENPH', 'INVH', 'PAYC', 'FLT', 'FTNT', 'FOXA', 'ALLE', 'TRGP', 'VICI', 'PYPL', 'CTVA', 'KVUE', 'PANW', 'ABBV', 'XYL', 'CEG', 'CDAY', 'AWK', 'GM', 'MRNA', 'KDP', 'CFG', 'ZTS', 'SEDG', 'ABNB', 'APTV', 'CDW', 'CBOE', 'IQV', 'NCLH', 'HWM', 'KEYS', 'HCA', 'VLTO', 'VRSK', 'EPAM', 'AMCR', 'DOW', 'LW', 'FOX', 'FTV', 'NXPI', 'TSLA', 'PSX', 'HLT', 'FANG', 'PM', 'AVGO', 'QRVO', 'NWS', 'ETSY', 'GNRC', 'SYF', 'ANET', 'NOW', 'MPC', 'CHTR', 'DG', 'IR', 'WRK', 'HII', 'OTIS', 'LYB', 'V', 'META', 'GEHC', 'KMI']: Exception(\"%ticker%: Data doesn't exist for startDate = 1167627600, endDate = 1199077200\")\n",
      "['BRK.B']: Exception('%ticker%: No timezone found, symbol may be delisted')\n",
      "['BF.B']: Exception('%ticker%: No price data found, symbol may be delisted (1d 2007-01-01 -> 2007-12-31)')\n"
     ]
    },
    {
     "name": "stdout",
     "output_type": "stream",
     "text": [
      "\n"
     ]
    },
    {
     "name": "stderr",
     "output_type": "stream",
     "text": [
      "/var/folders/c0/_1r630sx6bx7dllfq1l9hgrh0000gn/T/ipykernel_53234/1383132826.py:3: FutureWarning: The default fill_method='pad' in DataFrame.pct_change is deprecated and will be removed in a future version. Either fill in any non-leading NA values prior to calling pct_change or specify 'fill_method=None' to not fill NA values.\n",
      "  returns = np.log1p(data[\"Adj Close\"].pct_change())\n"
     ]
    },
    {
     "name": "stdout",
     "output_type": "stream",
     "text": [
      "[*********************100%%**********************]  503 of 503 completed"
     ]
    },
    {
     "name": "stderr",
     "output_type": "stream",
     "text": [
      "\n",
      "71 Failed downloads:\n",
      "['KHC', 'CARR', 'NWSA', 'HPE', 'CZR', 'CTLT', 'PAYC', 'INVH', 'ENPH', 'FLT', 'FTNT', 'FOXA', 'ALLE', 'TRGP', 'PYPL', 'PANW', 'VICI', 'CTVA', 'KVUE', 'ABBV', 'XYL', 'CEG', 'CDAY', 'GM', 'MRNA', 'CFG', 'ZTS', 'SEDG', 'ABNB', 'APTV', 'CBOE', 'CDW', 'IQV', 'NCLH', 'HWM', 'KEYS', 'HCA', 'EPAM', 'VLTO', 'VRSK', 'DOW', 'AMCR', 'LW', 'FOX', 'FTV', 'NXPI', 'TSLA', 'PSX', 'FANG', 'HLT', 'AVGO', 'QRVO', 'NWS', 'ETSY', 'GNRC', 'MPC', 'ANET', 'SYF', 'NOW', 'CHTR', 'DG', 'IR', 'WRK', 'OTIS', 'HII', 'LYB', 'META', 'GEHC', 'KMI']: Exception(\"%ticker%: Data doesn't exist for startDate = 1199163600, endDate = 1230699600\")\n",
      "['BRK.B']: Exception('%ticker%: No timezone found, symbol may be delisted')\n",
      "['BF.B']: Exception('%ticker%: No price data found, symbol may be delisted (1d 2008-01-01 -> 2008-12-31)')\n"
     ]
    },
    {
     "name": "stdout",
     "output_type": "stream",
     "text": [
      "\n"
     ]
    },
    {
     "name": "stderr",
     "output_type": "stream",
     "text": [
      "/var/folders/c0/_1r630sx6bx7dllfq1l9hgrh0000gn/T/ipykernel_53234/1383132826.py:3: FutureWarning: The default fill_method='pad' in DataFrame.pct_change is deprecated and will be removed in a future version. Either fill in any non-leading NA values prior to calling pct_change or specify 'fill_method=None' to not fill NA values.\n",
      "  returns = np.log1p(data[\"Adj Close\"].pct_change())\n"
     ]
    },
    {
     "name": "stdout",
     "output_type": "stream",
     "text": [
      "[*********************100%%**********************]  503 of 503 completed"
     ]
    },
    {
     "name": "stderr",
     "output_type": "stream",
     "text": [
      "\n",
      "67 Failed downloads:\n",
      "['KHC', 'CARR', 'HPE', 'NWSA', 'CZR', 'CTLT', 'PAYC', 'INVH', 'ENPH', 'FLT', 'FOXA', 'ALLE', 'TRGP', 'VICI', 'PYPL', 'CTVA', 'PANW', 'KVUE', 'ABBV', 'CEG', 'XYL', 'GM', 'CDAY', 'MRNA', 'CFG', 'ZTS', 'SEDG', 'ABNB', 'APTV', 'CBOE', 'CDW', 'IQV', 'NCLH', 'HWM', 'KEYS', 'HCA', 'VLTO', 'EPAM', 'DOW', 'AMCR', 'LW', 'FOX', 'FTV', 'NXPI', 'TSLA', 'PSX', 'HLT', 'FANG', 'QRVO', 'NWS', 'ETSY', 'GNRC', 'ANET', 'NOW', 'MPC', 'SYF', 'CHTR', 'IR', 'WRK', 'OTIS', 'HII', 'LYB', 'META', 'GEHC', 'KMI']: Exception(\"%ticker%: Data doesn't exist for startDate = 1230786000, endDate = 1262235600\")\n",
      "['BRK.B']: Exception('%ticker%: No timezone found, symbol may be delisted')\n",
      "['BF.B']: Exception('%ticker%: No price data found, symbol may be delisted (1d 2009-01-01 -> 2009-12-31)')\n"
     ]
    },
    {
     "name": "stdout",
     "output_type": "stream",
     "text": [
      "\n"
     ]
    },
    {
     "name": "stderr",
     "output_type": "stream",
     "text": [
      "/var/folders/c0/_1r630sx6bx7dllfq1l9hgrh0000gn/T/ipykernel_53234/1383132826.py:3: FutureWarning: The default fill_method='pad' in DataFrame.pct_change is deprecated and will be removed in a future version. Either fill in any non-leading NA values prior to calling pct_change or specify 'fill_method=None' to not fill NA values.\n",
      "  returns = np.log1p(data[\"Adj Close\"].pct_change())\n"
     ]
    },
    {
     "name": "stdout",
     "output_type": "stream",
     "text": [
      "[*********************100%%**********************]  503 of 503 completed"
     ]
    },
    {
     "name": "stderr",
     "output_type": "stream",
     "text": [
      "\n",
      "58 Failed downloads:\n",
      "['KHC', 'CARR', 'NWSA', 'CZR', 'HPE', 'CTLT', 'PAYC', 'INVH', 'ENPH', 'FOXA', 'ALLE', 'VICI', 'PANW', 'PYPL', 'CTVA', 'ABBV', 'KVUE', 'XYL', 'CEG', 'CDAY', 'MRNA', 'CFG', 'ZTS', 'SEDG', 'ABNB', 'APTV', 'CDW', 'IQV', 'NCLH', 'HWM', 'KEYS', 'HCA', 'VLTO', 'EPAM', 'AMCR', 'DOW', 'LW', 'FOX', 'FTV', 'PSX', 'FANG', 'QRVO', 'HLT', 'NWS', 'ETSY', 'MPC', 'SYF', 'ANET', 'NOW', 'IR', 'WRK', 'OTIS', 'HII', 'META', 'GEHC', 'KMI']: Exception(\"%ticker%: Data doesn't exist for startDate = 1262322000, endDate = 1293771600\")\n",
      "['BRK.B']: Exception('%ticker%: No timezone found, symbol may be delisted')\n",
      "['BF.B']: Exception('%ticker%: No price data found, symbol may be delisted (1d 2010-01-01 -> 2010-12-31)')\n"
     ]
    },
    {
     "name": "stdout",
     "output_type": "stream",
     "text": [
      "\n"
     ]
    },
    {
     "name": "stderr",
     "output_type": "stream",
     "text": [
      "/var/folders/c0/_1r630sx6bx7dllfq1l9hgrh0000gn/T/ipykernel_53234/1383132826.py:3: FutureWarning: The default fill_method='pad' in DataFrame.pct_change is deprecated and will be removed in a future version. Either fill in any non-leading NA values prior to calling pct_change or specify 'fill_method=None' to not fill NA values.\n",
      "  returns = np.log1p(data[\"Adj Close\"].pct_change())\n"
     ]
    },
    {
     "name": "stdout",
     "output_type": "stream",
     "text": [
      "[*********************100%%**********************]  503 of 503 completed"
     ]
    },
    {
     "name": "stderr",
     "output_type": "stream",
     "text": [
      "\n",
      "52 Failed downloads:\n",
      "['KHC', 'NWSA', 'CARR', 'CZR', 'HPE', 'CTLT', 'PAYC', 'ENPH', 'INVH', 'FOXA', 'ALLE', 'PYPL', 'PANW', 'CTVA', 'VICI', 'KVUE', 'ABBV', 'CEG', 'CDAY', 'MRNA', 'CFG', 'ZTS', 'SEDG', 'ABNB', 'CDW', 'IQV', 'NCLH', 'HWM', 'KEYS', 'EPAM', 'VLTO', 'DOW', 'AMCR', 'LW', 'FOX', 'FTV', 'PSX', 'HLT', 'FANG', 'QRVO', 'NWS', 'ETSY', 'NOW', 'ANET', 'SYF', 'IR', 'WRK', 'OTIS', 'META', 'GEHC']: Exception(\"%ticker%: Data doesn't exist for startDate = 1293858000, endDate = 1325307600\")\n",
      "['BRK.B']: Exception('%ticker%: No timezone found, symbol may be delisted')\n",
      "['BF.B']: Exception('%ticker%: No price data found, symbol may be delisted (1d 2011-01-01 -> 2011-12-31)')\n"
     ]
    },
    {
     "name": "stdout",
     "output_type": "stream",
     "text": [
      "\n"
     ]
    },
    {
     "name": "stderr",
     "output_type": "stream",
     "text": [
      "/var/folders/c0/_1r630sx6bx7dllfq1l9hgrh0000gn/T/ipykernel_53234/1383132826.py:3: FutureWarning: The default fill_method='pad' in DataFrame.pct_change is deprecated and will be removed in a future version. Either fill in any non-leading NA values prior to calling pct_change or specify 'fill_method=None' to not fill NA values.\n",
      "  returns = np.log1p(data[\"Adj Close\"].pct_change())\n"
     ]
    },
    {
     "name": "stdout",
     "output_type": "stream",
     "text": [
      "[*********************100%%**********************]  503 of 503 completed"
     ]
    },
    {
     "name": "stderr",
     "output_type": "stream",
     "text": [
      "\n",
      "44 Failed downloads:\n",
      "['KHC', 'CARR', 'CZR', 'NWSA', 'HPE', 'CTLT', 'PAYC', 'INVH', 'FOXA', 'ALLE', 'PYPL', 'CTVA', 'VICI', 'KVUE', 'ABBV', 'CEG', 'CDAY', 'MRNA', 'CFG', 'ZTS', 'SEDG', 'ABNB', 'CDW', 'IQV', 'NCLH', 'HWM', 'KEYS', 'VLTO', 'DOW', 'LW', 'FOX', 'FTV', 'QRVO', 'HLT', 'NWS', 'ETSY', 'SYF', 'ANET', 'IR', 'WRK', 'OTIS', 'GEHC']: Exception(\"%ticker%: Data doesn't exist for startDate = 1325394000, endDate = 1356930000\")\n",
      "['BRK.B']: Exception('%ticker%: No timezone found, symbol may be delisted')\n",
      "['BF.B']: Exception('%ticker%: No price data found, symbol may be delisted (1d 2012-01-01 -> 2012-12-31)')\n"
     ]
    },
    {
     "name": "stdout",
     "output_type": "stream",
     "text": [
      "\n"
     ]
    },
    {
     "name": "stderr",
     "output_type": "stream",
     "text": [
      "/var/folders/c0/_1r630sx6bx7dllfq1l9hgrh0000gn/T/ipykernel_53234/1383132826.py:3: FutureWarning: The default fill_method='pad' in DataFrame.pct_change is deprecated and will be removed in a future version. Either fill in any non-leading NA values prior to calling pct_change or specify 'fill_method=None' to not fill NA values.\n",
      "  returns = np.log1p(data[\"Adj Close\"].pct_change())\n"
     ]
    },
    {
     "name": "stdout",
     "output_type": "stream",
     "text": [
      "[*********************100%%**********************]  503 of 503 completed"
     ]
    },
    {
     "name": "stderr",
     "output_type": "stream",
     "text": [
      "\n",
      "35 Failed downloads:\n",
      "['KHC', 'HPE', 'CZR', 'CARR', 'CTLT', 'PAYC', 'INVH', 'FOXA', 'PYPL', 'VICI', 'CTVA', 'KVUE', 'CEG', 'CDAY', 'MRNA', 'CFG', 'SEDG', 'ABNB', 'HWM', 'KEYS', 'VLTO', 'DOW', 'LW', 'FOX', 'FTV', 'QRVO', 'ETSY', 'ANET', 'SYF', 'IR', 'WRK', 'OTIS', 'GEHC']: Exception(\"%ticker%: Data doesn't exist for startDate = 1357016400, endDate = 1388466000\")\n",
      "['BRK.B']: Exception('%ticker%: No timezone found, symbol may be delisted')\n",
      "['BF.B']: Exception('%ticker%: No price data found, symbol may be delisted (1d 2013-01-01 -> 2013-12-31)')\n"
     ]
    },
    {
     "name": "stdout",
     "output_type": "stream",
     "text": [
      "\n"
     ]
    },
    {
     "name": "stderr",
     "output_type": "stream",
     "text": [
      "/var/folders/c0/_1r630sx6bx7dllfq1l9hgrh0000gn/T/ipykernel_53234/1383132826.py:3: FutureWarning: The default fill_method='pad' in DataFrame.pct_change is deprecated and will be removed in a future version. Either fill in any non-leading NA values prior to calling pct_change or specify 'fill_method=None' to not fill NA values.\n",
      "  returns = np.log1p(data[\"Adj Close\"].pct_change())\n"
     ]
    },
    {
     "name": "stdout",
     "output_type": "stream",
     "text": [
      "[*********************100%%**********************]  503 of 503 completed"
     ]
    },
    {
     "name": "stderr",
     "output_type": "stream",
     "text": [
      "\n",
      "28 Failed downloads:\n",
      "['KHC', 'CARR', 'HPE', 'INVH', 'FOXA', 'PYPL', 'VICI', 'CTVA', 'KVUE', 'CEG', 'CDAY', 'MRNA', 'SEDG', 'ABNB', 'HWM', 'VLTO', 'DOW', 'LW', 'FOX', 'FTV', 'QRVO', 'ETSY', 'IR', 'WRK', 'OTIS', 'GEHC']: Exception(\"%ticker%: Data doesn't exist for startDate = 1388552400, endDate = 1420002000\")\n",
      "['BRK.B']: Exception('%ticker%: No timezone found, symbol may be delisted')\n",
      "['BF.B']: Exception('%ticker%: No price data found, symbol may be delisted (1d 2014-01-01 -> 2014-12-31)')\n"
     ]
    },
    {
     "name": "stdout",
     "output_type": "stream",
     "text": [
      "\n"
     ]
    },
    {
     "name": "stderr",
     "output_type": "stream",
     "text": [
      "/var/folders/c0/_1r630sx6bx7dllfq1l9hgrh0000gn/T/ipykernel_53234/1383132826.py:3: FutureWarning: The default fill_method='pad' in DataFrame.pct_change is deprecated and will be removed in a future version. Either fill in any non-leading NA values prior to calling pct_change or specify 'fill_method=None' to not fill NA values.\n",
      "  returns = np.log1p(data[\"Adj Close\"].pct_change())\n"
     ]
    },
    {
     "name": "stdout",
     "output_type": "stream",
     "text": [
      "[*********************100%%**********************]  503 of 503 completed"
     ]
    },
    {
     "name": "stderr",
     "output_type": "stream",
     "text": [
      "\n",
      "21 Failed downloads:\n",
      "['CARR', 'INVH', 'FOXA', 'VICI', 'KVUE', 'CTVA', 'CEG', 'CDAY', 'MRNA', 'ABNB', 'HWM', 'VLTO', 'DOW', 'LW', 'FOX', 'FTV', 'IR', 'OTIS', 'GEHC']: Exception(\"%ticker%: Data doesn't exist for startDate = 1420088400, endDate = 1451538000\")\n",
      "['BRK.B']: Exception('%ticker%: No timezone found, symbol may be delisted')\n",
      "['BF.B']: Exception('%ticker%: No price data found, symbol may be delisted (1d 2015-01-01 -> 2015-12-31)')\n"
     ]
    },
    {
     "name": "stdout",
     "output_type": "stream",
     "text": [
      "\n"
     ]
    },
    {
     "name": "stderr",
     "output_type": "stream",
     "text": [
      "/var/folders/c0/_1r630sx6bx7dllfq1l9hgrh0000gn/T/ipykernel_53234/1383132826.py:3: FutureWarning: The default fill_method='pad' in DataFrame.pct_change is deprecated and will be removed in a future version. Either fill in any non-leading NA values prior to calling pct_change or specify 'fill_method=None' to not fill NA values.\n",
      "  returns = np.log1p(data[\"Adj Close\"].pct_change())\n"
     ]
    },
    {
     "name": "stdout",
     "output_type": "stream",
     "text": [
      "[*********************100%%**********************]  503 of 503 completed"
     ]
    },
    {
     "name": "stderr",
     "output_type": "stream",
     "text": [
      "\n",
      "18 Failed downloads:\n",
      "['CARR', 'INVH', 'FOXA', 'VICI', 'CTVA', 'KVUE', 'CEG', 'CDAY', 'MRNA', 'ABNB', 'VLTO', 'DOW', 'FOX', 'IR', 'OTIS', 'GEHC']: Exception(\"%ticker%: Data doesn't exist for startDate = 1451624400, endDate = 1483160400\")\n",
      "['BRK.B']: Exception('%ticker%: No timezone found, symbol may be delisted')\n",
      "['BF.B']: Exception('%ticker%: No price data found, symbol may be delisted (1d 2016-01-01 -> 2016-12-31)')\n"
     ]
    },
    {
     "name": "stdout",
     "output_type": "stream",
     "text": [
      "\n"
     ]
    },
    {
     "name": "stderr",
     "output_type": "stream",
     "text": [
      "/var/folders/c0/_1r630sx6bx7dllfq1l9hgrh0000gn/T/ipykernel_53234/1383132826.py:3: FutureWarning: The default fill_method='pad' in DataFrame.pct_change is deprecated and will be removed in a future version. Either fill in any non-leading NA values prior to calling pct_change or specify 'fill_method=None' to not fill NA values.\n",
      "  returns = np.log1p(data[\"Adj Close\"].pct_change())\n"
     ]
    },
    {
     "name": "stdout",
     "output_type": "stream",
     "text": [
      "[*********************100%%**********************]  503 of 503 completed"
     ]
    },
    {
     "name": "stderr",
     "output_type": "stream",
     "text": [
      "\n",
      "16 Failed downloads:\n",
      "['CARR', 'FOXA', 'VICI', 'CTVA', 'KVUE', 'CEG', 'CDAY', 'MRNA', 'ABNB', 'VLTO', 'DOW', 'FOX', 'OTIS', 'GEHC']: Exception(\"%ticker%: Data doesn't exist for startDate = 1483246800, endDate = 1514696400\")\n",
      "['BRK.B']: Exception('%ticker%: No timezone found, symbol may be delisted')\n",
      "['BF.B']: Exception('%ticker%: No price data found, symbol may be delisted (1d 2017-01-01 -> 2017-12-31)')\n"
     ]
    },
    {
     "name": "stdout",
     "output_type": "stream",
     "text": [
      "\n"
     ]
    },
    {
     "name": "stderr",
     "output_type": "stream",
     "text": [
      "/var/folders/c0/_1r630sx6bx7dllfq1l9hgrh0000gn/T/ipykernel_53234/1383132826.py:3: FutureWarning: The default fill_method='pad' in DataFrame.pct_change is deprecated and will be removed in a future version. Either fill in any non-leading NA values prior to calling pct_change or specify 'fill_method=None' to not fill NA values.\n",
      "  returns = np.log1p(data[\"Adj Close\"].pct_change())\n"
     ]
    },
    {
     "name": "stdout",
     "output_type": "stream",
     "text": [
      "[*********************100%%**********************]  503 of 503 completed"
     ]
    },
    {
     "name": "stderr",
     "output_type": "stream",
     "text": [
      "\n",
      "13 Failed downloads:\n",
      "['CARR', 'FOXA', 'CTVA', 'KVUE', 'CEG', 'ABNB', 'VLTO', 'DOW', 'FOX', 'OTIS', 'GEHC']: Exception(\"%ticker%: Data doesn't exist for startDate = 1514782800, endDate = 1546232400\")\n",
      "['BRK.B']: Exception('%ticker%: No timezone found, symbol may be delisted')\n",
      "['BF.B']: Exception('%ticker%: No price data found, symbol may be delisted (1d 2018-01-01 -> 2018-12-31)')\n"
     ]
    },
    {
     "name": "stdout",
     "output_type": "stream",
     "text": [
      "\n"
     ]
    },
    {
     "name": "stderr",
     "output_type": "stream",
     "text": [
      "/var/folders/c0/_1r630sx6bx7dllfq1l9hgrh0000gn/T/ipykernel_53234/1383132826.py:3: FutureWarning: The default fill_method='pad' in DataFrame.pct_change is deprecated and will be removed in a future version. Either fill in any non-leading NA values prior to calling pct_change or specify 'fill_method=None' to not fill NA values.\n",
      "  returns = np.log1p(data[\"Adj Close\"].pct_change())\n"
     ]
    },
    {
     "name": "stdout",
     "output_type": "stream",
     "text": [
      "[*********************100%%**********************]  503 of 503 completed"
     ]
    },
    {
     "name": "stderr",
     "output_type": "stream",
     "text": [
      "\n",
      "9 Failed downloads:\n",
      "['CARR', 'KVUE', 'CEG', 'ABNB', 'VLTO', 'OTIS', 'GEHC']: Exception(\"%ticker%: Data doesn't exist for startDate = 1546318800, endDate = 1577768400\")\n",
      "['BRK.B']: Exception('%ticker%: No timezone found, symbol may be delisted')\n",
      "['BF.B']: Exception('%ticker%: No price data found, symbol may be delisted (1d 2019-01-01 -> 2019-12-31)')\n"
     ]
    },
    {
     "name": "stdout",
     "output_type": "stream",
     "text": [
      "\n"
     ]
    },
    {
     "name": "stderr",
     "output_type": "stream",
     "text": [
      "/var/folders/c0/_1r630sx6bx7dllfq1l9hgrh0000gn/T/ipykernel_53234/1383132826.py:3: FutureWarning: The default fill_method='pad' in DataFrame.pct_change is deprecated and will be removed in a future version. Either fill in any non-leading NA values prior to calling pct_change or specify 'fill_method=None' to not fill NA values.\n",
      "  returns = np.log1p(data[\"Adj Close\"].pct_change())\n"
     ]
    },
    {
     "name": "stdout",
     "output_type": "stream",
     "text": [
      "[*********************100%%**********************]  503 of 503 completed"
     ]
    },
    {
     "name": "stderr",
     "output_type": "stream",
     "text": [
      "\n",
      "6 Failed downloads:\n",
      "['KVUE', 'CEG', 'VLTO', 'GEHC']: Exception(\"%ticker%: Data doesn't exist for startDate = 1577854800, endDate = 1609390800\")\n",
      "['BRK.B']: Exception('%ticker%: No timezone found, symbol may be delisted')\n",
      "['BF.B']: Exception('%ticker%: No price data found, symbol may be delisted (1d 2020-01-01 -> 2020-12-31)')\n"
     ]
    },
    {
     "name": "stdout",
     "output_type": "stream",
     "text": [
      "\n"
     ]
    },
    {
     "name": "stderr",
     "output_type": "stream",
     "text": [
      "/var/folders/c0/_1r630sx6bx7dllfq1l9hgrh0000gn/T/ipykernel_53234/1383132826.py:3: FutureWarning: The default fill_method='pad' in DataFrame.pct_change is deprecated and will be removed in a future version. Either fill in any non-leading NA values prior to calling pct_change or specify 'fill_method=None' to not fill NA values.\n",
      "  returns = np.log1p(data[\"Adj Close\"].pct_change())\n"
     ]
    },
    {
     "name": "stdout",
     "output_type": "stream",
     "text": [
      "[*********************100%%**********************]  503 of 503 completed"
     ]
    },
    {
     "name": "stderr",
     "output_type": "stream",
     "text": [
      "\n",
      "6 Failed downloads:\n",
      "['KVUE', 'CEG', 'VLTO', 'GEHC']: Exception(\"%ticker%: Data doesn't exist for startDate = 1609477200, endDate = 1640926800\")\n",
      "['BRK.B']: Exception('%ticker%: No timezone found, symbol may be delisted')\n",
      "['BF.B']: Exception('%ticker%: No price data found, symbol may be delisted (1d 2021-01-01 -> 2021-12-31)')\n"
     ]
    },
    {
     "name": "stdout",
     "output_type": "stream",
     "text": [
      "\n"
     ]
    },
    {
     "name": "stderr",
     "output_type": "stream",
     "text": [
      "/var/folders/c0/_1r630sx6bx7dllfq1l9hgrh0000gn/T/ipykernel_53234/1383132826.py:3: FutureWarning: The default fill_method='pad' in DataFrame.pct_change is deprecated and will be removed in a future version. Either fill in any non-leading NA values prior to calling pct_change or specify 'fill_method=None' to not fill NA values.\n",
      "  returns = np.log1p(data[\"Adj Close\"].pct_change())\n"
     ]
    },
    {
     "name": "stdout",
     "output_type": "stream",
     "text": [
      "[*********************100%%**********************]  503 of 503 completed"
     ]
    },
    {
     "name": "stderr",
     "output_type": "stream",
     "text": [
      "\n",
      "4 Failed downloads:\n",
      "['KVUE', 'VLTO']: Exception(\"%ticker%: Data doesn't exist for startDate = 1641013200, endDate = 1672462800\")\n",
      "['BRK.B']: Exception('%ticker%: No timezone found, symbol may be delisted')\n",
      "['BF.B']: Exception('%ticker%: No price data found, symbol may be delisted (1d 2022-01-01 -> 2022-12-31)')\n"
     ]
    },
    {
     "name": "stdout",
     "output_type": "stream",
     "text": [
      "\n"
     ]
    },
    {
     "name": "stderr",
     "output_type": "stream",
     "text": [
      "/var/folders/c0/_1r630sx6bx7dllfq1l9hgrh0000gn/T/ipykernel_53234/1383132826.py:3: FutureWarning: The default fill_method='pad' in DataFrame.pct_change is deprecated and will be removed in a future version. Either fill in any non-leading NA values prior to calling pct_change or specify 'fill_method=None' to not fill NA values.\n",
      "  returns = np.log1p(data[\"Adj Close\"].pct_change())\n"
     ]
    }
   ],
   "source": [
    "for year in range(2000, 2023):\n",
    "    corr,_,p = returns_autocorrelation(list(symbols), f\"{year}-01-01\", f\"{year}-12-31\",\\\n",
    "        filename=f\"rcd-{year}.csv\")\n",
    "    if year == 2000:\n",
    "        measured_p = np.sum(p != np.nan, axis=0)\n",
    "        sig_p = np.sum(p < 0.05, axis=0)\n",
    "    else:\n",
    "        measured_p += np.sum(p != np.nan, axis=0)\n",
    "        sig_p += np.sum(p < 0.05, axis=0)"
   ]
  },
  {
   "cell_type": "code",
   "execution_count": 26,
   "metadata": {},
   "outputs": [
    {
     "data": {
      "text/plain": [
       "Returns Autocorrelation P Value           Lag 1    10255\n",
       "                                          Lag 2    10255\n",
       "                                          Lag 3    10255\n",
       "                                          Lag 4    10255\n",
       "                                          Lag 5    10255\n",
       "Squared Returns Autocorrelation P Value   Lag 1    10255\n",
       "                                          Lag 2    10255\n",
       "                                          Lag 3    10255\n",
       "                                          Lag 4    10255\n",
       "                                          Lag 5    10255\n",
       "Absolute Returns Autocorrelation P Value  Lag 1    10255\n",
       "                                          Lag 2    10255\n",
       "                                          Lag 3    10255\n",
       "                                          Lag 4    10255\n",
       "                                          Lag 5    10255\n",
       "dtype: int64"
      ]
     },
     "execution_count": 26,
     "metadata": {},
     "output_type": "execute_result"
    }
   ],
   "source": [
    "measured_p"
   ]
  },
  {
   "cell_type": "code",
   "execution_count": 27,
   "metadata": {},
   "outputs": [
    {
     "data": {
      "text/plain": [
       "Returns Autocorrelation P Value           Lag 1    1554\n",
       "                                          Lag 2    1680\n",
       "                                          Lag 3    1689\n",
       "                                          Lag 4    1702\n",
       "                                          Lag 5    1748\n",
       "Squared Returns Autocorrelation P Value   Lag 1    2920\n",
       "                                          Lag 2    3369\n",
       "                                          Lag 3    3508\n",
       "                                          Lag 4    3597\n",
       "                                          Lag 5    3656\n",
       "Absolute Returns Autocorrelation P Value  Lag 1    4038\n",
       "                                          Lag 2    4488\n",
       "                                          Lag 3    4645\n",
       "                                          Lag 4    4802\n",
       "                                          Lag 5    4815\n",
       "dtype: int64"
      ]
     },
     "execution_count": 27,
     "metadata": {},
     "output_type": "execute_result"
    }
   ],
   "source": [
    "sig_p"
   ]
  },
  {
   "cell_type": "code",
   "execution_count": 28,
   "metadata": {},
   "outputs": [],
   "source": [
    "import ipywidgets as widgets\n",
    "from ipywidgets import interact, fixed\n",
    "from IPython.display import display"
   ]
  },
  {
   "cell_type": "code",
   "execution_count": 29,
   "metadata": {},
   "outputs": [],
   "source": [
    "from statsmodels.graphics.tsaplots import plot_acf, plot_pacf\n",
    "import yfinance as yf\n",
    "import matplotlib.pyplot as plt\n",
    "import numpy as np\n",
    "def plot_sqr_returns_autocorrelation(ticker, transform, year, lags):\n",
    "    match transform:\n",
    "        case \"Returns\":\n",
    "            t = lambda x: x\n",
    "        case \"Squared Returns\":\n",
    "            t = lambda x: x**2\n",
    "        case \"Absolute Returns\":\n",
    "            t = lambda x: abs(x)\n",
    "    start = f\"{year}-01-01\"\n",
    "    end = f\"{year}-12-31\"\n",
    "    data = yf.download(ticker, start=start, end=end)\n",
    "    returns = np.log1p(data[\"Adj Close\"].pct_change())\n",
    "    plot_acf(t(returns).dropna(), lags=lags)"
   ]
  },
  {
   "cell_type": "code",
   "execution_count": 30,
   "metadata": {},
   "outputs": [],
   "source": [
    "ticker_text = widgets.Text(\n",
    "    value=\"^GSPC\",\n",
    "    placeholder=\"Ticker Symbol\"\n",
    ")\n",
    "year_text = widgets.BoundedIntText(\n",
    "    value=2000,\n",
    "    min=1970,\n",
    "    max=2022\n",
    ")\n",
    "lags_text = widgets.BoundedIntText(\n",
    "    value=5,\n",
    "    min=3,\n",
    "    max=100\n",
    ")\n",
    "transform_select = widgets.Select(options=[\"Returns\", \"Squared Returns\", \"Absolute Returns\"])"
   ]
  },
  {
   "cell_type": "code",
   "execution_count": 31,
   "metadata": {},
   "outputs": [
    {
     "data": {
      "application/vnd.jupyter.widget-view+json": {
       "model_id": "0fcb7c7ce7cc490390083b3f3c1e1783",
       "version_major": 2,
       "version_minor": 0
      },
      "text/plain": [
       "interactive(children=(Text(value='^GSPC', description='ticker', placeholder='Ticker Symbol'), Select(descripti…"
      ]
     },
     "metadata": {},
     "output_type": "display_data"
    }
   ],
   "source": [
    "_ = interact(plot_sqr_returns_autocorrelation,\n",
    "            ticker = ticker_text,\n",
    "            year = year_text,\n",
    "            lags = lags_text,\n",
    "            transform = transform_select)"
   ]
  },
  {
   "cell_type": "code",
   "execution_count": null,
   "metadata": {},
   "outputs": [],
   "source": []
  }
 ],
 "metadata": {
  "kernelspec": {
   "display_name": "arm_venv",
   "language": "python",
   "name": "python3"
  },
  "language_info": {
   "codemirror_mode": {
    "name": "ipython",
    "version": 3
   },
   "file_extension": ".py",
   "mimetype": "text/x-python",
   "name": "python",
   "nbconvert_exporter": "python",
   "pygments_lexer": "ipython3",
   "version": "3.10.9"
  }
 },
 "nbformat": 4,
 "nbformat_minor": 2
}
